{
  "nbformat": 4,
  "nbformat_minor": 0,
  "metadata": {
    "colab": {
      "name": "week07_practice_03-6_회귀.ipynb",
      "provenance": [],
      "collapsed_sections": []
    },
    "kernelspec": {
      "name": "python3",
      "display_name": "Python 3"
    },
    "language_info": {
      "name": "python"
    }
  },
  "cells": [
    {
      "cell_type": "markdown",
      "metadata": {
        "id": "4JQT3ee9VDIB"
      },
      "source": [
        "# Deep learning with Python\n",
        "\n",
        "# 03. Getting started with neural networks"
      ]
    },
    {
      "cell_type": "markdown",
      "metadata": {
        "id": "TJTfvVUZVJLl"
      },
      "source": [
        "# 3.6 회귀 문제 : 보스턴 주택 가격 데이터셋을 이용한 가격 예측"
      ]
    },
    {
      "cell_type": "markdown",
      "metadata": {
        "id": "Z-8rttL-VSVE"
      },
      "source": [
        "## 데이터 불러오기"
      ]
    },
    {
      "cell_type": "code",
      "metadata": {
        "id": "HAhnJKjqWTlp"
      },
      "source": [
        "from keras.datasets import boston_housing\n",
        "\n",
        "(train_data, train_targets), (test_data, test_targets) = boston_housing.load_data()"
      ],
      "execution_count": 1,
      "outputs": []
    },
    {
      "cell_type": "code",
      "metadata": {
        "colab": {
          "base_uri": "https://localhost:8080/"
        },
        "id": "pKwawCB7Whga",
        "outputId": "09ecfbdd-3a01-4192-8ec5-e533172c7278"
      },
      "source": [
        "print(train_data.shape)\n",
        "print(train_targets.shape)\n",
        "print(test_data.shape)\n",
        "print(train_targets.shape)"
      ],
      "execution_count": 2,
      "outputs": [
        {
          "output_type": "stream",
          "text": [
            "(404, 13)\n",
            "(404,)\n",
            "(102, 13)\n",
            "(404,)\n"
          ],
          "name": "stdout"
        }
      ]
    },
    {
      "cell_type": "code",
      "metadata": {
        "colab": {
          "base_uri": "https://localhost:8080/"
        },
        "id": "q7sBtXzxWl7Q",
        "outputId": "eceed676-5ddd-41d5-dcd1-3b345aeba4fe"
      },
      "source": [
        "train_data[0]"
      ],
      "execution_count": 3,
      "outputs": [
        {
          "output_type": "execute_result",
          "data": {
            "text/plain": [
              "array([  1.23247,   0.     ,   8.14   ,   0.     ,   0.538  ,   6.142  ,\n",
              "        91.7    ,   3.9769 ,   4.     , 307.     ,  21.     , 396.9    ,\n",
              "        18.72   ])"
            ]
          },
          "metadata": {
            "tags": []
          },
          "execution_count": 3
        }
      ]
    },
    {
      "cell_type": "code",
      "metadata": {
        "colab": {
          "base_uri": "https://localhost:8080/"
        },
        "id": "6YhR7bNAWnDJ",
        "outputId": "4e7bdc58-e40a-4133-9703-3d61e1d58949"
      },
      "source": [
        "train_targets[0:10]"
      ],
      "execution_count": 4,
      "outputs": [
        {
          "output_type": "execute_result",
          "data": {
            "text/plain": [
              "array([15.2, 42.3, 50. , 21.1, 17.7, 18.5, 11.3, 15.6, 15.6, 14.4])"
            ]
          },
          "metadata": {
            "tags": []
          },
          "execution_count": 4
        }
      ]
    },
    {
      "cell_type": "markdown",
      "metadata": {
        "id": "yjETA9tJWs1_"
      },
      "source": [
        "변수 특성은 다음과 같습니다.\n",
        "\n",
        "1. Per capita crime rate.\n",
        "2. Proportion of residential land zoned for lots over 25,000 square feet.\n",
        "3. Proportion of non-retail business acres per town.\n",
        "4. Charles River dummy variable (= 1 if tract bounds river; 0 otherwise).\n",
        "5. Nitric oxides concentration (parts per 10 million).\n",
        "6. Average number of rooms per dwelling.\n",
        "7. Proportion of owner-occupied units built prior to 1940.\n",
        "8. Weighted distances to five Boston employment centres.\n",
        "9. Index of accessibility to radial highways.\n",
        "10. Full-value property-tax rate per $10,000.\n",
        "11. Pupil-teacher ratio by town.\n",
        "12. 1000 * (Bk - 0.63) ** 2 where Bk is the proportion of Black people by town.\n",
        "13. % lower status of the population.\n",
        "\n",
        "타깃은 주택의 중간 가격으로 천달러 단위입니다"
      ]
    },
    {
      "cell_type": "markdown",
      "metadata": {
        "id": "fr5khdksW4Ko"
      },
      "source": [
        "이제 기후 변화로 해안가 근처의 집들의 가격이 내려가고 있다던데 나중엔 이런 집값 관련 예제 데이터도 바뀌겠네"
      ]
    },
    {
      "cell_type": "markdown",
      "metadata": {
        "id": "20-VKi3lWzzO"
      },
      "source": [
        "## 데이터 준비\n",
        "\n",
        "변수의 스케일이 다르기 때문에 표준화 or 정규화 등의 방법을 이용해 스케일을 맞춰준다"
      ]
    },
    {
      "cell_type": "code",
      "metadata": {
        "id": "0Dn0GBNIX1mc"
      },
      "source": [
        "import numpy as np"
      ],
      "execution_count": 5,
      "outputs": []
    },
    {
      "cell_type": "code",
      "metadata": {
        "id": "X2B2UZOpXD-j"
      },
      "source": [
        "# 표준화 class 생성\n",
        "\n",
        "class Scaler:\n",
        "\n",
        "    def __init__(self):\n",
        "        self.mean = 0\n",
        "        self.std = 0\n",
        "\n",
        "    def fit(self, data):\n",
        "        self.mean = np.mean(data, axis = 0)\n",
        "        self.std = np.std(data, axis = 0)\n",
        "\n",
        "    def transform(self, data):\n",
        "        result = (data - self.mean) / self.std\n",
        "        return result\n",
        "\n",
        "    def invernse_transform(self, data):\n",
        "        result = data * self.std + self.mean\n",
        "        return result"
      ],
      "execution_count": 6,
      "outputs": []
    },
    {
      "cell_type": "code",
      "metadata": {
        "id": "0iV6t4CSYCmT"
      },
      "source": [
        "# data와 target을 각각 표준화해준다.\n",
        "\n",
        "x_scaler = Scaler()\n",
        "\n",
        "x_scaler.fit(train_data)\n",
        "\n",
        "std_train_data = x_scaler.transform(train_data)\n",
        "std_test_data = x_scaler.transform(test_data)\n",
        "\n",
        "\n",
        "y_scaler = Scaler()\n",
        "\n",
        "y_scaler.fit(train_targets)\n",
        "\n",
        "std_train_targets = y_scaler.transform(train_targets)\n",
        "std_test_targets = y_scaler.transform(test_targets)"
      ],
      "execution_count": 7,
      "outputs": []
    },
    {
      "cell_type": "code",
      "metadata": {
        "colab": {
          "base_uri": "https://localhost:8080/"
        },
        "id": "rXM8JghdYPOT",
        "outputId": "34da2ea6-9ef9-485a-a319-6e55cdf9e8de"
      },
      "source": [
        "std_train_data[0]"
      ],
      "execution_count": 8,
      "outputs": [
        {
          "output_type": "execute_result",
          "data": {
            "text/plain": [
              "array([-0.27224633, -0.48361547, -0.43576161, -0.25683275, -0.1652266 ,\n",
              "       -0.1764426 ,  0.81306188,  0.1166983 , -0.62624905, -0.59517003,\n",
              "        1.14850044,  0.44807713,  0.8252202 ])"
            ]
          },
          "metadata": {
            "tags": []
          },
          "execution_count": 8
        }
      ]
    },
    {
      "cell_type": "markdown",
      "metadata": {
        "id": "FOqMSnILYQf7"
      },
      "source": [
        "## 모델 구성 및 교차 검증"
      ]
    },
    {
      "cell_type": "code",
      "metadata": {
        "id": "KMYEAibJYa4a"
      },
      "source": [
        "import tensorflow as tf\n",
        "from keras import models, layers\n",
        "\n",
        "def build_model():\n",
        "\n",
        "    tf.random.set_seed(20152410)\n",
        "    model = models.Sequential()\n",
        "    model.add(layers.Dense(64, activation = 'relu', input_shape = (train_data.shape[1], )))\n",
        "    model.add(layers.Dense(64, activation = 'relu'))\n",
        "    model.add(layers.Dense(1))\n",
        "\n",
        "    model.compile(optimizer = 'rmsprop',\n",
        "                  loss = 'mse',\n",
        "                  metrics = ['mae'])\n",
        "    \n",
        "    return model"
      ],
      "execution_count": 9,
      "outputs": []
    },
    {
      "cell_type": "code",
      "metadata": {
        "id": "YHPOEAwZZiL4"
      },
      "source": [
        "def cross_validation_model(train_data, train_targets, cv, epochs):\n",
        "\n",
        "    k = cv\n",
        "    n = train_data.shape[0]\n",
        "    num_val_samples = n // 4\n",
        "    num_epochs = epochs\n",
        "    history_record = []\n",
        "\n",
        "    for i in range(k):\n",
        "        print(\"처리중인 폴드 : {}\".format(i))\n",
        "\n",
        "        # train과 validation의 인덱스 구성\n",
        "        train_sample0 = np.arange(0, i * num_val_samples)\n",
        "        train_sample1 = np.arange((i + 1) * num_val_samples, n)\n",
        "        train_samples = np.concatenate([train_sample0, train_sample1])\n",
        "        val_samples = np.arange(i * num_val_samples, (i + 1) * num_val_samples)\n",
        "        \n",
        "        # train과 validation 구성\n",
        "        x_train = train_data[train_samples]\n",
        "        y_train = train_targets[train_samples]\n",
        "        x_val = train_data[val_samples]\n",
        "        y_val = train_targets[val_samples]\n",
        "\n",
        "        # 모델 학습\n",
        "        model = build_model()\n",
        "        history = model.fit(x_train,\n",
        "                            y_train,\n",
        "                            epochs = num_epochs,\n",
        "                            verbose = 0,\n",
        "                            validation_data = (x_val, y_val))\n",
        "        \n",
        "        history_record.append(history.history)\n",
        "\n",
        "    return history_record"
      ],
      "execution_count": 10,
      "outputs": []
    },
    {
      "cell_type": "code",
      "metadata": {
        "colab": {
          "base_uri": "https://localhost:8080/"
        },
        "id": "sS84fouMijke",
        "outputId": "b86f5122-f35e-4420-b593-5c3b80d8dee3"
      },
      "source": [
        "# epochs를 500으로 지정해서 학습 후 history 확인을 통해 epochs 결정\n",
        "\n",
        "history_record = cross_validation_model(train_data = std_train_data,\n",
        "                                        train_targets = std_train_targets,\n",
        "                                        cv = 4,\n",
        "                                        epochs = 500)"
      ],
      "execution_count": 11,
      "outputs": [
        {
          "output_type": "stream",
          "text": [
            "처리중인 폴드 : 0\n",
            "처리중인 폴드 : 1\n",
            "처리중인 폴드 : 2\n",
            "처리중인 폴드 : 3\n"
          ],
          "name": "stdout"
        }
      ]
    },
    {
      "cell_type": "code",
      "metadata": {
        "id": "ACbb66gTkjzw"
      },
      "source": [
        "def cv_result(history, keys):\n",
        "\n",
        "    n = len(history)\n",
        "    result = np.zeros((len(history[0][keys]), ))\n",
        "    \n",
        "    for i in range(n):\n",
        "        result += np.array(history[i][keys])\n",
        "\n",
        "    result = result / n\n",
        "    return result"
      ],
      "execution_count": 12,
      "outputs": []
    },
    {
      "cell_type": "code",
      "metadata": {
        "id": "LsczqLRNlHx-"
      },
      "source": [
        "cv_loss = cv_result(history_record, keys = \"loss\")\n",
        "cv_mae = cv_result(history_record, keys = \"mae\")\n",
        "cv_val_loss = cv_result(history_record, keys = \"val_loss\")\n",
        "cv_val_mae = cv_result(history_record, keys = \"val_mae\")"
      ],
      "execution_count": 13,
      "outputs": []
    },
    {
      "cell_type": "code",
      "metadata": {
        "id": "u1THF-Ifpfuj"
      },
      "source": [
        "import matplotlib\n",
        "import matplotlib.pyplot as plt"
      ],
      "execution_count": 14,
      "outputs": []
    },
    {
      "cell_type": "code",
      "metadata": {
        "colab": {
          "base_uri": "https://localhost:8080/",
          "height": 297
        },
        "id": "uXL18Zialxwt",
        "outputId": "f1ee1620-c232-479a-94c1-ab0fa0af2f7d"
      },
      "source": [
        "# train loss, validation loss 그래프 확인\n",
        "\n",
        "epochs = np.arange(1, 501)\n",
        "\n",
        "plt.figure(figsize = (8, 4))\n",
        "plt.plot(epochs, cv_loss, 'b-', label = \"train loss\", markersize = 3)\n",
        "plt.plot(epochs, cv_val_loss, 'r-', label = \"val loss\", markersize = 3)\n",
        "\n",
        "plt.title(\"Cross Validation of train and val loss\", fontsize = 15)\n",
        "plt.xlabel(\"Epochs\")\n",
        "plt.ylabel('Loss')\n",
        "plt.legend()\n",
        "\n",
        "plt.tight_layout()\n",
        "plt.show()"
      ],
      "execution_count": 15,
      "outputs": [
        {
          "output_type": "display_data",
          "data": {
            "image/png": "[encoded data removed]",
            "text/plain": [
              "<Figure size 576x288 with 1 Axes>"
            ]
          },
          "metadata": {
            "tags": [],
            "needs_background": "light"
          }
        }
      ]
    },
    {
      "cell_type": "code",
      "metadata": {
        "colab": {
          "base_uri": "https://localhost:8080/",
          "height": 297
        },
        "id": "xd9eyCdHmFWT",
        "outputId": "b3e1cba3-6008-4962-a5a0-9aeb76d0b23c"
      },
      "source": [
        "# train loss, validation loss 그래프 확인\n",
        "\n",
        "epochs = np.arange(1, 501)\n",
        "\n",
        "plt.figure(figsize = (8, 4))\n",
        "plt.plot(epochs, cv_mae, 'b-', label = \"train mae\", markersize = 3)\n",
        "plt.plot(epochs, cv_val_mae, 'r-', label = \"val mae\", markersize = 3)\n",
        "\n",
        "plt.title(\"Cross Validation of train and val mae\", fontsize = 15)\n",
        "plt.xlabel(\"Epochs\")\n",
        "plt.ylabel('Mae')\n",
        "plt.legend()\n",
        "\n",
        "plt.tight_layout()\n",
        "plt.show()"
      ],
      "execution_count": 16,
      "outputs": [
        {
          "output_type": "display_data",
          "data": {
            "image/png": "[encoded data removed]",
            "text/plain": [
              "<Figure size 576x288 with 1 Axes>"
            ]
          },
          "metadata": {
            "tags": [],
            "needs_background": "light"
          }
        }
      ]
    },
    {
      "cell_type": "markdown",
      "metadata": {
        "id": "PpCbDcDWolNM"
      },
      "source": [
        "40 ~ 60 정도만 되도 validation loss와 validation mae는 더 이상 감소하지 않는 것을 확인할 수 있다."
      ]
    },
    {
      "cell_type": "code",
      "metadata": {
        "colab": {
          "base_uri": "https://localhost:8080/"
        },
        "id": "9Tsjd-FHjBXf",
        "outputId": "0f132b02-10ca-460e-accf-7bcc748004d8"
      },
      "source": [
        "np.argmin(cv_val_mae)"
      ],
      "execution_count": 17,
      "outputs": [
        {
          "output_type": "execute_result",
          "data": {
            "text/plain": [
              "52"
            ]
          },
          "metadata": {
            "tags": []
          },
          "execution_count": 17
        }
      ]
    },
    {
      "cell_type": "markdown",
      "metadata": {
        "id": "HcpGtkFdmU4T"
      },
      "source": [
        "52번째 epochs에서 cv validation mae가 가장 작은 값을 기록한다. 따라서 epochs = 52로 최종 모델을 학습하고 난 후 target을 원래의 스케일로 바꿔준 뒤 최종 모델의 성능 평가를 진행하도록 하겠다."
      ]
    },
    {
      "cell_type": "markdown",
      "metadata": {
        "id": "3n9hzetOoZI9"
      },
      "source": [
        "## 최종 모델 학습 및 결과 평가"
      ]
    },
    {
      "cell_type": "code",
      "metadata": {
        "colab": {
          "base_uri": "https://localhost:8080/"
        },
        "id": "iimOogqvmoKB",
        "outputId": "2ef80721-9caf-40eb-f91b-49cc2ea94f1f"
      },
      "source": [
        "model = build_model()\n",
        "\n",
        "# cv 결과로 가장 적합하다고 평가받았던 epochs = 52를 이용하여 모델 학습\n",
        "\n",
        "model.fit(std_train_data,\n",
        "          std_train_targets,\n",
        "          epochs = 52)\n",
        "\n",
        "result = model.evaluate(std_test_data, std_test_targets)"
      ],
      "execution_count": 18,
      "outputs": [
        {
          "output_type": "stream",
          "text": [
            "Epoch 1/52\n",
            "13/13 [==============================] - 1s 2ms/step - loss: 0.7137 - mae: 0.5798\n",
            "Epoch 2/52\n",
            "13/13 [==============================] - 0s 3ms/step - loss: 0.3115 - mae: 0.3640\n",
            "Epoch 3/52\n",
            "13/13 [==============================] - 0s 2ms/step - loss: 0.2677 - mae: 0.3430\n",
            "Epoch 4/52\n",
            "13/13 [==============================] - 0s 2ms/step - loss: 0.2382 - mae: 0.3054\n",
            "Epoch 5/52\n",
            "13/13 [==============================] - 0s 2ms/step - loss: 0.2354 - mae: 0.2931\n",
            "Epoch 6/52\n",
            "13/13 [==============================] - 0s 2ms/step - loss: 0.1759 - mae: 0.2586\n",
            "Epoch 7/52\n",
            "13/13 [==============================] - 0s 3ms/step - loss: 0.1216 - mae: 0.2272\n",
            "Epoch 8/52\n",
            "13/13 [==============================] - 0s 2ms/step - loss: 0.1550 - mae: 0.2461\n",
            "Epoch 9/52\n",
            "13/13 [==============================] - 0s 2ms/step - loss: 0.1235 - mae: 0.2367\n",
            "Epoch 10/52\n",
            "13/13 [==============================] - 0s 2ms/step - loss: 0.1280 - mae: 0.2305\n",
            "Epoch 11/52\n",
            "13/13 [==============================] - 0s 2ms/step - loss: 0.1435 - mae: 0.2241\n",
            "Epoch 12/52\n",
            "13/13 [==============================] - 0s 2ms/step - loss: 0.0886 - mae: 0.1991\n",
            "Epoch 13/52\n",
            "13/13 [==============================] - 0s 2ms/step - loss: 0.0885 - mae: 0.2020\n",
            "Epoch 14/52\n",
            "13/13 [==============================] - 0s 1ms/step - loss: 0.0739 - mae: 0.1897\n",
            "Epoch 15/52\n",
            "13/13 [==============================] - 0s 2ms/step - loss: 0.0756 - mae: 0.1900\n",
            "Epoch 16/52\n",
            "13/13 [==============================] - 0s 2ms/step - loss: 0.0812 - mae: 0.1843\n",
            "Epoch 17/52\n",
            "13/13 [==============================] - 0s 2ms/step - loss: 0.0849 - mae: 0.1929\n",
            "Epoch 18/52\n",
            "13/13 [==============================] - 0s 2ms/step - loss: 0.0588 - mae: 0.1780\n",
            "Epoch 19/52\n",
            "13/13 [==============================] - 0s 2ms/step - loss: 0.0700 - mae: 0.1888\n",
            "Epoch 20/52\n",
            "13/13 [==============================] - 0s 2ms/step - loss: 0.0875 - mae: 0.1912\n",
            "Epoch 21/52\n",
            "13/13 [==============================] - 0s 2ms/step - loss: 0.0779 - mae: 0.1829\n",
            "Epoch 22/52\n",
            "13/13 [==============================] - 0s 2ms/step - loss: 0.0625 - mae: 0.1799\n",
            "Epoch 23/52\n",
            "13/13 [==============================] - 0s 2ms/step - loss: 0.0708 - mae: 0.1804\n",
            "Epoch 24/52\n",
            "13/13 [==============================] - 0s 2ms/step - loss: 0.0682 - mae: 0.1760\n",
            "Epoch 25/52\n",
            "13/13 [==============================] - 0s 2ms/step - loss: 0.0824 - mae: 0.1852\n",
            "Epoch 26/52\n",
            "13/13 [==============================] - 0s 2ms/step - loss: 0.0527 - mae: 0.1644\n",
            "Epoch 27/52\n",
            "13/13 [==============================] - 0s 2ms/step - loss: 0.0781 - mae: 0.1876\n",
            "Epoch 28/52\n",
            "13/13 [==============================] - 0s 2ms/step - loss: 0.0581 - mae: 0.1634\n",
            "Epoch 29/52\n",
            "13/13 [==============================] - 0s 2ms/step - loss: 0.0590 - mae: 0.1693\n",
            "Epoch 30/52\n",
            "13/13 [==============================] - 0s 2ms/step - loss: 0.0556 - mae: 0.1711\n",
            "Epoch 31/52\n",
            "13/13 [==============================] - 0s 2ms/step - loss: 0.0556 - mae: 0.1549\n",
            "Epoch 32/52\n",
            "13/13 [==============================] - 0s 2ms/step - loss: 0.0508 - mae: 0.1559\n",
            "Epoch 33/52\n",
            "13/13 [==============================] - 0s 2ms/step - loss: 0.0531 - mae: 0.1548\n",
            "Epoch 34/52\n",
            "13/13 [==============================] - 0s 1ms/step - loss: 0.0563 - mae: 0.1543\n",
            "Epoch 35/52\n",
            "13/13 [==============================] - 0s 1ms/step - loss: 0.0533 - mae: 0.1586\n",
            "Epoch 36/52\n",
            "13/13 [==============================] - 0s 2ms/step - loss: 0.0498 - mae: 0.1502\n",
            "Epoch 37/52\n",
            "13/13 [==============================] - 0s 2ms/step - loss: 0.0474 - mae: 0.1500\n",
            "Epoch 38/52\n",
            "13/13 [==============================] - 0s 2ms/step - loss: 0.0475 - mae: 0.1535\n",
            "Epoch 39/52\n",
            "13/13 [==============================] - 0s 2ms/step - loss: 0.0397 - mae: 0.1447\n",
            "Epoch 40/52\n",
            "13/13 [==============================] - 0s 2ms/step - loss: 0.0555 - mae: 0.1550\n",
            "Epoch 41/52\n",
            "13/13 [==============================] - 0s 2ms/step - loss: 0.0327 - mae: 0.1257\n",
            "Epoch 42/52\n",
            "13/13 [==============================] - 0s 2ms/step - loss: 0.0373 - mae: 0.1340\n",
            "Epoch 43/52\n",
            "13/13 [==============================] - 0s 2ms/step - loss: 0.0445 - mae: 0.1529\n",
            "Epoch 44/52\n",
            "13/13 [==============================] - 0s 2ms/step - loss: 0.0485 - mae: 0.1487\n",
            "Epoch 45/52\n",
            "13/13 [==============================] - 0s 2ms/step - loss: 0.0432 - mae: 0.1491\n",
            "Epoch 46/52\n",
            "13/13 [==============================] - 0s 2ms/step - loss: 0.0383 - mae: 0.1370\n",
            "Epoch 47/52\n",
            "13/13 [==============================] - 0s 2ms/step - loss: 0.0419 - mae: 0.1510\n",
            "Epoch 48/52\n",
            "13/13 [==============================] - 0s 2ms/step - loss: 0.0450 - mae: 0.1416\n",
            "Epoch 49/52\n",
            "13/13 [==============================] - 0s 3ms/step - loss: 0.0410 - mae: 0.1445\n",
            "Epoch 50/52\n",
            "13/13 [==============================] - 0s 2ms/step - loss: 0.0386 - mae: 0.1430\n",
            "Epoch 51/52\n",
            "13/13 [==============================] - 0s 2ms/step - loss: 0.0335 - mae: 0.1348\n",
            "Epoch 52/52\n",
            "13/13 [==============================] - 0s 2ms/step - loss: 0.0437 - mae: 0.1442\n",
            "4/4 [==============================] - 0s 3ms/step - loss: 0.1859 - mae: 0.2862\n"
          ],
          "name": "stdout"
        }
      ]
    },
    {
      "cell_type": "code",
      "metadata": {
        "colab": {
          "base_uri": "https://localhost:8080/"
        },
        "id": "86aUZ6Kym92Z",
        "outputId": "a5d0209c-fb97-42aa-dd73-aa8aae1e6e65"
      },
      "source": [
        "print(\"최종 모델의 표준화된 test target에 대한 mse : {}\".format(result[0]))\n",
        "print(\"최종 모델의 표준화된 test target에 대한 mae : {}\".format(result[1]))\n",
        "\n",
        "pred_std_y_test = model.predict(std_test_data)\n",
        "pred_y_test = y_scaler.invernse_transform(pred_std_y_test).reshape(-1)\n",
        "\n",
        "test_mse = np.mean((test_targets - pred_y_test)**2)\n",
        "test_mae = np.mean(np.abs(test_targets - pred_y_test))\n",
        "\n",
        "print(\"최종 모델의 test mse : {}\".format(test_mse))\n",
        "print(\"최종 모델의 test mse : {}\".format(test_mae))"
      ],
      "execution_count": 19,
      "outputs": [
        {
          "output_type": "stream",
          "text": [
            "최종 모델의 표준화된 test target에 대한 mse : 0.18589599430561066\n",
            "최종 모델의 표준화된 test target에 대한 mae : 0.28617045283317566\n",
            "최종 모델의 test mse : 15.73093703001637\n",
            "최종 모델의 test mse : 2.6324919775420548\n"
          ],
          "name": "stdout"
        }
      ]
    }
  ]
}