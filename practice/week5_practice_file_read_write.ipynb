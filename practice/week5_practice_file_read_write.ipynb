{
  "nbformat": 4,
  "nbformat_minor": 0,
  "metadata": {
    "kernelspec": {
      "display_name": "Python 3",
      "language": "python",
      "name": "python3"
    },
    "language_info": {
      "codemirror_mode": {
        "name": "ipython",
        "version": 3
      },
      "file_extension": ".py",
      "mimetype": "text/x-python",
      "name": "python",
      "nbconvert_exporter": "python",
      "pygments_lexer": "ipython3",
      "version": "3.7.3"
    },
    "colab": {
      "name": "Team Quiz.ipynb",
      "provenance": [],
      "collapsed_sections": []
    }
  },
  "cells": [
    {
      "cell_type": "markdown",
      "metadata": {
        "id": "hB-QxVsQLcxn"
      },
      "source": [
        "## team quiz\n",
        "\n",
        "Make a program that produce 'new_data.txt' with IDs listed in ids.txt.\n"
      ]
    },
    {
      "cell_type": "markdown",
      "metadata": {
        "id": "b_tQd3LkQSq7"
      },
      "source": [
        "#### Codes for data generation"
      ]
    },
    {
      "cell_type": "code",
      "metadata": {
        "id": "CD-6aA--JJ5f"
      },
      "source": [
        "with open('ids.txt', 'w') as f :\n",
        "    f.write('ID\\nJohn\\nKarl\\nAndy\\nTim\\n')"
      ],
      "execution_count": 1,
      "outputs": []
    },
    {
      "cell_type": "code",
      "metadata": {
        "id": "MUDVsj90JJyZ"
      },
      "source": [
        "with open('data1.txt', 'w') as f :\n",
        "    f.write('ID\\tfield1\\tfield2\\tfield3\\nTom\\t1\\t3\\t1\\nJohn\\t1\\t3\\t3\\nTom\\t1\\t1\\t1\\nKarl\\t1\\t1\\t2\\nKarl\\t1\\t3\\t2\\nKarl\\t2\\t2\\t2\\nAndy\\t1\\t2\\t3')"
      ],
      "execution_count": 2,
      "outputs": []
    },
    {
      "cell_type": "code",
      "metadata": {
        "id": "6E9MqEipJJqv"
      },
      "source": [
        "with open('data2.txt', 'w') as f :\n",
        "    f.write('ID\\tfield1\\tfield2\\tfield3\\nTom\\t2\\t3\\t1\\nJane\\t1\\t1\\t3\\nJane\\t2\\t2\\t1\\nMax\\t3\\t1\\t2\\nKarl\\t1\\t4\\t2\\nMax\\t3\\t2\\t2\\nMax\\t2\\t2\\t1')"
      ],
      "execution_count": 3,
      "outputs": []
    },
    {
      "cell_type": "markdown",
      "metadata": {
        "id": "96yTb7ZwTeBD"
      },
      "source": [
        "#### How to read ids"
      ]
    },
    {
      "cell_type": "code",
      "metadata": {
        "id": "LE6-LaRDTRSd"
      },
      "source": [
        "### Hint1\n",
        "\n",
        "ids = []\n",
        "with open(\"ids.txt\", encoding='utf-8') as f:\n",
        "    for item in f:\n",
        "        ids.append(item.strip())"
      ],
      "execution_count": 4,
      "outputs": []
    },
    {
      "cell_type": "markdown",
      "metadata": {
        "id": "sdjUyfv8k0GN"
      },
      "source": [
        "#### How to read data"
      ]
    },
    {
      "cell_type": "code",
      "metadata": {
        "colab": {
          "base_uri": "https://localhost:8080/"
        },
        "id": "l-EdenxGTRJr",
        "outputId": "aa260583-23a3-49ee-a56b-ac44934258b4"
      },
      "source": [
        "### Hint 2\n",
        "\n",
        "with open(\"data1.txt\", encoding='utf-8') as f:\n",
        "  for item in f :\n",
        "    nm, f1, f2, f3 = item.strip().split()\n",
        "    print(\"nm: {}, f1: {}, f2: {}, f3: {}\".format(nm, f1,f2,f3) )"
      ],
      "execution_count": 5,
      "outputs": [
        {
          "output_type": "stream",
          "text": [
            "nm: ID, f1: field1, f2: field2, f3: field3\n",
            "nm: Tom, f1: 1, f2: 3, f3: 1\n",
            "nm: John, f1: 1, f2: 3, f3: 3\n",
            "nm: Tom, f1: 1, f2: 1, f3: 1\n",
            "nm: Karl, f1: 1, f2: 1, f3: 2\n",
            "nm: Karl, f1: 1, f2: 3, f3: 2\n",
            "nm: Karl, f1: 2, f2: 2, f3: 2\n",
            "nm: Andy, f1: 1, f2: 2, f3: 3\n"
          ],
          "name": "stdout"
        }
      ]
    },
    {
      "cell_type": "code",
      "metadata": {
        "colab": {
          "base_uri": "https://localhost:8080/"
        },
        "id": "HynIgAlTlRoO",
        "outputId": "1f4520b3-584c-4216-b63f-0e1e1f8f97cc"
      },
      "source": [
        "ids[1:]"
      ],
      "execution_count": 6,
      "outputs": [
        {
          "output_type": "execute_result",
          "data": {
            "text/plain": [
              "['John', 'Karl', 'Andy', 'Tim']"
            ]
          },
          "metadata": {
            "tags": []
          },
          "execution_count": 6
        }
      ]
    },
    {
      "cell_type": "markdown",
      "metadata": {
        "id": "QYZd08DS6Ykm"
      },
      "source": [
        "# 문제? 풀이 부분"
      ]
    },
    {
      "cell_type": "code",
      "metadata": {
        "id": "6FQzWwuam5A0"
      },
      "source": [
        "## some preprocessing if necessary"
      ],
      "execution_count": 7,
      "outputs": []
    },
    {
      "cell_type": "code",
      "metadata": {
        "id": "BW_AyygmTRBr"
      },
      "source": [
        "## write 'new_data.txt' file\n",
        "\n",
        "with open('new_data.txt', 'w') as fw:\n",
        "  for line in ids:\n",
        "    fw.write(line + \"\\n\")"
      ],
      "execution_count": 8,
      "outputs": []
    },
    {
      "cell_type": "code",
      "metadata": {
        "id": "r_QDdHxz4HGU"
      },
      "source": [
        "with open(\"new_data.txt\", 'r') as f:\n",
        "  data = f.readlines()\n",
        "  new_data = []\n",
        "  for line in data:\n",
        "    # if filter condition:\n",
        "    #   any other handling data\n",
        "    new_data.append(line.strip(\"\\n\"))"
      ],
      "execution_count": 9,
      "outputs": []
    },
    {
      "cell_type": "code",
      "metadata": {
        "colab": {
          "base_uri": "https://localhost:8080/"
        },
        "id": "U0kzwlQK4Xzh",
        "outputId": "1de5e57a-8fbd-492c-a832-99768c249507"
      },
      "source": [
        "data"
      ],
      "execution_count": 10,
      "outputs": [
        {
          "output_type": "execute_result",
          "data": {
            "text/plain": [
              "['ID\\n', 'John\\n', 'Karl\\n', 'Andy\\n', 'Tim\\n']"
            ]
          },
          "metadata": {
            "tags": []
          },
          "execution_count": 10
        }
      ]
    },
    {
      "cell_type": "code",
      "metadata": {
        "colab": {
          "base_uri": "https://localhost:8080/"
        },
        "id": "K-jNreDb42Bd",
        "outputId": "99e9b339-97f1-4fec-d2fe-42bad951c703"
      },
      "source": [
        "new_data"
      ],
      "execution_count": 11,
      "outputs": [
        {
          "output_type": "execute_result",
          "data": {
            "text/plain": [
              "['ID', 'John', 'Karl', 'Andy', 'Tim']"
            ]
          },
          "metadata": {
            "tags": []
          },
          "execution_count": 11
        }
      ]
    },
    {
      "cell_type": "markdown",
      "metadata": {
        "id": "l1DLja3pmVLO"
      },
      "source": [
        "#### Check your answer"
      ]
    },
    {
      "cell_type": "code",
      "metadata": {
        "colab": {
          "base_uri": "https://localhost:8080/"
        },
        "id": "sRg4ecSzTQvD",
        "outputId": "bdae62ca-b9af-43d9-81ab-7c09a3b21357"
      },
      "source": [
        "  with open(\"new_data.txt\", encoding='utf-8') as f:\n",
        "    for item in f :\n",
        "      print(item)"
      ],
      "execution_count": 12,
      "outputs": [
        {
          "output_type": "stream",
          "text": [
            "ID\n",
            "\n",
            "John\n",
            "\n",
            "Karl\n",
            "\n",
            "Andy\n",
            "\n",
            "Tim\n",
            "\n"
          ],
          "name": "stdout"
        }
      ]
    },
    {
      "cell_type": "markdown",
      "metadata": {
        "id": "CmXdMwAFTTEF"
      },
      "source": [
        "### Using Pandas\n",
        "You can use Pandas for this, but this is not line by line solution. "
      ]
    },
    {
      "cell_type": "code",
      "metadata": {
        "id": "ZvPqynzuJJfo"
      },
      "source": [
        "import pandas as pd\n",
        "\n",
        "ids = pd.read_csv('ids.txt', delimiter = \"\\t\")\n",
        "data1 = pd.read_csv('data1.txt', delimiter = \"\\t\")\n",
        "data2 = pd.read_csv('data2.txt', delimiter = \"\\t\")"
      ],
      "execution_count": 13,
      "outputs": []
    },
    {
      "cell_type": "code",
      "metadata": {
        "colab": {
          "base_uri": "https://localhost:8080/",
          "height": 173
        },
        "id": "E5_mk8jSJ0qv",
        "outputId": "0e9d782b-853d-44e5-e24f-d0ef282362e1"
      },
      "source": [
        "ids"
      ],
      "execution_count": 14,
      "outputs": [
        {
          "output_type": "execute_result",
          "data": {
            "text/html": [
              "<div>\n",
              "<style scoped>\n",
              "    .dataframe tbody tr th:only-of-type {\n",
              "        vertical-align: middle;\n",
              "    }\n",
              "\n",
              "    .dataframe tbody tr th {\n",
              "        vertical-align: top;\n",
              "    }\n",
              "\n",
              "    .dataframe thead th {\n",
              "        text-align: right;\n",
              "    }\n",
              "</style>\n",
              "<table border=\"1\" class=\"dataframe\">\n",
              "  <thead>\n",
              "    <tr style=\"text-align: right;\">\n",
              "      <th></th>\n",
              "      <th>ID</th>\n",
              "    </tr>\n",
              "  </thead>\n",
              "  <tbody>\n",
              "    <tr>\n",
              "      <th>0</th>\n",
              "      <td>John</td>\n",
              "    </tr>\n",
              "    <tr>\n",
              "      <th>1</th>\n",
              "      <td>Karl</td>\n",
              "    </tr>\n",
              "    <tr>\n",
              "      <th>2</th>\n",
              "      <td>Andy</td>\n",
              "    </tr>\n",
              "    <tr>\n",
              "      <th>3</th>\n",
              "      <td>Tim</td>\n",
              "    </tr>\n",
              "  </tbody>\n",
              "</table>\n",
              "</div>"
            ],
            "text/plain": [
              "     ID\n",
              "0  John\n",
              "1  Karl\n",
              "2  Andy\n",
              "3   Tim"
            ]
          },
          "metadata": {
            "tags": []
          },
          "execution_count": 14
        }
      ]
    },
    {
      "cell_type": "code",
      "metadata": {
        "colab": {
          "base_uri": "https://localhost:8080/"
        },
        "id": "Y8ZLw8SOKKmw",
        "outputId": "f6339672-115a-4069-d20e-e02ece6e7c39"
      },
      "source": [
        "list(ids['ID'])"
      ],
      "execution_count": 15,
      "outputs": [
        {
          "output_type": "execute_result",
          "data": {
            "text/plain": [
              "['John', 'Karl', 'Andy', 'Tim']"
            ]
          },
          "metadata": {
            "tags": []
          },
          "execution_count": 15
        }
      ]
    },
    {
      "cell_type": "code",
      "metadata": {
        "colab": {
          "base_uri": "https://localhost:8080/",
          "height": 266
        },
        "id": "RVmeIoxDJx52",
        "outputId": "16aad725-35de-4af6-dbf3-42c55758ea74"
      },
      "source": [
        "data1"
      ],
      "execution_count": 16,
      "outputs": [
        {
          "output_type": "execute_result",
          "data": {
            "text/html": [
              "<div>\n",
              "<style scoped>\n",
              "    .dataframe tbody tr th:only-of-type {\n",
              "        vertical-align: middle;\n",
              "    }\n",
              "\n",
              "    .dataframe tbody tr th {\n",
              "        vertical-align: top;\n",
              "    }\n",
              "\n",
              "    .dataframe thead th {\n",
              "        text-align: right;\n",
              "    }\n",
              "</style>\n",
              "<table border=\"1\" class=\"dataframe\">\n",
              "  <thead>\n",
              "    <tr style=\"text-align: right;\">\n",
              "      <th></th>\n",
              "      <th>ID</th>\n",
              "      <th>field1</th>\n",
              "      <th>field2</th>\n",
              "      <th>field3</th>\n",
              "    </tr>\n",
              "  </thead>\n",
              "  <tbody>\n",
              "    <tr>\n",
              "      <th>0</th>\n",
              "      <td>Tom</td>\n",
              "      <td>1</td>\n",
              "      <td>3</td>\n",
              "      <td>1</td>\n",
              "    </tr>\n",
              "    <tr>\n",
              "      <th>1</th>\n",
              "      <td>John</td>\n",
              "      <td>1</td>\n",
              "      <td>3</td>\n",
              "      <td>3</td>\n",
              "    </tr>\n",
              "    <tr>\n",
              "      <th>2</th>\n",
              "      <td>Tom</td>\n",
              "      <td>1</td>\n",
              "      <td>1</td>\n",
              "      <td>1</td>\n",
              "    </tr>\n",
              "    <tr>\n",
              "      <th>3</th>\n",
              "      <td>Karl</td>\n",
              "      <td>1</td>\n",
              "      <td>1</td>\n",
              "      <td>2</td>\n",
              "    </tr>\n",
              "    <tr>\n",
              "      <th>4</th>\n",
              "      <td>Karl</td>\n",
              "      <td>1</td>\n",
              "      <td>3</td>\n",
              "      <td>2</td>\n",
              "    </tr>\n",
              "    <tr>\n",
              "      <th>5</th>\n",
              "      <td>Karl</td>\n",
              "      <td>2</td>\n",
              "      <td>2</td>\n",
              "      <td>2</td>\n",
              "    </tr>\n",
              "    <tr>\n",
              "      <th>6</th>\n",
              "      <td>Andy</td>\n",
              "      <td>1</td>\n",
              "      <td>2</td>\n",
              "      <td>3</td>\n",
              "    </tr>\n",
              "  </tbody>\n",
              "</table>\n",
              "</div>"
            ],
            "text/plain": [
              "     ID  field1  field2  field3\n",
              "0   Tom       1       3       1\n",
              "1  John       1       3       3\n",
              "2   Tom       1       1       1\n",
              "3  Karl       1       1       2\n",
              "4  Karl       1       3       2\n",
              "5  Karl       2       2       2\n",
              "6  Andy       1       2       3"
            ]
          },
          "metadata": {
            "tags": []
          },
          "execution_count": 16
        }
      ]
    },
    {
      "cell_type": "code",
      "metadata": {
        "colab": {
          "base_uri": "https://localhost:8080/",
          "height": 266
        },
        "id": "sr1SPR4kJxxG",
        "outputId": "c7c9929d-e35c-4bb4-aef8-ecc83e6472d0"
      },
      "source": [
        "data2"
      ],
      "execution_count": 17,
      "outputs": [
        {
          "output_type": "execute_result",
          "data": {
            "text/html": [
              "<div>\n",
              "<style scoped>\n",
              "    .dataframe tbody tr th:only-of-type {\n",
              "        vertical-align: middle;\n",
              "    }\n",
              "\n",
              "    .dataframe tbody tr th {\n",
              "        vertical-align: top;\n",
              "    }\n",
              "\n",
              "    .dataframe thead th {\n",
              "        text-align: right;\n",
              "    }\n",
              "</style>\n",
              "<table border=\"1\" class=\"dataframe\">\n",
              "  <thead>\n",
              "    <tr style=\"text-align: right;\">\n",
              "      <th></th>\n",
              "      <th>ID</th>\n",
              "      <th>field1</th>\n",
              "      <th>field2</th>\n",
              "      <th>field3</th>\n",
              "    </tr>\n",
              "  </thead>\n",
              "  <tbody>\n",
              "    <tr>\n",
              "      <th>0</th>\n",
              "      <td>Tom</td>\n",
              "      <td>2</td>\n",
              "      <td>3</td>\n",
              "      <td>1</td>\n",
              "    </tr>\n",
              "    <tr>\n",
              "      <th>1</th>\n",
              "      <td>Jane</td>\n",
              "      <td>1</td>\n",
              "      <td>1</td>\n",
              "      <td>3</td>\n",
              "    </tr>\n",
              "    <tr>\n",
              "      <th>2</th>\n",
              "      <td>Jane</td>\n",
              "      <td>2</td>\n",
              "      <td>2</td>\n",
              "      <td>1</td>\n",
              "    </tr>\n",
              "    <tr>\n",
              "      <th>3</th>\n",
              "      <td>Max</td>\n",
              "      <td>3</td>\n",
              "      <td>1</td>\n",
              "      <td>2</td>\n",
              "    </tr>\n",
              "    <tr>\n",
              "      <th>4</th>\n",
              "      <td>Karl</td>\n",
              "      <td>1</td>\n",
              "      <td>4</td>\n",
              "      <td>2</td>\n",
              "    </tr>\n",
              "    <tr>\n",
              "      <th>5</th>\n",
              "      <td>Max</td>\n",
              "      <td>3</td>\n",
              "      <td>2</td>\n",
              "      <td>2</td>\n",
              "    </tr>\n",
              "    <tr>\n",
              "      <th>6</th>\n",
              "      <td>Max</td>\n",
              "      <td>2</td>\n",
              "      <td>2</td>\n",
              "      <td>1</td>\n",
              "    </tr>\n",
              "  </tbody>\n",
              "</table>\n",
              "</div>"
            ],
            "text/plain": [
              "     ID  field1  field2  field3\n",
              "0   Tom       2       3       1\n",
              "1  Jane       1       1       3\n",
              "2  Jane       2       2       1\n",
              "3   Max       3       1       2\n",
              "4  Karl       1       4       2\n",
              "5   Max       3       2       2\n",
              "6   Max       2       2       1"
            ]
          },
          "metadata": {
            "tags": []
          },
          "execution_count": 17
        }
      ]
    },
    {
      "cell_type": "code",
      "metadata": {
        "id": "6iuZ54AEKSVO"
      },
      "source": [
        "idlist = list(ids['ID'])"
      ],
      "execution_count": 18,
      "outputs": []
    },
    {
      "cell_type": "code",
      "metadata": {
        "id": "9JKtAkHgKYnA"
      },
      "source": [
        "filter_d1 = data1['ID'].isin(idlist)"
      ],
      "execution_count": 19,
      "outputs": []
    },
    {
      "cell_type": "code",
      "metadata": {
        "id": "omJklFL7KXFv"
      },
      "source": [
        "filter_d2 = data2['ID'].isin(idlist)"
      ],
      "execution_count": 20,
      "outputs": []
    },
    {
      "cell_type": "code",
      "metadata": {
        "colab": {
          "base_uri": "https://localhost:8080/",
          "height": 80
        },
        "id": "FqLCnyOKLFs1",
        "outputId": "38e6fd94-6cb3-477b-a0de-65e483fcaaad"
      },
      "source": [
        "data2[filter_d2]"
      ],
      "execution_count": 21,
      "outputs": [
        {
          "output_type": "execute_result",
          "data": {
            "text/html": [
              "<div>\n",
              "<style scoped>\n",
              "    .dataframe tbody tr th:only-of-type {\n",
              "        vertical-align: middle;\n",
              "    }\n",
              "\n",
              "    .dataframe tbody tr th {\n",
              "        vertical-align: top;\n",
              "    }\n",
              "\n",
              "    .dataframe thead th {\n",
              "        text-align: right;\n",
              "    }\n",
              "</style>\n",
              "<table border=\"1\" class=\"dataframe\">\n",
              "  <thead>\n",
              "    <tr style=\"text-align: right;\">\n",
              "      <th></th>\n",
              "      <th>ID</th>\n",
              "      <th>field1</th>\n",
              "      <th>field2</th>\n",
              "      <th>field3</th>\n",
              "    </tr>\n",
              "  </thead>\n",
              "  <tbody>\n",
              "    <tr>\n",
              "      <th>4</th>\n",
              "      <td>Karl</td>\n",
              "      <td>1</td>\n",
              "      <td>4</td>\n",
              "      <td>2</td>\n",
              "    </tr>\n",
              "  </tbody>\n",
              "</table>\n",
              "</div>"
            ],
            "text/plain": [
              "     ID  field1  field2  field3\n",
              "4  Karl       1       4       2"
            ]
          },
          "metadata": {
            "tags": []
          },
          "execution_count": 21
        }
      ]
    },
    {
      "cell_type": "code",
      "metadata": {
        "colab": {
          "base_uri": "https://localhost:8080/",
          "height": 235
        },
        "id": "Cb5awlmlJxmm",
        "outputId": "7f3b5e8b-078e-47ae-eac6-d2ffe34b33ff"
      },
      "source": [
        "pd.concat([data1[filter_d1], data2[filter_d2]])"
      ],
      "execution_count": 22,
      "outputs": [
        {
          "output_type": "execute_result",
          "data": {
            "text/html": [
              "<div>\n",
              "<style scoped>\n",
              "    .dataframe tbody tr th:only-of-type {\n",
              "        vertical-align: middle;\n",
              "    }\n",
              "\n",
              "    .dataframe tbody tr th {\n",
              "        vertical-align: top;\n",
              "    }\n",
              "\n",
              "    .dataframe thead th {\n",
              "        text-align: right;\n",
              "    }\n",
              "</style>\n",
              "<table border=\"1\" class=\"dataframe\">\n",
              "  <thead>\n",
              "    <tr style=\"text-align: right;\">\n",
              "      <th></th>\n",
              "      <th>ID</th>\n",
              "      <th>field1</th>\n",
              "      <th>field2</th>\n",
              "      <th>field3</th>\n",
              "    </tr>\n",
              "  </thead>\n",
              "  <tbody>\n",
              "    <tr>\n",
              "      <th>1</th>\n",
              "      <td>John</td>\n",
              "      <td>1</td>\n",
              "      <td>3</td>\n",
              "      <td>3</td>\n",
              "    </tr>\n",
              "    <tr>\n",
              "      <th>3</th>\n",
              "      <td>Karl</td>\n",
              "      <td>1</td>\n",
              "      <td>1</td>\n",
              "      <td>2</td>\n",
              "    </tr>\n",
              "    <tr>\n",
              "      <th>4</th>\n",
              "      <td>Karl</td>\n",
              "      <td>1</td>\n",
              "      <td>3</td>\n",
              "      <td>2</td>\n",
              "    </tr>\n",
              "    <tr>\n",
              "      <th>5</th>\n",
              "      <td>Karl</td>\n",
              "      <td>2</td>\n",
              "      <td>2</td>\n",
              "      <td>2</td>\n",
              "    </tr>\n",
              "    <tr>\n",
              "      <th>6</th>\n",
              "      <td>Andy</td>\n",
              "      <td>1</td>\n",
              "      <td>2</td>\n",
              "      <td>3</td>\n",
              "    </tr>\n",
              "    <tr>\n",
              "      <th>4</th>\n",
              "      <td>Karl</td>\n",
              "      <td>1</td>\n",
              "      <td>4</td>\n",
              "      <td>2</td>\n",
              "    </tr>\n",
              "  </tbody>\n",
              "</table>\n",
              "</div>"
            ],
            "text/plain": [
              "     ID  field1  field2  field3\n",
              "1  John       1       3       3\n",
              "3  Karl       1       1       2\n",
              "4  Karl       1       3       2\n",
              "5  Karl       2       2       2\n",
              "6  Andy       1       2       3\n",
              "4  Karl       1       4       2"
            ]
          },
          "metadata": {
            "tags": []
          },
          "execution_count": 22
        }
      ]
    }
  ]
}