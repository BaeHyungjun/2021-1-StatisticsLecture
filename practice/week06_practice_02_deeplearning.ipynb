{
  "nbformat": 4,
  "nbformat_minor": 0,
  "metadata": {
    "colab": {
      "name": "week06_practice_02_deeplearning.ipynb",
      "provenance": [],
      "collapsed_sections": []
    },
    "kernelspec": {
      "name": "python3",
      "display_name": "Python 3"
    },
    "language_info": {
      "name": "python"
    }
  },
  "cells": [
    {
      "cell_type": "markdown",
      "metadata": {
        "id": "f1VOf06rt5x7"
      },
      "source": [
        "# Deep Learning with Python"
      ]
    },
    {
      "cell_type": "markdown",
      "metadata": {
        "id": "khMPY8X86cC5"
      },
      "source": [
        "# 2. Before we begin : the mathematical building blocks of neural networks"
      ]
    },
    {
      "cell_type": "markdown",
      "metadata": {
        "id": "NHHU138Tw5jr"
      },
      "source": [
        "# p27 : 2.1 A first look at a neural network"
      ]
    },
    {
      "cell_type": "code",
      "metadata": {
        "colab": {
          "base_uri": "https://localhost:8080/",
          "height": 35
        },
        "id": "j7DNMW8Ot59v",
        "outputId": "65c013a4-0ce0-4716-84d1-3f3b703cf4d2"
      },
      "source": [
        "import tensorflow as tf\n",
        "\n",
        "tf.keras.__version__"
      ],
      "execution_count": 1,
      "outputs": [
        {
          "output_type": "execute_result",
          "data": {
            "application/vnd.google.colaboratory.intrinsic+json": {
              "type": "string"
            },
            "text/plain": [
              "'2.4.0'"
            ]
          },
          "metadata": {
            "tags": []
          },
          "execution_count": 1
        }
      ]
    },
    {
      "cell_type": "code",
      "metadata": {
        "id": "ABWv1LPgl57U"
      },
      "source": [
        "from keras.datasets import mnist\n",
        "\n",
        "(train_images, train_labels), (test_images, test_labels) = mnist.load_data()"
      ],
      "execution_count": 2,
      "outputs": []
    },
    {
      "cell_type": "code",
      "metadata": {
        "colab": {
          "base_uri": "https://localhost:8080/"
        },
        "id": "NkD1M2DXud4g",
        "outputId": "da701856-f197-4fe9-b0cd-6e2e21a5825a"
      },
      "source": [
        "print(type(train_images))"
      ],
      "execution_count": 3,
      "outputs": [
        {
          "output_type": "stream",
          "text": [
            "<class 'numpy.ndarray'>\n"
          ],
          "name": "stdout"
        }
      ]
    },
    {
      "cell_type": "code",
      "metadata": {
        "colab": {
          "base_uri": "https://localhost:8080/"
        },
        "id": "aFbYfkv2uSJz",
        "outputId": "326b1eba-69ff-4661-b936-e09b7eb0a965"
      },
      "source": [
        "print(train_images.shape)\n",
        "print(train_labels.shape)\n",
        "print(test_images.shape)\n",
        "print(test_labels.shape)"
      ],
      "execution_count": 4,
      "outputs": [
        {
          "output_type": "stream",
          "text": [
            "(60000, 28, 28)\n",
            "(60000,)\n",
            "(10000, 28, 28)\n",
            "(10000,)\n"
          ],
          "name": "stdout"
        }
      ]
    },
    {
      "cell_type": "code",
      "metadata": {
        "colab": {
          "base_uri": "https://localhost:8080/"
        },
        "id": "sP2MiHgJuaHw",
        "outputId": "750eef58-276f-4c49-e0c6-852b95a5d805"
      },
      "source": [
        "test_labels[:5]"
      ],
      "execution_count": 5,
      "outputs": [
        {
          "output_type": "execute_result",
          "data": {
            "text/plain": [
              "array([7, 2, 1, 0, 4], dtype=uint8)"
            ]
          },
          "metadata": {
            "tags": []
          },
          "execution_count": 5
        }
      ]
    },
    {
      "cell_type": "code",
      "metadata": {
        "id": "09uQC3VOwzfC"
      },
      "source": [
        "from keras import models\n",
        "from keras import layers\n",
        "\n",
        "# 단방향 모델 정의\n",
        "network = models.Sequential()\n",
        "\n",
        "# 모델에 layer 추가\n",
        "network.add(layers.Flatten(input_shape = (28, 28)))\n",
        "network.add(layers.Dense(512, activation = 'relu', input_shape = (28 * 28, )))\n",
        "network.add(layers.Dense(10, activation = 'softmax'))"
      ],
      "execution_count": 6,
      "outputs": []
    },
    {
      "cell_type": "code",
      "metadata": {
        "id": "t5Sr80aBx1Fo"
      },
      "source": [
        "# 모델의 학습 방법 설정\n",
        "network.compile(optimizer = 'rmsprop',\n",
        "                loss = 'categorical_crossentropy',\n",
        "                metrics = ['accuracy'])"
      ],
      "execution_count": 7,
      "outputs": []
    },
    {
      "cell_type": "code",
      "metadata": {
        "id": "yTKHaN4tyNxP"
      },
      "source": [
        "from keras.utils import to_categorical\n",
        "\n",
        "train_normalized = train_images / 255\n",
        "test_normalized = test_images / 255\n",
        "\n",
        "train_categories = to_categorical(train_labels)\n",
        "test_categories = to_categorical(test_labels)"
      ],
      "execution_count": 8,
      "outputs": []
    },
    {
      "cell_type": "code",
      "metadata": {
        "colab": {
          "base_uri": "https://localhost:8080/"
        },
        "id": "JPueWf6QyXIn",
        "outputId": "43708688-5db9-4d99-b1d4-c8a8b0c52104"
      },
      "source": [
        "test_categories[:5]"
      ],
      "execution_count": 9,
      "outputs": [
        {
          "output_type": "execute_result",
          "data": {
            "text/plain": [
              "array([[0., 0., 0., 0., 0., 0., 0., 1., 0., 0.],\n",
              "       [0., 0., 1., 0., 0., 0., 0., 0., 0., 0.],\n",
              "       [0., 1., 0., 0., 0., 0., 0., 0., 0., 0.],\n",
              "       [1., 0., 0., 0., 0., 0., 0., 0., 0., 0.],\n",
              "       [0., 0., 0., 0., 1., 0., 0., 0., 0., 0.]], dtype=float32)"
            ]
          },
          "metadata": {
            "tags": []
          },
          "execution_count": 9
        }
      ]
    },
    {
      "cell_type": "code",
      "metadata": {
        "colab": {
          "base_uri": "https://localhost:8080/"
        },
        "id": "mKgJdNm5zTmj",
        "outputId": "618c2e3a-13e0-42b7-a567-e253cb821125"
      },
      "source": [
        "# 모델 학습, epochs와 batch_size 지정\n",
        "network.fit(train_normalized, train_categories, epochs = 5, batch_size = 128)"
      ],
      "execution_count": 10,
      "outputs": [
        {
          "output_type": "stream",
          "text": [
            "Epoch 1/5\n",
            "469/469 [==============================] - 6s 11ms/step - loss: 0.4269 - accuracy: 0.8747\n",
            "Epoch 2/5\n",
            "469/469 [==============================] - 5s 10ms/step - loss: 0.1062 - accuracy: 0.9688\n",
            "Epoch 3/5\n",
            "469/469 [==============================] - 5s 11ms/step - loss: 0.0685 - accuracy: 0.9799\n",
            "Epoch 4/5\n",
            "469/469 [==============================] - 5s 11ms/step - loss: 0.0486 - accuracy: 0.9851\n",
            "Epoch 5/5\n",
            "469/469 [==============================] - 5s 11ms/step - loss: 0.0342 - accuracy: 0.9895\n"
          ],
          "name": "stdout"
        },
        {
          "output_type": "execute_result",
          "data": {
            "text/plain": [
              "<tensorflow.python.keras.callbacks.History at 0x7f09e9760310>"
            ]
          },
          "metadata": {
            "tags": []
          },
          "execution_count": 10
        }
      ]
    },
    {
      "cell_type": "code",
      "metadata": {
        "colab": {
          "base_uri": "https://localhost:8080/"
        },
        "id": "8N0H7Qsgzaoz",
        "outputId": "1cd96223-9946-4d88-9ea0-f6fe4e79f480"
      },
      "source": [
        "# testset을 이용한 성능 평가, evaluate 메소드 사용\n",
        "test_loss, test_acc = network.evaluate(test_normalized, test_categories)"
      ],
      "execution_count": 11,
      "outputs": [
        {
          "output_type": "stream",
          "text": [
            "313/313 [==============================] - 1s 3ms/step - loss: 0.0690 - accuracy: 0.9785\n"
          ],
          "name": "stdout"
        }
      ]
    },
    {
      "cell_type": "code",
      "metadata": {
        "colab": {
          "base_uri": "https://localhost:8080/"
        },
        "id": "SIHO44sXzxvK",
        "outputId": "97edfab8-a010-42dc-ba47-2f814ad799a1"
      },
      "source": [
        "print(\"Test accuracy : {}\".format(round(test_acc, 4)))"
      ],
      "execution_count": 12,
      "outputs": [
        {
          "output_type": "stream",
          "text": [
            "Test accuracy : 0.9785\n"
          ],
          "name": "stdout"
        }
      ]
    },
    {
      "cell_type": "markdown",
      "metadata": {
        "id": "tZqklLCiz42Z"
      },
      "source": [
        "# p31 : 2.2 Data representations for neural networks"
      ]
    },
    {
      "cell_type": "code",
      "metadata": {
        "id": "DkiIrsVc0ihf"
      },
      "source": [
        "import numpy as np"
      ],
      "execution_count": 13,
      "outputs": []
    },
    {
      "cell_type": "code",
      "metadata": {
        "colab": {
          "base_uri": "https://localhost:8080/"
        },
        "id": "yyazgbKN2Lct",
        "outputId": "9b0286df-fc4c-41d2-e2bb-66d63bb0093c"
      },
      "source": [
        "# scalar = 0D tensor\n",
        "\n",
        "x0 = np.array(12)\n",
        "print(x0)\n",
        "print(x0.ndim)"
      ],
      "execution_count": 14,
      "outputs": [
        {
          "output_type": "stream",
          "text": [
            "12\n",
            "0\n"
          ],
          "name": "stdout"
        }
      ]
    },
    {
      "cell_type": "code",
      "metadata": {
        "colab": {
          "base_uri": "https://localhost:8080/"
        },
        "id": "s0xategl2Nrz",
        "outputId": "d2e0b27c-3bfa-44a7-d476-51f8c01c6c17"
      },
      "source": [
        "# vector = 1D tensor\n",
        "\n",
        "x1 = np.array([12, 3, 6, 14])\n",
        "print(x1)\n",
        "print(x1.ndim)"
      ],
      "execution_count": 15,
      "outputs": [
        {
          "output_type": "stream",
          "text": [
            "[12  3  6 14]\n",
            "1\n"
          ],
          "name": "stdout"
        }
      ]
    },
    {
      "cell_type": "code",
      "metadata": {
        "colab": {
          "base_uri": "https://localhost:8080/"
        },
        "id": "JaxBWFkS2Tyj",
        "outputId": "3993c876-c4e9-4ab0-b575-ea89a0d43695"
      },
      "source": [
        "# matrix = 2D tensor\n",
        "\n",
        "x2 = np.round(np.random.randn(3, 5), 2)\n",
        "print(x2)\n",
        "print(x2.ndim)"
      ],
      "execution_count": 16,
      "outputs": [
        {
          "output_type": "stream",
          "text": [
            "[[-1.55  0.38 -1.08  1.63 -1.2 ]\n",
            " [ 0.35 -1.95  1.09 -0.18  0.09]\n",
            " [-1.36  1.51  1.69 -0.08 -0.71]]\n",
            "2\n"
          ],
          "name": "stdout"
        }
      ]
    },
    {
      "cell_type": "code",
      "metadata": {
        "colab": {
          "base_uri": "https://localhost:8080/"
        },
        "id": "FC1EzCUl2iIZ",
        "outputId": "37057a7a-ecc0-411a-9869-3543bc4b524b"
      },
      "source": [
        "# 3D tensor\n",
        "\n",
        "x3 = np.round(np.random.randn(3, 4, 5), 2)\n",
        "print(x3)\n",
        "print(x3.ndim)"
      ],
      "execution_count": 17,
      "outputs": [
        {
          "output_type": "stream",
          "text": [
            "[[[-2.13 -0.07 -0.14 -0.17  0.69]\n",
            "  [ 1.19 -0.45 -0.99  0.19 -0.19]\n",
            "  [-0.25 -0.33 -0.64 -1.28  0.31]\n",
            "  [-0.87  0.17 -1.22 -0.36 -0.48]]\n",
            "\n",
            " [[-1.46 -0.24 -1.61 -1.94  0.01]\n",
            "  [-0.39 -1.64 -1.1   0.63  0.09]\n",
            "  [ 0.17 -0.2  -0.49 -0.71  0.08]\n",
            "  [-1.95  0.53  0.64  0.23  1.5 ]]\n",
            "\n",
            " [[-0.57  0.5  -0.07 -1.69 -0.62]\n",
            "  [-0.88  1.69  2.3  -1.27 -0.3 ]\n",
            "  [ 1.36 -0.12  0.07 -0.51 -0.45]\n",
            "  [-0.34  1.65 -0.31  0.9  -0.52]]]\n",
            "3\n"
          ],
          "name": "stdout"
        }
      ]
    },
    {
      "cell_type": "code",
      "metadata": {
        "colab": {
          "base_uri": "https://localhost:8080/"
        },
        "id": "TslNRHmG26Hx",
        "outputId": "a51088e6-0526-4777-f888-ed4a26034c5e"
      },
      "source": [
        "print(x3.ndim)\n",
        "print(x3.shape)\n",
        "print(x3.dtype)"
      ],
      "execution_count": 18,
      "outputs": [
        {
          "output_type": "stream",
          "text": [
            "3\n",
            "(3, 4, 5)\n",
            "float64\n"
          ],
          "name": "stdout"
        }
      ]
    },
    {
      "cell_type": "code",
      "metadata": {
        "colab": {
          "base_uri": "https://localhost:8080/"
        },
        "id": "30pGlpaK3LqA",
        "outputId": "1b27e2fc-8e9b-412d-fb9a-9b3c25b8ab6c"
      },
      "source": [
        "print(train_images.shape)\n",
        "print(train_images.dtype)"
      ],
      "execution_count": 19,
      "outputs": [
        {
          "output_type": "stream",
          "text": [
            "(60000, 28, 28)\n",
            "uint8\n"
          ],
          "name": "stdout"
        }
      ]
    },
    {
      "cell_type": "code",
      "metadata": {
        "id": "mzqkz4_j3STS"
      },
      "source": [
        "import matplotlib\n",
        "import matplotlib.pyplot as plt"
      ],
      "execution_count": 20,
      "outputs": []
    },
    {
      "cell_type": "code",
      "metadata": {
        "id": "FMFfaAwh3PpI"
      },
      "source": [
        "digit = train_images[4]"
      ],
      "execution_count": 21,
      "outputs": []
    },
    {
      "cell_type": "code",
      "metadata": {
        "colab": {
          "base_uri": "https://localhost:8080/",
          "height": 265
        },
        "id": "7jtRc25M3Vxg",
        "outputId": "5817f99c-b71c-4021-c3a1-9a2231b8ae4b"
      },
      "source": [
        "plt.imshow(digit, cmap = plt.cm.binary)\n",
        "plt.show()"
      ],
      "execution_count": 22,
      "outputs": [
        {
          "output_type": "display_data",
          "data": {
            "image/png": "[encoded data removed]",
            "text/plain": [
              "<Figure size 432x288 with 1 Axes>"
            ]
          },
          "metadata": {
            "tags": [],
            "needs_background": "light"
          }
        }
      ]
    },
    {
      "cell_type": "code",
      "metadata": {
        "colab": {
          "base_uri": "https://localhost:8080/"
        },
        "id": "WKbDw5Vo3ZEY",
        "outputId": "d545594c-3bd2-4d99-feb8-ff3dcc34259a"
      },
      "source": [
        "my_slice = train_images[10:100]\n",
        "print(my_slice.shape)"
      ],
      "execution_count": 23,
      "outputs": [
        {
          "output_type": "stream",
          "text": [
            "(90, 28, 28)\n"
          ],
          "name": "stdout"
        }
      ]
    },
    {
      "cell_type": "code",
      "metadata": {
        "colab": {
          "base_uri": "https://localhost:8080/"
        },
        "id": "mBlhzHuP3dy3",
        "outputId": "91bc3921-7d01-4fd0-8bd1-2910beff7032"
      },
      "source": [
        "my_slice = train_images[10:100, :, :]\n",
        "print(my_slice.shape)"
      ],
      "execution_count": 24,
      "outputs": [
        {
          "output_type": "stream",
          "text": [
            "(90, 28, 28)\n"
          ],
          "name": "stdout"
        }
      ]
    },
    {
      "cell_type": "code",
      "metadata": {
        "colab": {
          "base_uri": "https://localhost:8080/"
        },
        "id": "bFdJPmad3jSf",
        "outputId": "65759e0c-7b9a-4c2d-fd1b-7f514be4ab4d"
      },
      "source": [
        "my_slice = train_images[10:100, 0:28, 0:28]\n",
        "print(my_slice.shape)"
      ],
      "execution_count": 25,
      "outputs": [
        {
          "output_type": "stream",
          "text": [
            "(90, 28, 28)\n"
          ],
          "name": "stdout"
        }
      ]
    },
    {
      "cell_type": "code",
      "metadata": {
        "colab": {
          "base_uri": "https://localhost:8080/",
          "height": 265
        },
        "id": "EtS8Lyob3oIH",
        "outputId": "b54d64c5-7a62-4f6e-b878-f9f79a97156e"
      },
      "source": [
        "my_slice = train_images[10, 14:, 14:]\n",
        "\n",
        "plt.imshow(my_slice, cmap = plt.cm.binary)\n",
        "plt.show()"
      ],
      "execution_count": 26,
      "outputs": [
        {
          "output_type": "display_data",
          "data": {
            "image/png": "[encoded data removed]",
            "text/plain": [
              "<Figure size 432x288 with 1 Axes>"
            ]
          },
          "metadata": {
            "tags": [],
            "needs_background": "light"
          }
        }
      ]
    },
    {
      "cell_type": "code",
      "metadata": {
        "colab": {
          "base_uri": "https://localhost:8080/",
          "height": 265
        },
        "id": "MdH1UYpz30Fn",
        "outputId": "c7d97ed2-76cc-4d74-a0b9-f8e92ac545c6"
      },
      "source": [
        "my_slice = train_images[10, 7:-7, 7:-7]\n",
        "\n",
        "plt.imshow(my_slice, cmap = plt.cm.binary)\n",
        "plt.show()"
      ],
      "execution_count": 27,
      "outputs": [
        {
          "output_type": "display_data",
          "data": {
            "image/png": "[encoded data removed]",
            "text/plain": [
              "<Figure size 432x288 with 1 Axes>"
            ]
          },
          "metadata": {
            "tags": [],
            "needs_background": "light"
          }
        }
      ]
    },
    {
      "cell_type": "code",
      "metadata": {
        "id": "_AcLMmrb35V3"
      },
      "source": [
        "batch_0 = train_images[:128]\n",
        "batch_1 = train_images[128:256]\n",
        "# ...으로 나눠서 학습한다는 것이 batch의 개념"
      ],
      "execution_count": 28,
      "outputs": []
    },
    {
      "cell_type": "markdown",
      "metadata": {
        "id": "oulaJtZv6xdd"
      },
      "source": [
        "# p38 : 2.3 The gears of neural networks : tensor operations\n",
        "\n",
        "element-wise calculation  \n",
        "broadcasting  \n",
        "tensor dot  \n",
        "tensor reshape  "
      ]
    },
    {
      "cell_type": "markdown",
      "metadata": {
        "id": "5AWH0qkOgEnN"
      },
      "source": [
        "# p46 : 2.4 The engine of neural networks : gradient-based optimization"
      ]
    },
    {
      "cell_type": "markdown",
      "metadata": {
        "id": "Q2uW_VJxnPmg"
      },
      "source": [
        " # Chapter summary\n",
        "\n",
        "1. Learning means finding a combination of model parameters that mini\u0002mizes a loss function for a given set of training data samples and their cor\u0002responding targets.\n",
        "\n",
        "2. Learning happens by drawing random batches of data samples and their\n",
        "targets, and computing the gradient of the network parameters with\n",
        "respect to the loss on the batch. The network parameters are then moved\n",
        "a bit (the magnitude of the move is defined by the learning rate) in the\n",
        "opposite direction from the gradient.\n",
        "\n",
        "3. The entire learning process is made possible by the fact that neural net\u0002works are chains of differentiable tensor operations, and thus it’s possible\n",
        "to apply the chain rule of derivation to find the gradient function map\u0002ping the current parameters and current batch of data to a gradient value.\n",
        "\n",
        "4. Two key concepts you’ll see frequently in future chapters are loss and opti\u0002mizers. These are the two things you need to define before you begin feed\u0002ing data into a network.\n",
        "\n",
        "5. The loss is the quantity you’ll attempt to minimize during training, so it\n",
        "should represent a measure of success for the task you’re trying to solve.\n",
        "\n",
        "6. The optimizer specifies the exact way in which the gradient of the loss will\n",
        "be used to update parameters: for instance, it could be the RMSProp opti\u0002mizer, SGD with momentum, and so on."
      ]
    }
  ]
}