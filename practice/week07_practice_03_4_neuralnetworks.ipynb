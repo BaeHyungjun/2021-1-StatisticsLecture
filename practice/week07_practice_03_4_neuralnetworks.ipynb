{
  "nbformat": 4,
  "nbformat_minor": 0,
  "metadata": {
    "colab": {
      "name": "week07_practice_03-4_neuralnetworks.ipynb",
      "provenance": [],
      "collapsed_sections": []
    },
    "kernelspec": {
      "name": "python3",
      "display_name": "Python 3"
    },
    "language_info": {
      "name": "python"
    }
  },
  "cells": [
    {
      "cell_type": "markdown",
      "metadata": {
        "id": "LF0A1ua-MTPG"
      },
      "source": [
        "# Deep learning with Python\n",
        "\n",
        "# 03. Getting started with neural networks"
      ]
    },
    {
      "cell_type": "markdown",
      "metadata": {
        "id": "Spp7-MSqMhKb"
      },
      "source": [
        "# 3.4 classifying movie reviews : IMDB 데이터셋\n",
        "\n",
        "영화 리뷰의 긍정, 부정 예측"
      ]
    },
    {
      "cell_type": "markdown",
      "metadata": {
        "id": "3H4VRAhqCukd"
      },
      "source": [
        "## 데이터 불러오기"
      ]
    },
    {
      "cell_type": "code",
      "metadata": {
        "colab": {
          "base_uri": "https://localhost:8080/",
          "height": 35
        },
        "id": "Jy1sQk_OUNTW",
        "outputId": "cd14bc22-564a-4305-e861-13e5b668685e"
      },
      "source": [
        "import keras\n",
        "\n",
        "keras.__version__"
      ],
      "execution_count": 1,
      "outputs": [
        {
          "output_type": "execute_result",
          "data": {
            "application/vnd.google.colaboratory.intrinsic+json": {
              "type": "string"
            },
            "text/plain": [
              "'2.4.3'"
            ]
          },
          "metadata": {
            "tags": []
          },
          "execution_count": 1
        }
      ]
    },
    {
      "cell_type": "code",
      "metadata": {
        "colab": {
          "base_uri": "https://localhost:8080/",
          "height": 35
        },
        "id": "_uzXG78sUTs1",
        "outputId": "15cff91a-4429-48d0-a0e5-41999384400e"
      },
      "source": [
        "import tensorflow as tf\n",
        "\n",
        "tf.__version__"
      ],
      "execution_count": 2,
      "outputs": [
        {
          "output_type": "execute_result",
          "data": {
            "application/vnd.google.colaboratory.intrinsic+json": {
              "type": "string"
            },
            "text/plain": [
              "'2.4.1'"
            ]
          },
          "metadata": {
            "tags": []
          },
          "execution_count": 2
        }
      ]
    },
    {
      "cell_type": "code",
      "metadata": {
        "colab": {
          "base_uri": "https://localhost:8080/"
        },
        "id": "yVwzZu2F_cyf",
        "outputId": "70d52233-428d-48e0-9e05-638b59605c4a"
      },
      "source": [
        "from keras.datasets import imdb\n",
        "\n",
        "(train_data, train_labels), (test_data, test_labels) = imdb.load_data(num_words = 10000)"
      ],
      "execution_count": 3,
      "outputs": [
        {
          "output_type": "stream",
          "text": [
            "<string>:6: VisibleDeprecationWarning: Creating an ndarray from ragged nested sequences (which is a list-or-tuple of lists-or-tuples-or ndarrays with different lengths or shapes) is deprecated. If you meant to do this, you must specify 'dtype=object' when creating the ndarray\n",
            "/usr/local/lib/python3.7/dist-packages/tensorflow/python/keras/datasets/imdb.py:159: VisibleDeprecationWarning: Creating an ndarray from ragged nested sequences (which is a list-or-tuple of lists-or-tuples-or ndarrays with different lengths or shapes) is deprecated. If you meant to do this, you must specify 'dtype=object' when creating the ndarray\n",
            "  x_train, y_train = np.array(xs[:idx]), np.array(labels[:idx])\n",
            "/usr/local/lib/python3.7/dist-packages/tensorflow/python/keras/datasets/imdb.py:160: VisibleDeprecationWarning: Creating an ndarray from ragged nested sequences (which is a list-or-tuple of lists-or-tuples-or ndarrays with different lengths or shapes) is deprecated. If you meant to do this, you must specify 'dtype=object' when creating the ndarray\n",
            "  x_test, y_test = np.array(xs[idx:]), np.array(labels[idx:])\n"
          ],
          "name": "stderr"
        }
      ]
    },
    {
      "cell_type": "markdown",
      "metadata": {
        "id": "deamZ2PLBhYI"
      },
      "source": [
        "num_words = 10000 : 빈도수가 높은 10000개의 단어만 사용, 드물게 나타나는 단어는 무시"
      ]
    },
    {
      "cell_type": "code",
      "metadata": {
        "colab": {
          "base_uri": "https://localhost:8080/"
        },
        "id": "XNDFxRufBtrG",
        "outputId": "5f8033ab-a748-485c-9b2d-76d885116662"
      },
      "source": [
        "print(\"train data 0번째 데이터의 앞 10개 단어 : {}\".format(train_data[0][:10]))\n",
        "\n",
        "train_data_len = [len(element) for element in train_data[:10]]\n",
        "\n",
        "print(\"train data 0 ~ 9번째 데이터의 길이 : {}\".format(train_data_len))\n",
        "\n",
        "print(\"train labels 0 ~ 19번째 데이터 : {}\".format(train_labels[:20]))"
      ],
      "execution_count": 4,
      "outputs": [
        {
          "output_type": "stream",
          "text": [
            "train data 0번째 데이터의 앞 10개 단어 : [1, 14, 22, 16, 43, 530, 973, 1622, 1385, 65]\n",
            "train data 0 ~ 9번째 데이터의 길이 : [218, 189, 141, 550, 147, 43, 123, 562, 233, 130]\n",
            "train labels 0 ~ 19번째 데이터 : [1 0 0 1 0 0 1 0 1 0 1 0 0 0 0 0 1 1 0 1]\n"
          ],
          "name": "stdout"
        }
      ]
    },
    {
      "cell_type": "markdown",
      "metadata": {
        "id": "yeSRq_jsCbAO"
      },
      "source": [
        "## 인덱스를 다시 단어로 변환  "
      ]
    },
    {
      "cell_type": "code",
      "metadata": {
        "colab": {
          "base_uri": "https://localhost:8080/"
        },
        "id": "llYoEWXMBvb3",
        "outputId": "638fac97-78f5-4d46-8b45-6c51d122791c"
      },
      "source": [
        "word_index = imdb.get_word_index()\n",
        "\n",
        "list(word_index.items())[:10]"
      ],
      "execution_count": 5,
      "outputs": [
        {
          "output_type": "execute_result",
          "data": {
            "text/plain": [
              "[('fawn', 34701),\n",
              " ('tsukino', 52006),\n",
              " ('nunnery', 52007),\n",
              " ('sonja', 16816),\n",
              " ('vani', 63951),\n",
              " ('woods', 1408),\n",
              " ('spiders', 16115),\n",
              " ('hanging', 2345),\n",
              " ('woody', 2289),\n",
              " ('trawling', 52008)]"
            ]
          },
          "metadata": {
            "tags": []
          },
          "execution_count": 5
        }
      ]
    },
    {
      "cell_type": "code",
      "metadata": {
        "id": "-qbdOgpvDJ9j"
      },
      "source": [
        "# (단어, 숫자) 구조를 (숫자, 단어) 형태로 변환\n",
        "\n",
        "reversed_word_index = dict([(value, key) for (key, value) in word_index.items()])\n",
        "\n",
        "# 0 : 패딩, 1 : 문서 시작, 2 : 사전에 없음 (unknown token)을 위한 index\n",
        "decoded_review = ' '.join([reversed_word_index.get(i - 3, '?') for i in train_data[0]])\n",
        "\n",
        "# dictionary.get(key, key값이 없을때 출력할 값) : key값에 해당하는 value를 반환"
      ],
      "execution_count": 6,
      "outputs": []
    },
    {
      "cell_type": "code",
      "metadata": {
        "colab": {
          "base_uri": "https://localhost:8080/",
          "height": 125
        },
        "id": "NojtcaUKFVA3",
        "outputId": "70f4f70e-8c29-4ab3-ec3c-574123f570c0"
      },
      "source": [
        "decoded_review"
      ],
      "execution_count": 7,
      "outputs": [
        {
          "output_type": "execute_result",
          "data": {
            "application/vnd.google.colaboratory.intrinsic+json": {
              "type": "string"
            },
            "text/plain": [
              "\"? this film was just brilliant casting location scenery story direction everyone's really suited the part they played and you could just imagine being there robert ? is an amazing actor and now the same being director ? father came from the same scottish island as myself so i loved the fact there was a real connection with this film the witty remarks throughout the film were great it was just brilliant so much that i bought the film as soon as it was released for ? and would recommend it to everyone to watch and the fly fishing was amazing really cried at the end it was so sad and you know what they say if you cry at a film it must have been good and this definitely was also ? to the two little boy's that played the ? of norman and paul they were just brilliant children are often left out of the ? list i think because the stars that play them all grown up are such a big profile for the whole film but these children are amazing and should be praised for what they have done don't you think the whole story was so lovely because it was true and was someone's life after all that was shared with us all\""
            ]
          },
          "metadata": {
            "tags": []
          },
          "execution_count": 7
        }
      ]
    },
    {
      "cell_type": "markdown",
      "metadata": {
        "id": "1cahVBZsGhuk"
      },
      "source": [
        "## 학습 데이터 준비"
      ]
    },
    {
      "cell_type": "code",
      "metadata": {
        "id": "y1PYbDvoFa6e"
      },
      "source": [
        "import numpy as np\n",
        "\n",
        "def vectorize_sequences(sequences, dimension = 10000):\n",
        "    \"\"\"\n",
        "    원핫인코딩을 해주는 함수\n",
        "    [1, 3, 5] => [0, 1, 0, 1, 0, 1] 식으로 변환\n",
        "    \"\"\"\n",
        "    \n",
        "    result = np.zeros((len(sequences), dimension))\n",
        "    for i, sequence in enumerate(sequences):\n",
        "        result[i, sequence] = 1.\n",
        "\n",
        "    return result"
      ],
      "execution_count": 8,
      "outputs": []
    },
    {
      "cell_type": "code",
      "metadata": {
        "id": "zgE0qmFhF1Kk"
      },
      "source": [
        "# 데이터셋 변환\n",
        "\n",
        "x_train = vectorize_sequences(train_data)\n",
        "x_test = vectorize_sequences(test_data)\n",
        "\n",
        "y_train = np.asarray(train_labels).astype('float32')\n",
        "y_test = np.asarray(test_labels).astype('float32')"
      ],
      "execution_count": 9,
      "outputs": []
    },
    {
      "cell_type": "code",
      "metadata": {
        "colab": {
          "base_uri": "https://localhost:8080/"
        },
        "id": "8DaGkb1iGJgw",
        "outputId": "026e0c3f-e9d8-4587-9073-ffd9c749e8eb"
      },
      "source": [
        "# x 데이터가 원핫인코딩 됐는지 shape로 확인\n",
        "\n",
        "x_train.shape, x_test.shape, y_train.shape, y_test.shape"
      ],
      "execution_count": 10,
      "outputs": [
        {
          "output_type": "execute_result",
          "data": {
            "text/plain": [
              "((25000, 10000), (25000, 10000), (25000,), (25000,))"
            ]
          },
          "metadata": {
            "tags": []
          },
          "execution_count": 10
        }
      ]
    },
    {
      "cell_type": "code",
      "metadata": {
        "colab": {
          "base_uri": "https://localhost:8080/"
        },
        "id": "_aHYqR9nGLm7",
        "outputId": "55d66361-a1ec-4307-8899-450f6be21283"
      },
      "source": [
        "print(np.sum(x_train[0, :]))\n",
        "print(len(train_data[0]))\n",
        "\n",
        "# 중복되는 단어가 있어서 218개의 단어가 120개로 줄었나? : 정답!"
      ],
      "execution_count": 11,
      "outputs": [
        {
          "output_type": "stream",
          "text": [
            "120.0\n",
            "218\n"
          ],
          "name": "stdout"
        }
      ]
    },
    {
      "cell_type": "code",
      "metadata": {
        "colab": {
          "base_uri": "https://localhost:8080/"
        },
        "id": "OeseuJvmKbhg",
        "outputId": "531cc947-0328-4539-efff-d8892ec98167"
      },
      "source": [
        "# 결과 예시\n",
        "\n",
        "x_train[0, :]"
      ],
      "execution_count": 12,
      "outputs": [
        {
          "output_type": "execute_result",
          "data": {
            "text/plain": [
              "array([0., 1., 1., ..., 0., 0., 0.])"
            ]
          },
          "metadata": {
            "tags": []
          },
          "execution_count": 12
        }
      ]
    },
    {
      "cell_type": "code",
      "metadata": {
        "colab": {
          "base_uri": "https://localhost:8080/"
        },
        "id": "A1IpQ9apHS6g",
        "outputId": "2e906458-4add-4245-8fa1-3f05dce14029"
      },
      "source": [
        "# numpy 없이 고유한 값 가져와서 갯수 세기\n",
        "\n",
        "from collections import defaultdict\n",
        "\n",
        "# 새로운 key를 입력받았는데 값이 없다면 기본값이 0인 딕셔너리 numpy 없이 고유한 값 가져와서 갯수 세기\n",
        "\n",
        "count_dict = defaultdict(int)\n",
        "\n",
        "for value in train_data[0]:\n",
        "    count_dict[value] += 1\n",
        "\n",
        "# key의 개수와 value의 합으로 제대로 작동했는지 확인\n",
        "print(len(list(count_dict.keys())), sum(list(count_dict.values())))\n",
        "\n",
        "count_dict"
      ],
      "execution_count": 13,
      "outputs": [
        {
          "output_type": "stream",
          "text": [
            "120 218\n"
          ],
          "name": "stdout"
        },
        {
          "output_type": "execute_result",
          "data": {
            "text/plain": [
              "defaultdict(int,\n",
              "            {1: 1,\n",
              "             2: 6,\n",
              "             4: 15,\n",
              "             5: 9,\n",
              "             6: 3,\n",
              "             7: 2,\n",
              "             8: 3,\n",
              "             9: 1,\n",
              "             12: 6,\n",
              "             13: 3,\n",
              "             14: 3,\n",
              "             15: 4,\n",
              "             16: 11,\n",
              "             17: 3,\n",
              "             18: 3,\n",
              "             19: 2,\n",
              "             21: 1,\n",
              "             22: 6,\n",
              "             25: 4,\n",
              "             26: 3,\n",
              "             28: 2,\n",
              "             30: 1,\n",
              "             32: 3,\n",
              "             33: 2,\n",
              "             35: 1,\n",
              "             36: 4,\n",
              "             38: 4,\n",
              "             39: 1,\n",
              "             43: 4,\n",
              "             46: 1,\n",
              "             48: 1,\n",
              "             50: 2,\n",
              "             51: 2,\n",
              "             52: 1,\n",
              "             56: 1,\n",
              "             62: 1,\n",
              "             65: 2,\n",
              "             66: 2,\n",
              "             71: 2,\n",
              "             76: 1,\n",
              "             77: 1,\n",
              "             82: 1,\n",
              "             87: 1,\n",
              "             88: 2,\n",
              "             92: 1,\n",
              "             98: 1,\n",
              "             100: 1,\n",
              "             103: 1,\n",
              "             104: 2,\n",
              "             106: 1,\n",
              "             107: 1,\n",
              "             112: 2,\n",
              "             113: 1,\n",
              "             117: 1,\n",
              "             124: 1,\n",
              "             130: 1,\n",
              "             134: 1,\n",
              "             135: 1,\n",
              "             141: 1,\n",
              "             144: 1,\n",
              "             147: 1,\n",
              "             150: 1,\n",
              "             167: 1,\n",
              "             172: 2,\n",
              "             173: 1,\n",
              "             178: 1,\n",
              "             192: 1,\n",
              "             194: 1,\n",
              "             215: 1,\n",
              "             224: 1,\n",
              "             226: 2,\n",
              "             256: 2,\n",
              "             283: 1,\n",
              "             284: 1,\n",
              "             297: 1,\n",
              "             316: 1,\n",
              "             317: 1,\n",
              "             336: 1,\n",
              "             381: 1,\n",
              "             385: 1,\n",
              "             386: 1,\n",
              "             400: 1,\n",
              "             407: 1,\n",
              "             447: 1,\n",
              "             458: 1,\n",
              "             469: 1,\n",
              "             476: 2,\n",
              "             480: 3,\n",
              "             515: 1,\n",
              "             530: 3,\n",
              "             546: 1,\n",
              "             619: 1,\n",
              "             626: 1,\n",
              "             670: 1,\n",
              "             723: 1,\n",
              "             838: 1,\n",
              "             973: 1,\n",
              "             1029: 1,\n",
              "             1111: 1,\n",
              "             1247: 1,\n",
              "             1334: 1,\n",
              "             1385: 1,\n",
              "             1415: 1,\n",
              "             1622: 1,\n",
              "             1920: 1,\n",
              "             2025: 1,\n",
              "             2071: 1,\n",
              "             2223: 1,\n",
              "             3766: 1,\n",
              "             3785: 1,\n",
              "             3941: 1,\n",
              "             4468: 1,\n",
              "             4472: 1,\n",
              "             4536: 1,\n",
              "             4613: 1,\n",
              "             5244: 1,\n",
              "             5345: 1,\n",
              "             5535: 1,\n",
              "             5952: 1,\n",
              "             7486: 1})"
            ]
          },
          "metadata": {
            "tags": []
          },
          "execution_count": 13
        }
      ]
    },
    {
      "cell_type": "markdown",
      "metadata": {
        "id": "qxKm9cBAGrwK"
      },
      "source": [
        "## 신경망 모델 만들기"
      ]
    },
    {
      "cell_type": "code",
      "metadata": {
        "id": "Tni9EyudGvFZ"
      },
      "source": [
        "from keras import models\n",
        "from keras import layers\n",
        "\n",
        "# 모델 구조 만들기\n",
        "model = models.Sequential()\n",
        "model.add(layers.Dense(32, activation = 'relu', input_shape = (10000, )))\n",
        "model.add(layers.Dense(16, activation = 'relu'))\n",
        "model.add(layers.Dense(1, activation = 'sigmoid')) # output이 이진분류이기 때문에 마지막 layer의 activation은 sigmoid\n",
        "\n",
        "# compile로 모델 학습 방법 결정\n",
        "model.compile(optimizer = 'rmsprop',\n",
        "              loss = 'binary_crossentropy',\n",
        "              metrics = ['accuracy'])"
      ],
      "execution_count": 14,
      "outputs": []
    },
    {
      "cell_type": "markdown",
      "metadata": {
        "id": "_5PHF-1-NKOx"
      },
      "source": [
        "이런식으로 클래스를 호출해서 매개변수를 변경하여 사용할 수도 있음\n",
        "\n",
        "=> 자신만의 최적화방법이나 손실함수, 성능측정지표를 개발하여 사용할 수 있다는 의미\n",
        "\n",
        "```\n",
        "from keras import optimizers\n",
        "from keras import losses\n",
        "from keras import metrics\n",
        "\n",
        "mode.compile(optimizer = optimizers.RMSprop(lr = 0.001),\n",
        "             loss = losses.binary_crossentropy,\n",
        "             metrics = [metrics.binary_accuracy])\n",
        "```"
      ]
    },
    {
      "cell_type": "markdown",
      "metadata": {
        "id": "62cSnNjcNzzv"
      },
      "source": [
        "## 훈련 검증"
      ]
    },
    {
      "cell_type": "code",
      "metadata": {
        "id": "kB2T-OBBN1ot"
      },
      "source": [
        "# 학습용 데이터와 validation 데이터를 분리\n",
        "# 학습과정 내에서 validation을 평가하여 결과에 반영\n",
        "\n",
        "partial_x_train = x_train[:-5000]\n",
        "x_val = x_train[-5000:]\n",
        "\n",
        "partial_y_train = y_train[:-5000]\n",
        "y_val = y_train[-5000:]"
      ],
      "execution_count": 15,
      "outputs": []
    },
    {
      "cell_type": "code",
      "metadata": {
        "colab": {
          "base_uri": "https://localhost:8080/"
        },
        "id": "IQEVKhBoOYt2",
        "outputId": "6bba6386-7af8-4302-8ecd-70b912b51003"
      },
      "source": [
        "# 모델 학습\n",
        "\n",
        "tf.random.set_seed(20152410)\n",
        "\n",
        "history = model.fit(partial_x_train,\n",
        "                    partial_y_train,\n",
        "                    epochs = 20,\n",
        "                    batch_size = 512,\n",
        "                    validation_data = (x_val, y_val))"
      ],
      "execution_count": 16,
      "outputs": [
        {
          "output_type": "stream",
          "text": [
            "Epoch 1/20\n",
            "40/40 [==============================] - 2s 47ms/step - loss: 0.5527 - accuracy: 0.7138 - val_loss: 0.3273 - val_accuracy: 0.8840\n",
            "Epoch 2/20\n",
            "40/40 [==============================] - 1s 36ms/step - loss: 0.2658 - accuracy: 0.9113 - val_loss: 0.2979 - val_accuracy: 0.8824\n",
            "Epoch 3/20\n",
            "40/40 [==============================] - 1s 35ms/step - loss: 0.1956 - accuracy: 0.9305 - val_loss: 0.3295 - val_accuracy: 0.8730\n",
            "Epoch 4/20\n",
            "40/40 [==============================] - 1s 35ms/step - loss: 0.1553 - accuracy: 0.9470 - val_loss: 0.2858 - val_accuracy: 0.8926\n",
            "Epoch 5/20\n",
            "40/40 [==============================] - 1s 35ms/step - loss: 0.1217 - accuracy: 0.9610 - val_loss: 0.3212 - val_accuracy: 0.8804\n",
            "Epoch 6/20\n",
            "40/40 [==============================] - 1s 35ms/step - loss: 0.1024 - accuracy: 0.9679 - val_loss: 0.3229 - val_accuracy: 0.8866\n",
            "Epoch 7/20\n",
            "40/40 [==============================] - 1s 34ms/step - loss: 0.0835 - accuracy: 0.9748 - val_loss: 0.3556 - val_accuracy: 0.8838\n",
            "Epoch 8/20\n",
            "40/40 [==============================] - 1s 35ms/step - loss: 0.0671 - accuracy: 0.9813 - val_loss: 0.3966 - val_accuracy: 0.8778\n",
            "Epoch 9/20\n",
            "40/40 [==============================] - 1s 35ms/step - loss: 0.0585 - accuracy: 0.9831 - val_loss: 0.4137 - val_accuracy: 0.8818\n",
            "Epoch 10/20\n",
            "40/40 [==============================] - 1s 36ms/step - loss: 0.0467 - accuracy: 0.9884 - val_loss: 0.4613 - val_accuracy: 0.8678\n",
            "Epoch 11/20\n",
            "40/40 [==============================] - 1s 35ms/step - loss: 0.0353 - accuracy: 0.9908 - val_loss: 0.4894 - val_accuracy: 0.8776\n",
            "Epoch 12/20\n",
            "40/40 [==============================] - 1s 35ms/step - loss: 0.0263 - accuracy: 0.9944 - val_loss: 0.4957 - val_accuracy: 0.8718\n",
            "Epoch 13/20\n",
            "40/40 [==============================] - 1s 35ms/step - loss: 0.0218 - accuracy: 0.9954 - val_loss: 0.5414 - val_accuracy: 0.8718\n",
            "Epoch 14/20\n",
            "40/40 [==============================] - 1s 35ms/step - loss: 0.0236 - accuracy: 0.9930 - val_loss: 0.5656 - val_accuracy: 0.8734\n",
            "Epoch 15/20\n",
            "40/40 [==============================] - 1s 35ms/step - loss: 0.0145 - accuracy: 0.9965 - val_loss: 0.5947 - val_accuracy: 0.8724\n",
            "Epoch 16/20\n",
            "40/40 [==============================] - 1s 35ms/step - loss: 0.0098 - accuracy: 0.9982 - val_loss: 0.6325 - val_accuracy: 0.8712\n",
            "Epoch 17/20\n",
            "40/40 [==============================] - 1s 35ms/step - loss: 0.0062 - accuracy: 0.9992 - val_loss: 0.6670 - val_accuracy: 0.8718\n",
            "Epoch 18/20\n",
            "40/40 [==============================] - 1s 35ms/step - loss: 0.0042 - accuracy: 0.9995 - val_loss: 0.8321 - val_accuracy: 0.8600\n",
            "Epoch 19/20\n",
            "40/40 [==============================] - 1s 34ms/step - loss: 0.0079 - accuracy: 0.9981 - val_loss: 0.7482 - val_accuracy: 0.8680\n",
            "Epoch 20/20\n",
            "40/40 [==============================] - 1s 34ms/step - loss: 0.0021 - accuracy: 0.9999 - val_loss: 0.7871 - val_accuracy: 0.8700\n"
          ],
          "name": "stdout"
        }
      ]
    },
    {
      "cell_type": "markdown",
      "metadata": {
        "id": "zHgYHaEXO21E"
      },
      "source": [
        "model.fit() 메서드는 history 객체를 반환\n",
        "\n",
        "history는 훈련하는 동안 발생한 모든 정보를 담고 있는 딕셔너리odel.fit() 메서드는 history 객체를 반환"
      ]
    },
    {
      "cell_type": "code",
      "metadata": {
        "colab": {
          "base_uri": "https://localhost:8080/"
        },
        "id": "79Q_9AoBPDqs",
        "outputId": "5bd222bb-cafa-4635-f5b4-bf20f29c6d55"
      },
      "source": [
        "# history.history의 keys 확인\n",
        "\n",
        "history.history.keys()"
      ],
      "execution_count": 17,
      "outputs": [
        {
          "output_type": "execute_result",
          "data": {
            "text/plain": [
              "dict_keys(['loss', 'accuracy', 'val_loss', 'val_accuracy'])"
            ]
          },
          "metadata": {
            "tags": []
          },
          "execution_count": 17
        }
      ]
    },
    {
      "cell_type": "code",
      "metadata": {
        "id": "ciYTiB5kPIsU"
      },
      "source": [
        "import matplotlib\n",
        "import matplotlib.pyplot as plt"
      ],
      "execution_count": 18,
      "outputs": []
    },
    {
      "cell_type": "code",
      "metadata": {
        "id": "p0gw-E-ASE9M"
      },
      "source": [
        "# 비용함수, 정확도 불러오기\n",
        "\n",
        "accuracy = history.history['accuracy']\n",
        "val_accuracy = history.history['val_accuracy']\n",
        "loss = history.history['loss']\n",
        "val_loss = history.history['val_loss']\n",
        "\n",
        "epochs = np.arange(1, len(accuracy) + 1)"
      ],
      "execution_count": 19,
      "outputs": []
    },
    {
      "cell_type": "code",
      "metadata": {
        "colab": {
          "base_uri": "https://localhost:8080/",
          "height": 297
        },
        "id": "_rZasF9JPPhD",
        "outputId": "5ffc4102-8e06-45ce-bf55-bc84a5e05a80"
      },
      "source": [
        "# train loss, validation loss 그래프 확인\n",
        "\n",
        "plt.figure(figsize = (6, 4))\n",
        "plt.plot(epochs, loss, 'bo', label = \"train loss\")\n",
        "plt.plot(epochs, val_loss, 'ro', label = \"val loss\")\n",
        "\n",
        "plt.title(\"Train and Validation loss\", fontsize = 15)\n",
        "plt.xlabel(\"Epochs\")\n",
        "plt.ylabel('Loss')\n",
        "plt.legend()\n",
        "\n",
        "plt.tight_layout()\n",
        "plt.show()"
      ],
      "execution_count": 20,
      "outputs": [
        {
          "output_type": "display_data",
          "data": {
            "image/png": "[encoded data removed]",
            "text/plain": [
              "<Figure size 432x288 with 1 Axes>"
            ]
          },
          "metadata": {
            "tags": [],
            "needs_background": "light"
          }
        }
      ]
    },
    {
      "cell_type": "code",
      "metadata": {
        "colab": {
          "base_uri": "https://localhost:8080/",
          "height": 297
        },
        "id": "bbzGIMyQS65S",
        "outputId": "42640b63-8c74-4d46-d1e6-204de16abe05"
      },
      "source": [
        "# train accuracy, validation accuracy 그래프 확인\n",
        "\n",
        "plt.figure(figsize = (6, 4))\n",
        "plt.plot(epochs, accuracy, 'bo', label = \"train acc\")\n",
        "plt.plot(epochs, val_accuracy, 'ro', label = \"val acc\")\n",
        "\n",
        "plt.title(\"Train and Validation accuracy\", fontsize = 15)\n",
        "plt.xlabel(\"Epochs\")\n",
        "plt.ylabel('Accuracy')\n",
        "plt.legend()\n",
        "\n",
        "plt.tight_layout()\n",
        "plt.show()"
      ],
      "execution_count": 21,
      "outputs": [
        {
          "output_type": "display_data",
          "data": {
            "image/png": "[encoded data removed]",
            "text/plain": [
              "<Figure size 432x288 with 1 Axes>"
            ]
          },
          "metadata": {
            "tags": [],
            "needs_background": "light"
          }
        }
      ]
    },
    {
      "cell_type": "markdown",
      "metadata": {
        "id": "wNz4Lr2NWaPo"
      },
      "source": [
        "train이 적당히 학습되고, validation accuracy가 높은 epochs = 4로 최종 모델을 학습하도록 하겠습니다. 최종 모델에선 25000개 데이터 전부 사용합니다."
      ]
    },
    {
      "cell_type": "markdown",
      "metadata": {
        "id": "kPHGa8u_WYSo"
      },
      "source": [
        "## 최종 모델 만들기"
      ]
    },
    {
      "cell_type": "code",
      "metadata": {
        "id": "GeUoUlBJTzpH"
      },
      "source": [
        "# 모델 구조 만들기\n",
        "model = models.Sequential()\n",
        "model.add(layers.Dense(32, activation = 'relu', input_shape = (10000, )))\n",
        "model.add(layers.Dense(16, activation = 'relu'))\n",
        "model.add(layers.Dense(1, activation = 'sigmoid'))\n",
        "\n",
        "# compile로 모델 학습 방법 결정\n",
        "from keras import optimizers\n",
        "from keras import losses\n",
        "from keras import metrics\n",
        "\n",
        "model.compile(optimizer = optimizers.RMSprop(lr = 0.001),\n",
        "             loss = losses.binary_crossentropy,\n",
        "             metrics = [metrics.binary_accuracy])"
      ],
      "execution_count": 22,
      "outputs": []
    },
    {
      "cell_type": "code",
      "metadata": {
        "colab": {
          "base_uri": "https://localhost:8080/"
        },
        "id": "UhUYTkWtWR6F",
        "outputId": "76f679fc-1368-4837-cd57-db4c372e9cf5"
      },
      "source": [
        "# 최종 모델 학습\n",
        "\n",
        "tf.random.set_seed(20152410)\n",
        "\n",
        "model.fit(x_train,\n",
        "          y_train,\n",
        "          epochs = 4,\n",
        "          batch_size = 512)"
      ],
      "execution_count": 23,
      "outputs": [
        {
          "output_type": "stream",
          "text": [
            "Epoch 1/4\n",
            "49/49 [==============================] - 2s 31ms/step - loss: 0.5324 - binary_accuracy: 0.7397\n",
            "Epoch 2/4\n",
            "49/49 [==============================] - 1s 30ms/step - loss: 0.2542 - binary_accuracy: 0.9107\n",
            "Epoch 3/4\n",
            "49/49 [==============================] - 1s 30ms/step - loss: 0.1889 - binary_accuracy: 0.9318\n",
            "Epoch 4/4\n",
            "49/49 [==============================] - 1s 30ms/step - loss: 0.1521 - binary_accuracy: 0.9469\n"
          ],
          "name": "stdout"
        },
        {
          "output_type": "execute_result",
          "data": {
            "text/plain": [
              "<tensorflow.python.keras.callbacks.History at 0x7f6c08ee5990>"
            ]
          },
          "metadata": {
            "tags": []
          },
          "execution_count": 23
        }
      ]
    },
    {
      "cell_type": "code",
      "metadata": {
        "colab": {
          "base_uri": "https://localhost:8080/"
        },
        "id": "MRmp5zi_XfC-",
        "outputId": "49bc5b65-fcb1-4387-b830-c20dcdaf519f"
      },
      "source": [
        "# predict 메서드를 이용하여 예측값 생성\n",
        "\n",
        "model.predict(x_test[:10])"
      ],
      "execution_count": 24,
      "outputs": [
        {
          "output_type": "execute_result",
          "data": {
            "text/plain": [
              "array([[0.1664933 ],\n",
              "       [0.9999447 ],\n",
              "       [0.9256869 ],\n",
              "       [0.8653803 ],\n",
              "       [0.9662573 ],\n",
              "       [0.89047   ],\n",
              "       [0.99978614],\n",
              "       [0.00813586],\n",
              "       [0.9742776 ],\n",
              "       [0.9969731 ]], dtype=float32)"
            ]
          },
          "metadata": {
            "tags": []
          },
          "execution_count": 24
        }
      ]
    },
    {
      "cell_type": "code",
      "metadata": {
        "colab": {
          "base_uri": "https://localhost:8080/"
        },
        "id": "F_TdL5neW_D3",
        "outputId": "d715f913-dd10-40b1-c1a5-5be21f733f4b"
      },
      "source": [
        "# evaluate 메서드를 활용하여 test 데이터에 대한 성능 측정\n",
        "\n",
        "result = model.evaluate(x_test, y_test)\n",
        "\n",
        "print(\"Test loss : {}, Test accuracy : {}\".format(result[0], result[1]))"
      ],
      "execution_count": 25,
      "outputs": [
        {
          "output_type": "stream",
          "text": [
            "782/782 [==============================] - 2s 2ms/step - loss: 0.3043 - binary_accuracy: 0.8812\n",
            "Test loss : 0.3043091893196106, Test accuracy : 0.8812400102615356\n"
          ],
          "name": "stdout"
        }
      ]
    },
    {
      "cell_type": "markdown",
      "metadata": {
        "id": "NSjuHF4HZzfa"
      },
      "source": [
        "최종 모델의 테스트 정확도는 약 88%\n",
        "\n",
        "layer의 개수를 추가한다거나, layer의 node 수를 변경한다는 등 모델의 구조를 바꿔 성능을 높힐 수 있다!"
      ]
    }
  ]
}