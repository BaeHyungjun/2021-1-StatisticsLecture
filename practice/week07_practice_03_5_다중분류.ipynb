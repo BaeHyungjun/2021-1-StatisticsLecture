{
  "nbformat": 4,
  "nbformat_minor": 0,
  "metadata": {
    "colab": {
      "name": "week07_practice_03-5_다중분류.ipynb",
      "provenance": [],
      "collapsed_sections": []
    },
    "kernelspec": {
      "name": "python3",
      "display_name": "Python 3"
    },
    "language_info": {
      "name": "python"
    }
  },
  "cells": [
    {
      "cell_type": "markdown",
      "metadata": {
        "id": "g1f9WY2DZVPH"
      },
      "source": [
        "# Deep learning with Python\n",
        "\n",
        "# 03. Getting started with neural networks"
      ]
    },
    {
      "cell_type": "markdown",
      "metadata": {
        "id": "h4xckbk_c0Iw"
      },
      "source": [
        "# 3.5 다중 분류 문제 : 로이터 데이터셋을 이용한 뉴스 기사 분류"
      ]
    },
    {
      "cell_type": "markdown",
      "metadata": {
        "id": "Sr9NI9piM6mM"
      },
      "source": [
        "## 데이터 불러오기"
      ]
    },
    {
      "cell_type": "code",
      "metadata": {
        "colab": {
          "base_uri": "https://localhost:8080/"
        },
        "id": "9nUaSjDoKcrE",
        "outputId": "59f80263-e543-413a-92fd-118d77fdf995"
      },
      "source": [
        "# 데이터 다운로드\n",
        "\n",
        "from keras.datasets import reuters\n",
        "\n",
        "(train_data, train_labels), (test_data, test_labels) = reuters.load_data(num_words = 10000)"
      ],
      "execution_count": 1,
      "outputs": [
        {
          "output_type": "stream",
          "text": [
            "/usr/local/lib/python3.7/dist-packages/tensorflow/python/keras/datasets/reuters.py:148: VisibleDeprecationWarning: Creating an ndarray from ragged nested sequences (which is a list-or-tuple of lists-or-tuples-or ndarrays with different lengths or shapes) is deprecated. If you meant to do this, you must specify 'dtype=object' when creating the ndarray\n",
            "  x_train, y_train = np.array(xs[:idx]), np.array(labels[:idx])\n",
            "/usr/local/lib/python3.7/dist-packages/tensorflow/python/keras/datasets/reuters.py:149: VisibleDeprecationWarning: Creating an ndarray from ragged nested sequences (which is a list-or-tuple of lists-or-tuples-or ndarrays with different lengths or shapes) is deprecated. If you meant to do this, you must specify 'dtype=object' when creating the ndarray\n",
            "  x_test, y_test = np.array(xs[idx:]), np.array(labels[idx:])\n"
          ],
          "name": "stderr"
        }
      ]
    },
    {
      "cell_type": "markdown",
      "metadata": {
        "id": "ab-EZ87LLSp8"
      },
      "source": [
        "이번에도 빈도수가 높은 단어 10000개만 사용"
      ]
    },
    {
      "cell_type": "code",
      "metadata": {
        "colab": {
          "base_uri": "https://localhost:8080/"
        },
        "id": "M1Vbj6E6LaJy",
        "outputId": "ae4d3d4e-f4a7-4a58-fafb-39e0ce550891"
      },
      "source": [
        "# 데이터 형태 확인\n",
        "\n",
        "print(\"train data shape :\", train_data.shape)\n",
        "print(\"train labels shape :\", train_labels.shape)\n",
        "print(\"test data shape :\", test_data.shape)\n",
        "print(\"test labels shape :\", test_labels.shape)"
      ],
      "execution_count": 2,
      "outputs": [
        {
          "output_type": "stream",
          "text": [
            "train data shape : (8982,)\n",
            "train labels shape : (8982,)\n",
            "test data shape : (2246,)\n",
            "test labels shape : (2246,)\n"
          ],
          "name": "stdout"
        }
      ]
    },
    {
      "cell_type": "code",
      "metadata": {
        "colab": {
          "base_uri": "https://localhost:8080/"
        },
        "id": "L9VCDgYXLp3g",
        "outputId": "27e57799-8ec4-45f9-81f6-00c33b61fd2a"
      },
      "source": [
        "# data의 예시 데이터 출력\n",
        "# 1차원 array인데 각 원소가 list인 train_data\n",
        "\n",
        "train_data[0:2]"
      ],
      "execution_count": 3,
      "outputs": [
        {
          "output_type": "execute_result",
          "data": {
            "text/plain": [
              "array([list([1, 2, 2, 8, 43, 10, 447, 5, 25, 207, 270, 5, 3095, 111, 16, 369, 186, 90, 67, 7, 89, 5, 19, 102, 6, 19, 124, 15, 90, 67, 84, 22, 482, 26, 7, 48, 4, 49, 8, 864, 39, 209, 154, 6, 151, 6, 83, 11, 15, 22, 155, 11, 15, 7, 48, 9, 4579, 1005, 504, 6, 258, 6, 272, 11, 15, 22, 134, 44, 11, 15, 16, 8, 197, 1245, 90, 67, 52, 29, 209, 30, 32, 132, 6, 109, 15, 17, 12]),\n",
              "       list([1, 3267, 699, 3434, 2295, 56, 2, 7511, 9, 56, 3906, 1073, 81, 5, 1198, 57, 366, 737, 132, 20, 4093, 7, 2, 49, 2295, 2, 1037, 3267, 699, 3434, 8, 7, 10, 241, 16, 855, 129, 231, 783, 5, 4, 587, 2295, 2, 2, 775, 7, 48, 34, 191, 44, 35, 1795, 505, 17, 12])],\n",
              "      dtype=object)"
            ]
          },
          "metadata": {
            "tags": []
          },
          "execution_count": 3
        }
      ]
    },
    {
      "cell_type": "code",
      "metadata": {
        "id": "mY6u2-MRMFSQ"
      },
      "source": [
        "# 디코딩해서 정수 인덱스를 다시 단어로 변환\n",
        "\n",
        "word_index = reuters.get_word_index()\n",
        "reversed_word_index = dict([(value, key) for (key, value) in word_index.items()])\n",
        "\n",
        "# 제외해야하는 토큰 : 0 - 패딩, 1 - 문서 시작, 2 - 사전에 없음\n",
        "\n",
        "decoded_newswire_0 = ' '.join([reversed_word_index.get(i - 3, '?') for i in train_data[0]])"
      ],
      "execution_count": 4,
      "outputs": []
    },
    {
      "cell_type": "code",
      "metadata": {
        "colab": {
          "base_uri": "https://localhost:8080/",
          "height": 71
        },
        "id": "RMh7jS15MkiF",
        "outputId": "36013e5d-4226-4df0-e346-563af0def288"
      },
      "source": [
        "decoded_newswire_0"
      ],
      "execution_count": 5,
      "outputs": [
        {
          "output_type": "execute_result",
          "data": {
            "application/vnd.google.colaboratory.intrinsic+json": {
              "type": "string"
            },
            "text/plain": [
              "'? ? ? said as a result of its december acquisition of space co it expects earnings per share in 1987 of 1 15 to 1 30 dlrs per share up from 70 cts in 1986 the company said pretax net should rise to nine to 10 mln dlrs from six mln dlrs in 1986 and rental operation revenues to 19 to 22 mln dlrs from 12 5 mln dlrs it said cash flow per share this year should be 2 50 to three dlrs reuter 3'"
            ]
          },
          "metadata": {
            "tags": []
          },
          "execution_count": 5
        }
      ]
    },
    {
      "cell_type": "code",
      "metadata": {
        "colab": {
          "base_uri": "https://localhost:8080/"
        },
        "id": "FL6F9yZwMn_V",
        "outputId": "9c690221-91ac-4d74-a31e-9ac49d4f7e21"
      },
      "source": [
        "# labels의 예시 데이터 출력\n",
        "\n",
        "train_labels[:10]"
      ],
      "execution_count": 6,
      "outputs": [
        {
          "output_type": "execute_result",
          "data": {
            "text/plain": [
              "array([ 3,  4,  3,  4,  4,  4,  4,  3,  3, 16])"
            ]
          },
          "metadata": {
            "tags": []
          },
          "execution_count": 6
        }
      ]
    },
    {
      "cell_type": "markdown",
      "metadata": {
        "id": "WQPY_4IDMytV"
      },
      "source": [
        "## 데이터 준비\n",
        "\n",
        "원래 텍스트 데이터는 원핫인코딩도 순서를 고려하는 것으로 알고 있는데 책 초반의 예제라 그런지 순서는 고려하지 않는 듯\n",
        "\n",
        "- 원핫 인코딩 예시\n",
        "\n",
        "[1, 3, 5] => [0, 1, 0, 1, 0, 1]\n",
        "\n",
        "- 순서를 고려한 원핫 인코딩 예시\n",
        "\n",
        "[1, 3, 5] => [[0, 1, 0, 0, 0, 0], [0, 0, 0, 1, 0, 0], [0, 0, 0, 0, 0, 1]]"
      ]
    },
    {
      "cell_type": "code",
      "metadata": {
        "id": "V8-jxfk4M5jX"
      },
      "source": [
        "# 원핫인코딩\n",
        "\n",
        "import numpy as np\n",
        "\n",
        "def onehotencoding(sequences, dimension):\n",
        "    \n",
        "    result = np.zeros((len(sequences), dimension))\n",
        "    for i, sequence in enumerate(sequences):\n",
        "        result[i, sequence] = 1.\n",
        "\n",
        "    return result"
      ],
      "execution_count": 7,
      "outputs": []
    },
    {
      "cell_type": "code",
      "metadata": {
        "id": "Ya8pBSAbN2s7"
      },
      "source": [
        "# train과 test의 학습용 데이터 생성\n",
        "\n",
        "onehot_x_train = onehotencoding(train_data, dimension = 10000)\n",
        "onehot_x_test = onehotencoding(test_data, dimension = 10000)\n",
        "\n",
        "onehot_y_train = onehotencoding(train_labels, dimension = 46)\n",
        "onehot_y_test = onehotencoding(test_labels, dimension = 46)"
      ],
      "execution_count": 8,
      "outputs": []
    },
    {
      "cell_type": "code",
      "metadata": {
        "id": "iE5weG7tOLNx"
      },
      "source": [
        "# 케라스의 내장 함수를 이용하는 방법도 있음\n",
        "\n",
        "from keras.utils.np_utils import to_categorical"
      ],
      "execution_count": 9,
      "outputs": []
    },
    {
      "cell_type": "markdown",
      "metadata": {
        "id": "LRgt_71OOXmZ"
      },
      "source": [
        "## 데이터 홀드아웃 및 모델 학습"
      ]
    },
    {
      "cell_type": "code",
      "metadata": {
        "id": "H6bM-o7NOY5i"
      },
      "source": [
        "from keras import models\n",
        "from keras import layers\n",
        "\n",
        "def build_model():\n",
        "\n",
        "    model = models.Sequential()\n",
        "    model.add(layers.Dense(128, activation = 'relu', input_shape = (10000, )))\n",
        "    model.add(layers.Dense(64, activation = 'relu'))\n",
        "    model.add(layers.Dense(46, activation = 'softmax'))\n",
        "    # 다중분류 문제에서 마지막 layer의 activation은 softmax로 지정\n",
        "\n",
        "    model.compile(optimizer = 'rmsprop',\n",
        "                  loss = 'categorical_crossentropy',\n",
        "                  metrics = ['accuracy'])\n",
        "    \n",
        "    return model"
      ],
      "execution_count": 10,
      "outputs": []
    },
    {
      "cell_type": "code",
      "metadata": {
        "id": "ID-ykV3xPZzN"
      },
      "source": [
        "# train 데이터를 train과 validation으로 분할\n",
        "\n",
        "x_train = onehot_x_train[:-1000]\n",
        "x_val = onehot_x_train[-1000:]\n",
        "\n",
        "y_train = onehot_y_train[:-1000]\n",
        "y_val = onehot_y_train[-1000:]\n",
        "\n",
        "# 모델 객체 생성\n",
        "\n",
        "model_train = build_model()"
      ],
      "execution_count": 11,
      "outputs": []
    },
    {
      "cell_type": "code",
      "metadata": {
        "colab": {
          "base_uri": "https://localhost:8080/"
        },
        "id": "SeXo094VPqSs",
        "outputId": "12463686-918a-4394-876b-b9ebb068060d"
      },
      "source": [
        "import tensorflow as tf\n",
        "\n",
        "tf.random.set_seed(20152410)\n",
        "\n",
        "history = model_train.fit(x_train,\n",
        "                          y_train,\n",
        "                          epochs = 20,\n",
        "                          batch_size = 512,\n",
        "                          validation_data = (x_val, y_val))"
      ],
      "execution_count": 12,
      "outputs": [
        {
          "output_type": "stream",
          "text": [
            "Epoch 1/20\n",
            "16/16 [==============================] - 2s 110ms/step - loss: 2.8060 - accuracy: 0.4454 - val_loss: 1.4928 - val_accuracy: 0.7090\n",
            "Epoch 2/20\n",
            "16/16 [==============================] - 1s 78ms/step - loss: 1.2208 - accuracy: 0.7327 - val_loss: 1.2112 - val_accuracy: 0.7340\n",
            "Epoch 3/20\n",
            "16/16 [==============================] - 1s 76ms/step - loss: 0.8244 - accuracy: 0.8237 - val_loss: 1.0994 - val_accuracy: 0.7610\n",
            "Epoch 4/20\n",
            "16/16 [==============================] - 1s 76ms/step - loss: 0.5943 - accuracy: 0.8800 - val_loss: 1.0342 - val_accuracy: 0.7870\n",
            "Epoch 5/20\n",
            "16/16 [==============================] - 1s 76ms/step - loss: 0.4532 - accuracy: 0.9081 - val_loss: 1.0082 - val_accuracy: 0.7740\n",
            "Epoch 6/20\n",
            "16/16 [==============================] - 1s 77ms/step - loss: 0.3370 - accuracy: 0.9315 - val_loss: 0.9615 - val_accuracy: 0.7930\n",
            "Epoch 7/20\n",
            "16/16 [==============================] - 1s 76ms/step - loss: 0.2660 - accuracy: 0.9427 - val_loss: 0.9713 - val_accuracy: 0.7920\n",
            "Epoch 8/20\n",
            "16/16 [==============================] - 1s 76ms/step - loss: 0.2056 - accuracy: 0.9531 - val_loss: 1.0275 - val_accuracy: 0.7790\n",
            "Epoch 9/20\n",
            "16/16 [==============================] - 1s 76ms/step - loss: 0.1830 - accuracy: 0.9561 - val_loss: 0.9924 - val_accuracy: 0.7980\n",
            "Epoch 10/20\n",
            "16/16 [==============================] - 1s 75ms/step - loss: 0.1529 - accuracy: 0.9603 - val_loss: 1.0450 - val_accuracy: 0.7910\n",
            "Epoch 11/20\n",
            "16/16 [==============================] - 1s 77ms/step - loss: 0.1350 - accuracy: 0.9626 - val_loss: 1.1066 - val_accuracy: 0.7930\n",
            "Epoch 12/20\n",
            "16/16 [==============================] - 1s 75ms/step - loss: 0.1323 - accuracy: 0.9595 - val_loss: 1.0745 - val_accuracy: 0.7870\n",
            "Epoch 13/20\n",
            "16/16 [==============================] - 1s 76ms/step - loss: 0.1241 - accuracy: 0.9630 - val_loss: 1.1442 - val_accuracy: 0.7900\n",
            "Epoch 14/20\n",
            "16/16 [==============================] - 1s 76ms/step - loss: 0.1155 - accuracy: 0.9612 - val_loss: 1.1493 - val_accuracy: 0.7780\n",
            "Epoch 15/20\n",
            "16/16 [==============================] - 1s 76ms/step - loss: 0.1057 - accuracy: 0.9625 - val_loss: 1.2102 - val_accuracy: 0.7690\n",
            "Epoch 16/20\n",
            "16/16 [==============================] - 1s 77ms/step - loss: 0.0925 - accuracy: 0.9676 - val_loss: 1.3724 - val_accuracy: 0.7470\n",
            "Epoch 17/20\n",
            "16/16 [==============================] - 1s 77ms/step - loss: 0.1051 - accuracy: 0.9626 - val_loss: 1.2580 - val_accuracy: 0.7810\n",
            "Epoch 18/20\n",
            "16/16 [==============================] - 1s 75ms/step - loss: 0.1030 - accuracy: 0.9603 - val_loss: 1.2432 - val_accuracy: 0.7850\n",
            "Epoch 19/20\n",
            "16/16 [==============================] - 1s 78ms/step - loss: 0.0897 - accuracy: 0.9663 - val_loss: 1.2196 - val_accuracy: 0.7880\n",
            "Epoch 20/20\n",
            "16/16 [==============================] - 1s 74ms/step - loss: 0.0918 - accuracy: 0.9625 - val_loss: 1.2709 - val_accuracy: 0.7870\n"
          ],
          "name": "stdout"
        }
      ]
    },
    {
      "cell_type": "code",
      "metadata": {
        "id": "f3cI8xqAQHSD"
      },
      "source": [
        "import matplotlib\n",
        "import matplotlib.pyplot as plt"
      ],
      "execution_count": 13,
      "outputs": []
    },
    {
      "cell_type": "code",
      "metadata": {
        "id": "aKcVBH9OQYAl"
      },
      "source": [
        "loss = history.history['loss']\n",
        "val_loss = history.history['val_loss']\n",
        "\n",
        "accuracy = history.history['accuracy']\n",
        "val_accuracy = history.history['val_accuracy']\n",
        "\n",
        "epochs = list(range(1, len(loss) + 1))"
      ],
      "execution_count": 14,
      "outputs": []
    },
    {
      "cell_type": "code",
      "metadata": {
        "colab": {
          "base_uri": "https://localhost:8080/",
          "height": 297
        },
        "id": "QGL2Yy24Pzzr",
        "outputId": "e7e18f54-a2db-4a90-d771-9e7289aaa7a0"
      },
      "source": [
        "# train loss, validation loss 그래프 확인\n",
        "\n",
        "plt.figure(figsize = (6, 4))\n",
        "plt.plot(epochs, loss, 'bo', label = \"train loss\")\n",
        "plt.plot(epochs, val_loss, 'ro', label = \"val loss\")\n",
        "\n",
        "plt.title(\"Train and Validation loss\", fontsize = 15)\n",
        "plt.xlabel(\"Epochs\")\n",
        "plt.ylabel('Loss')\n",
        "plt.legend()\n",
        "\n",
        "plt.tight_layout()\n",
        "plt.show()"
      ],
      "execution_count": 15,
      "outputs": [
        {
          "output_type": "display_data",
          "data": {
            "image/png": "[encoded data removed]",
            "text/plain": [
              "<Figure size 432x288 with 1 Axes>"
            ]
          },
          "metadata": {
            "tags": [],
            "needs_background": "light"
          }
        }
      ]
    },
    {
      "cell_type": "code",
      "metadata": {
        "colab": {
          "base_uri": "https://localhost:8080/",
          "height": 297
        },
        "id": "CvRl0yw1QDsU",
        "outputId": "b4c55605-4110-406d-9ee4-068ceb5b853b"
      },
      "source": [
        "# train accuracy, validation accuracy 그래프 확인\n",
        "\n",
        "plt.figure(figsize = (6, 4))\n",
        "plt.plot(epochs, accuracy, 'bo', label = \"train acc\")\n",
        "plt.plot(epochs, val_accuracy, 'ro', label = \"val acc\")\n",
        "\n",
        "plt.title(\"Train and Validation accuracy\", fontsize = 15)\n",
        "plt.xlabel(\"Epochs\")\n",
        "plt.ylabel('Accuracy')\n",
        "plt.legend()\n",
        "\n",
        "plt.tight_layout()\n",
        "plt.show()"
      ],
      "execution_count": 16,
      "outputs": [
        {
          "output_type": "display_data",
          "data": {
            "image/png": "[encoded data removed]",
            "text/plain": [
              "<Figure size 432x288 with 1 Axes>"
            ]
          },
          "metadata": {
            "tags": [],
            "needs_background": "light"
          }
        }
      ]
    },
    {
      "cell_type": "code",
      "metadata": {
        "colab": {
          "base_uri": "https://localhost:8080/"
        },
        "id": "bZSa6zrDQysZ",
        "outputId": "1751bdb3-11f6-416d-ef38-e4442dd1370b"
      },
      "source": [
        "print(\"validation loss가 가장 낮았던 시점 : {}\".format(np.argmin(val_loss)))\n",
        "print(\"validation accuracy가 가장 높았던 시점 : {}\".format(np.argmax(val_accuracy)))\n",
        "\n",
        "print(\"validation loss의 최솟값 : {}\".format(np.min(val_loss)))\n",
        "print(\"validation accuracy의 최댓값 : {}\".format(np.max(val_accuracy)))"
      ],
      "execution_count": 17,
      "outputs": [
        {
          "output_type": "stream",
          "text": [
            "validation loss가 가장 낮았던 시점 : 5\n",
            "validation accuracy가 가장 높았던 시점 : 8\n",
            "validation loss의 최솟값 : 0.961501955986023\n",
            "validation accuracy의 최댓값 : 0.7979999780654907\n"
          ],
          "name": "stdout"
        }
      ]
    },
    {
      "cell_type": "markdown",
      "metadata": {
        "id": "azQ7o_a5RQXg"
      },
      "source": [
        "validation accuracy가 약 80%로 가장 높았던 epochs = 8로 최종 모델을 학습하도록 하겠습니다."
      ]
    },
    {
      "cell_type": "markdown",
      "metadata": {
        "id": "i4LcfKD3RVZf"
      },
      "source": [
        "## 최종 모델 학습"
      ]
    },
    {
      "cell_type": "code",
      "metadata": {
        "id": "5ZB5TOIERfTZ"
      },
      "source": [
        "model_final = build_model()"
      ],
      "execution_count": 18,
      "outputs": []
    },
    {
      "cell_type": "markdown",
      "metadata": {
        "id": "rVSZExtuScd0"
      },
      "source": [
        "train과 validation을 합쳐서 모델을 학습한 뒤 test 데이터로 성능을 평가해보도록 하겠습니다."
      ]
    },
    {
      "cell_type": "code",
      "metadata": {
        "colab": {
          "base_uri": "https://localhost:8080/"
        },
        "id": "zkz2pTMBRin2",
        "outputId": "9f5fa239-aa51-4c5d-8c96-03437b7cbad8"
      },
      "source": [
        "model_final.fit(onehot_x_train,\n",
        "                onehot_y_train,\n",
        "                epochs = 8,\n",
        "                batch_size = 512)"
      ],
      "execution_count": 19,
      "outputs": [
        {
          "output_type": "stream",
          "text": [
            "Epoch 1/8\n",
            "18/18 [==============================] - 2s 71ms/step - loss: 2.7987 - accuracy: 0.4191\n",
            "Epoch 2/8\n",
            "18/18 [==============================] - 1s 69ms/step - loss: 1.1529 - accuracy: 0.7694\n",
            "Epoch 3/8\n",
            "18/18 [==============================] - 1s 69ms/step - loss: 0.8191 - accuracy: 0.8316\n",
            "Epoch 4/8\n",
            "18/18 [==============================] - 1s 70ms/step - loss: 0.6017 - accuracy: 0.8797\n",
            "Epoch 5/8\n",
            "18/18 [==============================] - 1s 69ms/step - loss: 0.4524 - accuracy: 0.9056\n",
            "Epoch 6/8\n",
            "18/18 [==============================] - 1s 69ms/step - loss: 0.3282 - accuracy: 0.9301\n",
            "Epoch 7/8\n",
            "18/18 [==============================] - 1s 70ms/step - loss: 0.2453 - accuracy: 0.9482\n",
            "Epoch 8/8\n",
            "18/18 [==============================] - 1s 68ms/step - loss: 0.2170 - accuracy: 0.9469\n"
          ],
          "name": "stdout"
        },
        {
          "output_type": "execute_result",
          "data": {
            "text/plain": [
              "<tensorflow.python.keras.callbacks.History at 0x7ffa730a6310>"
            ]
          },
          "metadata": {
            "tags": []
          },
          "execution_count": 19
        }
      ]
    },
    {
      "cell_type": "code",
      "metadata": {
        "colab": {
          "base_uri": "https://localhost:8080/"
        },
        "id": "UoBux0ucR0eu",
        "outputId": "071906f7-ea2c-4d26-c4b2-fb8a43ca00d4"
      },
      "source": [
        "result = model_final.evaluate(onehot_x_test, onehot_y_test)"
      ],
      "execution_count": 20,
      "outputs": [
        {
          "output_type": "stream",
          "text": [
            "71/71 [==============================] - 0s 4ms/step - loss: 0.9748 - accuracy: 0.7961\n"
          ],
          "name": "stdout"
        }
      ]
    },
    {
      "cell_type": "code",
      "metadata": {
        "colab": {
          "base_uri": "https://localhost:8080/"
        },
        "id": "6dmS9VteR4Vd",
        "outputId": "742cde49-d660-4524-da7c-3d4a73674013"
      },
      "source": [
        "print(\"최종 모델의 loss : {}\".format(result[0]))\n",
        "print(\"최종 모델의 accuracy : {}%\".format(round(100*result[1], 2)))"
      ],
      "execution_count": 21,
      "outputs": [
        {
          "output_type": "stream",
          "text": [
            "최종 모델의 loss : 0.9747899174690247\n",
            "최종 모델의 accuracy : 79.61%\n"
          ],
          "name": "stdout"
        }
      ]
    },
    {
      "cell_type": "markdown",
      "metadata": {
        "id": "yuzFtucQSDjd"
      },
      "source": [
        "## 새로운 데이터에 대해 예측하기"
      ]
    },
    {
      "cell_type": "code",
      "metadata": {
        "id": "al4CQyTZSRlf"
      },
      "source": [
        "pred_test = model_final.predict(onehot_x_test)"
      ],
      "execution_count": 22,
      "outputs": []
    },
    {
      "cell_type": "code",
      "metadata": {
        "colab": {
          "base_uri": "https://localhost:8080/"
        },
        "id": "C7ylvxWpSVLU",
        "outputId": "89e60fa5-ebd7-45b3-b90c-bc273abfe485"
      },
      "source": [
        "pred_test[0]"
      ],
      "execution_count": 23,
      "outputs": [
        {
          "output_type": "execute_result",
          "data": {
            "text/plain": [
              "array([4.07958723e-05, 6.10449424e-05, 5.00613578e-06, 9.41546917e-01,\n",
              "       4.96349037e-02, 1.65864898e-04, 4.54346737e-05, 1.96495671e-06,\n",
              "       3.22761014e-03, 4.95151580e-05, 4.41499542e-05, 1.02497113e-03,\n",
              "       7.96587046e-05, 3.54250442e-05, 8.86256385e-06, 1.30036278e-05,\n",
              "       3.45726410e-04, 1.23452788e-04, 7.18744468e-06, 1.27397897e-03,\n",
              "       4.70250903e-04, 1.93189728e-04, 5.89020674e-05, 2.92513141e-04,\n",
              "       6.24473296e-06, 7.84231888e-05, 1.35352448e-05, 2.07525281e-05,\n",
              "       1.91042545e-05, 4.84869270e-05, 1.33024267e-04, 1.26383939e-05,\n",
              "       2.80006316e-06, 1.00433945e-05, 1.96100897e-04, 2.11605638e-05,\n",
              "       1.69083884e-04, 3.17737358e-05, 1.57790801e-05, 2.17708017e-04,\n",
              "       7.23645935e-05, 1.93836113e-05, 1.28628555e-04, 3.17878912e-05,\n",
              "       2.24648566e-08, 6.70239103e-07], dtype=float32)"
            ]
          },
          "metadata": {
            "tags": []
          },
          "execution_count": 23
        }
      ]
    },
    {
      "cell_type": "code",
      "metadata": {
        "colab": {
          "base_uri": "https://localhost:8080/"
        },
        "id": "NDP-cvQaSYpM",
        "outputId": "f59f7a37-459d-4ef8-f6c9-543b3d86ce8c"
      },
      "source": [
        "np.sum(pred_test[0]), np.argmax(pred_test[0])"
      ],
      "execution_count": 24,
      "outputs": [
        {
          "output_type": "execute_result",
          "data": {
            "text/plain": [
              "(0.9999997, 3)"
            ]
          },
          "metadata": {
            "tags": []
          },
          "execution_count": 24
        }
      ]
    },
    {
      "cell_type": "markdown",
      "metadata": {
        "id": "0-2maKCTSlXH"
      },
      "source": [
        "각 클래스라고 예측할 확률을 다 더하면 1\n",
        "\n",
        "그 중에서 가장 높은 값을 가진 index로 예측"
      ]
    },
    {
      "cell_type": "markdown",
      "metadata": {
        "id": "Xjn8OQjfSk-8"
      },
      "source": [
        "labels를 onehot encoding 한 경우에는 손실 함수로 categorical_crossentropy를 사용하면 되고,\n",
        "\n",
        "labels를 onehot encoding 하지 않고 그대로 사용하고 싶은 경우 손실함수로 sparse_categorical_crossentropy를 사용하면 된다"
      ]
    },
    {
      "cell_type": "markdown",
      "metadata": {
        "id": "DnmDEEU4TNS0"
      },
      "source": [
        "은닉층은 출력층보다 충분히 넓어야 한다. 만약 출력층보다 은닉층이 작다면 그 은닉층에서 정보의 병목 현상이 일어나게 된다.\n",
        "\n",
        "=> n-1번째 은닉층은 n번째 은닉층보다 넓은게 n-1번째 은닉층에서의 정보 병목 현상을 방지하는데 좋다."
      ]
    }
  ]
}