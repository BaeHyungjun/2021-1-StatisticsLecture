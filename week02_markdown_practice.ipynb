{
  "nbformat": 4,
  "nbformat_minor": 0,
  "metadata": {
    "colab": {
      "name": "week02_markdown_practice.ipynb",
      "provenance": [],
      "collapsed_sections": []
    },
    "kernelspec": {
      "name": "python3",
      "display_name": "Python 3"
    }
  },
  "cells": [
    {
      "cell_type": "markdown",
      "metadata": {
        "id": "UgRorRPvuxk3"
      },
      "source": [
        "# 마크다운 연습 파일\r\n",
        "\r\n",
        "# 샵 하나\r\n",
        "## 샵 둘\r\n",
        "### 샵 셋\r\n",
        "#### 샵 넷\r\n",
        "##### 샵 다섯\r\n",
        "###### 샵 여섯\r\n",
        "\r\n",
        "*기울기체는 별표 하나로 감싸준다*  \r\n",
        "**볼트체는 별표 두개로 감싸준다**  \r\n",
        "***볼트체와 이탤릭체 함께 쓸 땐 별표 세개로 감싸준다***"
      ]
    },
    {
      "cell_type": "code",
      "metadata": {
        "id": "77hKP4PYvg-4"
      },
      "source": [
        ""
      ],
      "execution_count": null,
      "outputs": []
    }
  ]
}