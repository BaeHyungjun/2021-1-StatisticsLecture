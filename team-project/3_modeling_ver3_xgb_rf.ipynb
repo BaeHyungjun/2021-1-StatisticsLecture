{
 "cells": [
  {
   "cell_type": "markdown",
   "metadata": {
    "id": "EyifhnMW-yES"
   },
   "source": [
    "## 전처리 아이디어\n",
    "\n",
    "1. 요일 변수, 주말인지 ㅇ\n",
    "2. 건물별 군집 ㅇ\n",
    "3. 비가 오는지 -> 오는지 안오는지만 categorical로 분류(강수량은 중요하지 않은건지)\n",
    "4. 기온이 높은지 ㅇ\n",
    "5. 밤에 사용량이 많은지(가정집이나 아파트 / 사무용 건물) -> 클러스터와 유사\n",
    "6. 타 건물 정보(8월 이후 데이터는 비어잇으니까) -> 날짜별 데이터는 없음\n",
    "7. 평균 기온, 날씨를 활용해 지역 유추 -> 타지역 데이터 필요\n",
    "+ 날씨가 흐릴때(일조량 적을때) 태양광 활용 건물의 전력량 차이 확인 -> 변수로 묶기?\n",
    ".\n",
    ".\n",
    "\n",
    "\n",
    "8. k-means 외에 다른 클러스터링 방법 활용 -> knn, gmm, svm..? \n",
    "9. kmeans 파라미터 조절해서 최적화해보기\n",
    "10. 다른 모델링 기법 활용\n",
    "10. 모델링 파라미터 수정\n",
    "11. 필요없는 변수 삭제"
   ]
  },
  {
   "cell_type": "markdown",
   "metadata": {
    "id": "_lklH5L2ySIu"
   },
   "source": [
    "# 데이터 불러오기"
   ]
  },
  {
   "cell_type": "code",
   "execution_count": 1,
   "metadata": {
    "id": "x5WV9mVWY6w8"
   },
   "outputs": [],
   "source": [
    "import pandas as pd\n",
    "import numpy as np\n",
    "from datetime import timedelta\n",
    "import matplotlib\n",
    "import matplotlib.pyplot as plt"
   ]
  },
  {
   "cell_type": "code",
   "execution_count": 2,
   "metadata": {
    "colab": {
     "base_uri": "https://localhost:8080/"
    },
    "id": "3yGCKsdaU5xm",
    "outputId": "51a1a22a-0e81-471e-e5b8-c48f332962ea"
   },
   "outputs": [
    {
     "name": "stdout",
     "output_type": "stream",
     "text": [
      "['Malgun Gothic']\n"
     ]
    }
   ],
   "source": [
    "# 맑음 고딕 폰트 설정\n",
    "plt.rc('font', family='Malgun Gothic') # For Windows\n",
    "print(plt.rcParams['font.family'])\n",
    "\n",
    "%matplotlib inline"
   ]
  },
  {
   "cell_type": "code",
   "execution_count": 3,
   "metadata": {},
   "outputs": [],
   "source": [
    "# 데이터 불러오기\n",
    "\n",
    "directory = './energy'\n",
    "\n",
    "train = pd.read_csv(directory + '/train.csv', encoding = 'euc-kr')\n",
    "test = pd.read_csv(directory + '/test.csv', encoding = 'euc-kr')\n",
    "sample_submission = pd.read_csv(directory + '/sample_submission.csv', encoding = 'euc-kr')"
   ]
  },
  {
   "cell_type": "code",
   "execution_count": 4,
   "metadata": {},
   "outputs": [],
   "source": [
    "train_columns_name = ['num', 'date_time', 'usage', 'temp', 'wind', 'humidity', 'precipitation', 'sunshine', 'operation_non_elec', 'solar']\n",
    "test_columns_name = ['num', 'date_time', 'temp', 'wind', 'humidity', 'precipitation', 'sunshine', 'operation_non_elec', 'solar']\n",
    "\n",
    "train.columns = train_columns_name\n",
    "test.columns = test_columns_name"
   ]
  },
  {
   "cell_type": "markdown",
   "metadata": {
    "id": "lju9FPCUyVls"
   },
   "source": [
    "# EDA"
   ]
  },
  {
   "cell_type": "markdown",
   "metadata": {
    "id": "mtGnknrlY6xD"
   },
   "source": [
    "train dataset"
   ]
  },
  {
   "cell_type": "code",
   "execution_count": 5,
   "metadata": {},
   "outputs": [
    {
     "name": "stdout",
     "output_type": "stream",
     "text": [
      "<class 'pandas.core.frame.DataFrame'>\n",
      "RangeIndex: 122400 entries, 0 to 122399\n",
      "Data columns (total 10 columns):\n",
      " #   Column              Non-Null Count   Dtype  \n",
      "---  ------              --------------   -----  \n",
      " 0   num                 122400 non-null  int64  \n",
      " 1   date_time           122400 non-null  object \n",
      " 2   usage               122400 non-null  float64\n",
      " 3   temp                122400 non-null  float64\n",
      " 4   wind                122400 non-null  float64\n",
      " 5   humidity            122400 non-null  float64\n",
      " 6   precipitation       122400 non-null  float64\n",
      " 7   sunshine            122400 non-null  float64\n",
      " 8   operation_non_elec  122400 non-null  float64\n",
      " 9   solar               122400 non-null  float64\n",
      "dtypes: float64(8), int64(1), object(1)\n",
      "memory usage: 9.3+ MB\n"
     ]
    }
   ],
   "source": [
    "train.info()"
   ]
  },
  {
   "cell_type": "code",
   "execution_count": 6,
   "metadata": {},
   "outputs": [
    {
     "name": "stdout",
     "output_type": "stream",
     "text": [
      "<class 'pandas.core.frame.DataFrame'>\n",
      "RangeIndex: 10080 entries, 0 to 10079\n",
      "Data columns (total 9 columns):\n",
      " #   Column              Non-Null Count  Dtype  \n",
      "---  ------              --------------  -----  \n",
      " 0   num                 10080 non-null  int64  \n",
      " 1   date_time           10080 non-null  object \n",
      " 2   temp                3360 non-null   float64\n",
      " 3   wind                3360 non-null   float64\n",
      " 4   humidity            3360 non-null   float64\n",
      " 5   precipitation       1680 non-null   float64\n",
      " 6   sunshine            3360 non-null   float64\n",
      " 7   operation_non_elec  2296 non-null   float64\n",
      " 8   solar               1624 non-null   float64\n",
      "dtypes: float64(7), int64(1), object(1)\n",
      "memory usage: 708.9+ KB\n"
     ]
    }
   ],
   "source": [
    "test.info()"
   ]
  },
  {
   "cell_type": "code",
   "execution_count": 7,
   "metadata": {
    "colab": {
     "base_uri": "https://localhost:8080/",
     "height": 306
    },
    "id": "rGGRpdlXY6xE",
    "outputId": "144ae025-e224-4329-802f-52e425b4e39c"
   },
   "outputs": [
    {
     "data": {
      "text/html": [
       "<div>\n",
       "<style scoped>\n",
       "    .dataframe tbody tr th:only-of-type {\n",
       "        vertical-align: middle;\n",
       "    }\n",
       "\n",
       "    .dataframe tbody tr th {\n",
       "        vertical-align: top;\n",
       "    }\n",
       "\n",
       "    .dataframe thead th {\n",
       "        text-align: right;\n",
       "    }\n",
       "</style>\n",
       "<table border=\"1\" class=\"dataframe\">\n",
       "  <thead>\n",
       "    <tr style=\"text-align: right;\">\n",
       "      <th></th>\n",
       "      <th>num</th>\n",
       "      <th>date_time</th>\n",
       "      <th>usage</th>\n",
       "      <th>temp</th>\n",
       "      <th>wind</th>\n",
       "      <th>humidity</th>\n",
       "      <th>precipitation</th>\n",
       "      <th>sunshine</th>\n",
       "      <th>operation_non_elec</th>\n",
       "      <th>solar</th>\n",
       "    </tr>\n",
       "  </thead>\n",
       "  <tbody>\n",
       "    <tr>\n",
       "      <th>0</th>\n",
       "      <td>1</td>\n",
       "      <td>2020-06-01 00</td>\n",
       "      <td>8179.056</td>\n",
       "      <td>17.6</td>\n",
       "      <td>2.5</td>\n",
       "      <td>92.0</td>\n",
       "      <td>0.8</td>\n",
       "      <td>0.0</td>\n",
       "      <td>0.0</td>\n",
       "      <td>0.0</td>\n",
       "    </tr>\n",
       "    <tr>\n",
       "      <th>1</th>\n",
       "      <td>1</td>\n",
       "      <td>2020-06-01 01</td>\n",
       "      <td>8135.640</td>\n",
       "      <td>17.7</td>\n",
       "      <td>2.9</td>\n",
       "      <td>91.0</td>\n",
       "      <td>0.3</td>\n",
       "      <td>0.0</td>\n",
       "      <td>0.0</td>\n",
       "      <td>0.0</td>\n",
       "    </tr>\n",
       "    <tr>\n",
       "      <th>2</th>\n",
       "      <td>1</td>\n",
       "      <td>2020-06-01 02</td>\n",
       "      <td>8107.128</td>\n",
       "      <td>17.5</td>\n",
       "      <td>3.2</td>\n",
       "      <td>91.0</td>\n",
       "      <td>0.0</td>\n",
       "      <td>0.0</td>\n",
       "      <td>0.0</td>\n",
       "      <td>0.0</td>\n",
       "    </tr>\n",
       "    <tr>\n",
       "      <th>3</th>\n",
       "      <td>1</td>\n",
       "      <td>2020-06-01 03</td>\n",
       "      <td>8048.808</td>\n",
       "      <td>17.1</td>\n",
       "      <td>3.2</td>\n",
       "      <td>91.0</td>\n",
       "      <td>0.0</td>\n",
       "      <td>0.0</td>\n",
       "      <td>0.0</td>\n",
       "      <td>0.0</td>\n",
       "    </tr>\n",
       "    <tr>\n",
       "      <th>4</th>\n",
       "      <td>1</td>\n",
       "      <td>2020-06-01 04</td>\n",
       "      <td>8043.624</td>\n",
       "      <td>17.0</td>\n",
       "      <td>3.3</td>\n",
       "      <td>92.0</td>\n",
       "      <td>0.0</td>\n",
       "      <td>0.0</td>\n",
       "      <td>0.0</td>\n",
       "      <td>0.0</td>\n",
       "    </tr>\n",
       "  </tbody>\n",
       "</table>\n",
       "</div>"
      ],
      "text/plain": [
       "   num      date_time     usage  temp  wind  humidity  precipitation  \\\n",
       "0    1  2020-06-01 00  8179.056  17.6   2.5      92.0            0.8   \n",
       "1    1  2020-06-01 01  8135.640  17.7   2.9      91.0            0.3   \n",
       "2    1  2020-06-01 02  8107.128  17.5   3.2      91.0            0.0   \n",
       "3    1  2020-06-01 03  8048.808  17.1   3.2      91.0            0.0   \n",
       "4    1  2020-06-01 04  8043.624  17.0   3.3      92.0            0.0   \n",
       "\n",
       "   sunshine  operation_non_elec  solar  \n",
       "0       0.0                 0.0    0.0  \n",
       "1       0.0                 0.0    0.0  \n",
       "2       0.0                 0.0    0.0  \n",
       "3       0.0                 0.0    0.0  \n",
       "4       0.0                 0.0    0.0  "
      ]
     },
     "execution_count": 7,
     "metadata": {},
     "output_type": "execute_result"
    }
   ],
   "source": [
    "train.head()"
   ]
  },
  {
   "cell_type": "code",
   "execution_count": 8,
   "metadata": {
    "colab": {
     "base_uri": "https://localhost:8080/"
    },
    "id": "LjYFpbuQY6xG",
    "outputId": "c42c154f-6972-4620-d73a-22ee8f189c18"
   },
   "outputs": [
    {
     "data": {
      "text/html": [
       "<div>\n",
       "<style scoped>\n",
       "    .dataframe tbody tr th:only-of-type {\n",
       "        vertical-align: middle;\n",
       "    }\n",
       "\n",
       "    .dataframe tbody tr th {\n",
       "        vertical-align: top;\n",
       "    }\n",
       "\n",
       "    .dataframe thead th {\n",
       "        text-align: right;\n",
       "    }\n",
       "</style>\n",
       "<table border=\"1\" class=\"dataframe\">\n",
       "  <thead>\n",
       "    <tr style=\"text-align: right;\">\n",
       "      <th></th>\n",
       "      <th>num</th>\n",
       "      <th>date_time</th>\n",
       "      <th>temp</th>\n",
       "      <th>wind</th>\n",
       "      <th>humidity</th>\n",
       "      <th>precipitation</th>\n",
       "      <th>sunshine</th>\n",
       "      <th>operation_non_elec</th>\n",
       "      <th>solar</th>\n",
       "    </tr>\n",
       "  </thead>\n",
       "  <tbody>\n",
       "    <tr>\n",
       "      <th>0</th>\n",
       "      <td>1</td>\n",
       "      <td>2020-08-25 00</td>\n",
       "      <td>27.8</td>\n",
       "      <td>1.5</td>\n",
       "      <td>74.0</td>\n",
       "      <td>0.0</td>\n",
       "      <td>0.0</td>\n",
       "      <td>NaN</td>\n",
       "      <td>NaN</td>\n",
       "    </tr>\n",
       "    <tr>\n",
       "      <th>1</th>\n",
       "      <td>1</td>\n",
       "      <td>2020-08-25 01</td>\n",
       "      <td>NaN</td>\n",
       "      <td>NaN</td>\n",
       "      <td>NaN</td>\n",
       "      <td>NaN</td>\n",
       "      <td>NaN</td>\n",
       "      <td>NaN</td>\n",
       "      <td>NaN</td>\n",
       "    </tr>\n",
       "    <tr>\n",
       "      <th>2</th>\n",
       "      <td>1</td>\n",
       "      <td>2020-08-25 02</td>\n",
       "      <td>NaN</td>\n",
       "      <td>NaN</td>\n",
       "      <td>NaN</td>\n",
       "      <td>NaN</td>\n",
       "      <td>NaN</td>\n",
       "      <td>NaN</td>\n",
       "      <td>NaN</td>\n",
       "    </tr>\n",
       "    <tr>\n",
       "      <th>3</th>\n",
       "      <td>1</td>\n",
       "      <td>2020-08-25 03</td>\n",
       "      <td>27.3</td>\n",
       "      <td>1.1</td>\n",
       "      <td>78.0</td>\n",
       "      <td>NaN</td>\n",
       "      <td>0.0</td>\n",
       "      <td>NaN</td>\n",
       "      <td>NaN</td>\n",
       "    </tr>\n",
       "    <tr>\n",
       "      <th>4</th>\n",
       "      <td>1</td>\n",
       "      <td>2020-08-25 04</td>\n",
       "      <td>NaN</td>\n",
       "      <td>NaN</td>\n",
       "      <td>NaN</td>\n",
       "      <td>NaN</td>\n",
       "      <td>NaN</td>\n",
       "      <td>NaN</td>\n",
       "      <td>NaN</td>\n",
       "    </tr>\n",
       "  </tbody>\n",
       "</table>\n",
       "</div>"
      ],
      "text/plain": [
       "   num      date_time  temp  wind  humidity  precipitation  sunshine  \\\n",
       "0    1  2020-08-25 00  27.8   1.5      74.0            0.0       0.0   \n",
       "1    1  2020-08-25 01   NaN   NaN       NaN            NaN       NaN   \n",
       "2    1  2020-08-25 02   NaN   NaN       NaN            NaN       NaN   \n",
       "3    1  2020-08-25 03  27.3   1.1      78.0            NaN       0.0   \n",
       "4    1  2020-08-25 04   NaN   NaN       NaN            NaN       NaN   \n",
       "\n",
       "   operation_non_elec  solar  \n",
       "0                 NaN    NaN  \n",
       "1                 NaN    NaN  \n",
       "2                 NaN    NaN  \n",
       "3                 NaN    NaN  \n",
       "4                 NaN    NaN  "
      ]
     },
     "execution_count": 8,
     "metadata": {},
     "output_type": "execute_result"
    }
   ],
   "source": [
    "test.head()"
   ]
  },
  {
   "cell_type": "code",
   "execution_count": 9,
   "metadata": {},
   "outputs": [
    {
     "data": {
      "text/html": [
       "<div>\n",
       "<style scoped>\n",
       "    .dataframe tbody tr th:only-of-type {\n",
       "        vertical-align: middle;\n",
       "    }\n",
       "\n",
       "    .dataframe tbody tr th {\n",
       "        vertical-align: top;\n",
       "    }\n",
       "\n",
       "    .dataframe thead th {\n",
       "        text-align: right;\n",
       "    }\n",
       "</style>\n",
       "<table border=\"1\" class=\"dataframe\">\n",
       "  <thead>\n",
       "    <tr style=\"text-align: right;\">\n",
       "      <th></th>\n",
       "      <th>num</th>\n",
       "      <th>usage</th>\n",
       "      <th>temp</th>\n",
       "      <th>wind</th>\n",
       "      <th>humidity</th>\n",
       "      <th>precipitation</th>\n",
       "      <th>sunshine</th>\n",
       "      <th>operation_non_elec</th>\n",
       "      <th>solar</th>\n",
       "    </tr>\n",
       "  </thead>\n",
       "  <tbody>\n",
       "    <tr>\n",
       "      <th>count</th>\n",
       "      <td>122400.000000</td>\n",
       "      <td>122400.000000</td>\n",
       "      <td>122400.000000</td>\n",
       "      <td>122400.000000</td>\n",
       "      <td>122400.000000</td>\n",
       "      <td>122400.000000</td>\n",
       "      <td>122400.000000</td>\n",
       "      <td>122400.000000</td>\n",
       "      <td>122400.000000</td>\n",
       "    </tr>\n",
       "    <tr>\n",
       "      <th>mean</th>\n",
       "      <td>30.500000</td>\n",
       "      <td>2324.830866</td>\n",
       "      <td>24.251713</td>\n",
       "      <td>2.151641</td>\n",
       "      <td>80.169848</td>\n",
       "      <td>0.514989</td>\n",
       "      <td>0.213533</td>\n",
       "      <td>0.683333</td>\n",
       "      <td>0.483333</td>\n",
       "    </tr>\n",
       "    <tr>\n",
       "      <th>std</th>\n",
       "      <td>17.318173</td>\n",
       "      <td>2058.999326</td>\n",
       "      <td>3.407902</td>\n",
       "      <td>1.514475</td>\n",
       "      <td>15.525862</td>\n",
       "      <td>2.624505</td>\n",
       "      <td>0.370517</td>\n",
       "      <td>0.465178</td>\n",
       "      <td>0.499724</td>\n",
       "    </tr>\n",
       "    <tr>\n",
       "      <th>min</th>\n",
       "      <td>1.000000</td>\n",
       "      <td>0.000000</td>\n",
       "      <td>11.100000</td>\n",
       "      <td>0.000000</td>\n",
       "      <td>19.000000</td>\n",
       "      <td>0.000000</td>\n",
       "      <td>0.000000</td>\n",
       "      <td>0.000000</td>\n",
       "      <td>0.000000</td>\n",
       "    </tr>\n",
       "    <tr>\n",
       "      <th>25%</th>\n",
       "      <td>15.750000</td>\n",
       "      <td>1055.268000</td>\n",
       "      <td>21.800000</td>\n",
       "      <td>1.100000</td>\n",
       "      <td>70.000000</td>\n",
       "      <td>0.000000</td>\n",
       "      <td>0.000000</td>\n",
       "      <td>0.000000</td>\n",
       "      <td>0.000000</td>\n",
       "    </tr>\n",
       "    <tr>\n",
       "      <th>50%</th>\n",
       "      <td>30.500000</td>\n",
       "      <td>1700.352000</td>\n",
       "      <td>24.200000</td>\n",
       "      <td>1.900000</td>\n",
       "      <td>84.000000</td>\n",
       "      <td>0.000000</td>\n",
       "      <td>0.000000</td>\n",
       "      <td>1.000000</td>\n",
       "      <td>0.000000</td>\n",
       "    </tr>\n",
       "    <tr>\n",
       "      <th>75%</th>\n",
       "      <td>45.250000</td>\n",
       "      <td>2780.487000</td>\n",
       "      <td>26.500000</td>\n",
       "      <td>2.900000</td>\n",
       "      <td>93.000000</td>\n",
       "      <td>0.000000</td>\n",
       "      <td>0.300000</td>\n",
       "      <td>1.000000</td>\n",
       "      <td>1.000000</td>\n",
       "    </tr>\n",
       "    <tr>\n",
       "      <th>max</th>\n",
       "      <td>60.000000</td>\n",
       "      <td>17739.225000</td>\n",
       "      <td>36.300000</td>\n",
       "      <td>20.100000</td>\n",
       "      <td>100.000000</td>\n",
       "      <td>81.500000</td>\n",
       "      <td>1.000000</td>\n",
       "      <td>1.000000</td>\n",
       "      <td>1.000000</td>\n",
       "    </tr>\n",
       "  </tbody>\n",
       "</table>\n",
       "</div>"
      ],
      "text/plain": [
       "                 num          usage           temp           wind  \\\n",
       "count  122400.000000  122400.000000  122400.000000  122400.000000   \n",
       "mean       30.500000    2324.830866      24.251713       2.151641   \n",
       "std        17.318173    2058.999326       3.407902       1.514475   \n",
       "min         1.000000       0.000000      11.100000       0.000000   \n",
       "25%        15.750000    1055.268000      21.800000       1.100000   \n",
       "50%        30.500000    1700.352000      24.200000       1.900000   \n",
       "75%        45.250000    2780.487000      26.500000       2.900000   \n",
       "max        60.000000   17739.225000      36.300000      20.100000   \n",
       "\n",
       "            humidity  precipitation       sunshine  operation_non_elec  \\\n",
       "count  122400.000000  122400.000000  122400.000000       122400.000000   \n",
       "mean       80.169848       0.514989       0.213533            0.683333   \n",
       "std        15.525862       2.624505       0.370517            0.465178   \n",
       "min        19.000000       0.000000       0.000000            0.000000   \n",
       "25%        70.000000       0.000000       0.000000            0.000000   \n",
       "50%        84.000000       0.000000       0.000000            1.000000   \n",
       "75%        93.000000       0.000000       0.300000            1.000000   \n",
       "max       100.000000      81.500000       1.000000            1.000000   \n",
       "\n",
       "               solar  \n",
       "count  122400.000000  \n",
       "mean        0.483333  \n",
       "std         0.499724  \n",
       "min         0.000000  \n",
       "25%         0.000000  \n",
       "50%         0.000000  \n",
       "75%         1.000000  \n",
       "max         1.000000  "
      ]
     },
     "execution_count": 9,
     "metadata": {},
     "output_type": "execute_result"
    }
   ],
   "source": [
    "train.describe()"
   ]
  },
  {
   "cell_type": "code",
   "execution_count": 10,
   "metadata": {
    "colab": {
     "base_uri": "https://localhost:8080/",
     "height": 297
    },
    "id": "am2sL1mgY6xJ",
    "outputId": "2b105f3d-fa98-42e1-f80e-1e562cacdd0d"
   },
   "outputs": [
    {
     "data": {
      "text/html": [
       "<div>\n",
       "<style scoped>\n",
       "    .dataframe tbody tr th:only-of-type {\n",
       "        vertical-align: middle;\n",
       "    }\n",
       "\n",
       "    .dataframe tbody tr th {\n",
       "        vertical-align: top;\n",
       "    }\n",
       "\n",
       "    .dataframe thead th {\n",
       "        text-align: right;\n",
       "    }\n",
       "</style>\n",
       "<table border=\"1\" class=\"dataframe\">\n",
       "  <thead>\n",
       "    <tr style=\"text-align: right;\">\n",
       "      <th></th>\n",
       "      <th>num</th>\n",
       "      <th>temp</th>\n",
       "      <th>wind</th>\n",
       "      <th>humidity</th>\n",
       "      <th>precipitation</th>\n",
       "      <th>sunshine</th>\n",
       "      <th>operation_non_elec</th>\n",
       "      <th>solar</th>\n",
       "    </tr>\n",
       "  </thead>\n",
       "  <tbody>\n",
       "    <tr>\n",
       "      <th>count</th>\n",
       "      <td>10080.000000</td>\n",
       "      <td>3360.000000</td>\n",
       "      <td>3360.000000</td>\n",
       "      <td>3360.000000</td>\n",
       "      <td>1680.000000</td>\n",
       "      <td>3360.000000</td>\n",
       "      <td>2296.0</td>\n",
       "      <td>1624.0</td>\n",
       "    </tr>\n",
       "    <tr>\n",
       "      <th>mean</th>\n",
       "      <td>30.500000</td>\n",
       "      <td>27.805804</td>\n",
       "      <td>2.440327</td>\n",
       "      <td>81.963095</td>\n",
       "      <td>2.191845</td>\n",
       "      <td>0.612917</td>\n",
       "      <td>1.0</td>\n",
       "      <td>1.0</td>\n",
       "    </tr>\n",
       "    <tr>\n",
       "      <th>std</th>\n",
       "      <td>17.318961</td>\n",
       "      <td>2.378122</td>\n",
       "      <td>1.835905</td>\n",
       "      <td>11.900843</td>\n",
       "      <td>6.786772</td>\n",
       "      <td>0.929587</td>\n",
       "      <td>0.0</td>\n",
       "      <td>0.0</td>\n",
       "    </tr>\n",
       "    <tr>\n",
       "      <th>min</th>\n",
       "      <td>1.000000</td>\n",
       "      <td>22.100000</td>\n",
       "      <td>0.000000</td>\n",
       "      <td>44.000000</td>\n",
       "      <td>0.000000</td>\n",
       "      <td>0.000000</td>\n",
       "      <td>1.0</td>\n",
       "      <td>1.0</td>\n",
       "    </tr>\n",
       "    <tr>\n",
       "      <th>25%</th>\n",
       "      <td>15.750000</td>\n",
       "      <td>26.000000</td>\n",
       "      <td>1.100000</td>\n",
       "      <td>74.000000</td>\n",
       "      <td>0.000000</td>\n",
       "      <td>0.000000</td>\n",
       "      <td>1.0</td>\n",
       "      <td>1.0</td>\n",
       "    </tr>\n",
       "    <tr>\n",
       "      <th>50%</th>\n",
       "      <td>30.500000</td>\n",
       "      <td>27.500000</td>\n",
       "      <td>2.100000</td>\n",
       "      <td>83.000000</td>\n",
       "      <td>0.000000</td>\n",
       "      <td>0.000000</td>\n",
       "      <td>1.0</td>\n",
       "      <td>1.0</td>\n",
       "    </tr>\n",
       "    <tr>\n",
       "      <th>75%</th>\n",
       "      <td>45.250000</td>\n",
       "      <td>29.200000</td>\n",
       "      <td>3.200000</td>\n",
       "      <td>92.000000</td>\n",
       "      <td>0.900000</td>\n",
       "      <td>1.000000</td>\n",
       "      <td>1.0</td>\n",
       "      <td>1.0</td>\n",
       "    </tr>\n",
       "    <tr>\n",
       "      <th>max</th>\n",
       "      <td>60.000000</td>\n",
       "      <td>35.400000</td>\n",
       "      <td>22.500000</td>\n",
       "      <td>100.000000</td>\n",
       "      <td>83.500000</td>\n",
       "      <td>3.000000</td>\n",
       "      <td>1.0</td>\n",
       "      <td>1.0</td>\n",
       "    </tr>\n",
       "  </tbody>\n",
       "</table>\n",
       "</div>"
      ],
      "text/plain": [
       "                num         temp         wind     humidity  precipitation  \\\n",
       "count  10080.000000  3360.000000  3360.000000  3360.000000    1680.000000   \n",
       "mean      30.500000    27.805804     2.440327    81.963095       2.191845   \n",
       "std       17.318961     2.378122     1.835905    11.900843       6.786772   \n",
       "min        1.000000    22.100000     0.000000    44.000000       0.000000   \n",
       "25%       15.750000    26.000000     1.100000    74.000000       0.000000   \n",
       "50%       30.500000    27.500000     2.100000    83.000000       0.000000   \n",
       "75%       45.250000    29.200000     3.200000    92.000000       0.900000   \n",
       "max       60.000000    35.400000    22.500000   100.000000      83.500000   \n",
       "\n",
       "          sunshine  operation_non_elec   solar  \n",
       "count  3360.000000              2296.0  1624.0  \n",
       "mean      0.612917                 1.0     1.0  \n",
       "std       0.929587                 0.0     0.0  \n",
       "min       0.000000                 1.0     1.0  \n",
       "25%       0.000000                 1.0     1.0  \n",
       "50%       0.000000                 1.0     1.0  \n",
       "75%       1.000000                 1.0     1.0  \n",
       "max       3.000000                 1.0     1.0  "
      ]
     },
     "execution_count": 10,
     "metadata": {},
     "output_type": "execute_result"
    }
   ],
   "source": [
    "test.describe()"
   ]
  },
  {
   "cell_type": "code",
   "execution_count": 11,
   "metadata": {
    "colab": {
     "base_uri": "https://localhost:8080/"
    },
    "id": "_wb7KPhvY6xK",
    "outputId": "0eba25e0-eeb2-447c-8d2d-89e4b5d8f0cd",
    "scrolled": true
   },
   "outputs": [
    {
     "data": {
      "text/plain": [
       "num                      0\n",
       "date_time                0\n",
       "temp                  6720\n",
       "wind                  6720\n",
       "humidity              6720\n",
       "precipitation         8400\n",
       "sunshine              6720\n",
       "operation_non_elec    7784\n",
       "solar                 8456\n",
       "dtype: int64"
      ]
     },
     "execution_count": 11,
     "metadata": {},
     "output_type": "execute_result"
    }
   ],
   "source": [
    "test.isnull().sum()"
   ]
  },
  {
   "cell_type": "code",
   "execution_count": 12,
   "metadata": {},
   "outputs": [],
   "source": [
    "# date_time 변수를 문자형에서 날짜형 변수로 변환\n",
    "\n",
    "train['date'] =pd.to_datetime(train['date_time'].apply(lambda x: x.split()[0]))\n",
    "train['date_time'] = pd.to_datetime(train['date_time'])\n",
    "\n",
    "test['date'] = pd.to_datetime(test['date_time'].apply(lambda x: x.split()[0]))\n",
    "test['date_time'] = pd.to_datetime(test['date_time'])\n",
    "\n",
    "# 월, 시간 변수 추가\n",
    "\n",
    "train['month'] = train['date_time'].dt.month\n",
    "train['hour'] = train['date_time'].dt.hour\n",
    "test['month'] = test['date_time'].dt.month\n",
    "test['hour'] = test['date_time'].dt.hour"
   ]
  },
  {
   "cell_type": "markdown",
   "metadata": {},
   "source": [
    "## 변수들의 월별 평균"
   ]
  },
  {
   "cell_type": "code",
   "execution_count": 13,
   "metadata": {
    "colab": {
     "base_uri": "https://localhost:8080/",
     "height": 283
    },
    "id": "wlncbksBY6xN",
    "outputId": "6eee945b-541c-42eb-c7cd-7368889fe3eb"
   },
   "outputs": [
    {
     "data": {
      "image/png": "[encoded data removed]",
      "text/plain": [
       "<Figure size 576x288 with 1 Axes>"
      ]
     },
     "metadata": {
      "needs_background": "light"
     },
     "output_type": "display_data"
    }
   ],
   "source": [
    "mean_month = train.groupby('month').mean()\n",
    "\n",
    "plt.figure(figsize=(8,4))\n",
    "plt.bar(mean_month.index, mean_month['usage'])\n",
    "plt.title('Mean of usage by month', size = 20)\n",
    "plt.show()"
   ]
  },
  {
   "cell_type": "code",
   "execution_count": 14,
   "metadata": {
    "colab": {
     "base_uri": "https://localhost:8080/",
     "height": 283
    },
    "id": "JmJC28_65UPR",
    "outputId": "21de2799-53d0-4c92-bc6d-8c4c88fa5722"
   },
   "outputs": [
    {
     "data": {
      "image/png": "[encoded data removed]",
      "text/plain": [
       "<Figure size 576x288 with 1 Axes>"
      ]
     },
     "metadata": {
      "needs_background": "light"
     },
     "output_type": "display_data"
    }
   ],
   "source": [
    "plt.figure(figsize=(8,4))\n",
    "plt.bar(mean_month.index,mean_month['temp'])\n",
    "plt.title('Mean of temp by month', size = 20)\n",
    "plt.show()"
   ]
  },
  {
   "cell_type": "code",
   "execution_count": 15,
   "metadata": {
    "colab": {
     "base_uri": "https://localhost:8080/",
     "height": 283
    },
    "id": "PMcweZT0Y6xP",
    "outputId": "feb0dff8-b8b4-4e88-aaa2-fedf76da861b"
   },
   "outputs": [
    {
     "data": {
      "image/png": "[encoded data removed]",
      "text/plain": [
       "<Figure size 576x288 with 1 Axes>"
      ]
     },
     "metadata": {
      "needs_background": "light"
     },
     "output_type": "display_data"
    }
   ],
   "source": [
    "plt.figure(figsize=(8,4))\n",
    "plt.bar(mean_month.index,mean_month['wind'])\n",
    "plt.title('Mean of wind by month', size = 20)\n",
    "plt.show()"
   ]
  },
  {
   "cell_type": "code",
   "execution_count": 16,
   "metadata": {
    "colab": {
     "base_uri": "https://localhost:8080/",
     "height": 283
    },
    "id": "LV48PdykY6xQ",
    "outputId": "54ac973d-63a5-43aa-d1e6-9cffe41bd416"
   },
   "outputs": [
    {
     "data": {
      "image/png": "[encoded data removed]",
      "text/plain": [
       "<Figure size 576x288 with 1 Axes>"
      ]
     },
     "metadata": {
      "needs_background": "light"
     },
     "output_type": "display_data"
    }
   ],
   "source": [
    "plt.figure(figsize=(8,4))\n",
    "plt.bar(mean_month.index,mean_month['humidity'])\n",
    "plt.title('Mean of humidity by month', size = 20)\n",
    "plt.show()"
   ]
  },
  {
   "cell_type": "code",
   "execution_count": 17,
   "metadata": {
    "colab": {
     "base_uri": "https://localhost:8080/",
     "height": 283
    },
    "id": "1q1g5pwiY6xR",
    "outputId": "490b4dbd-2164-440a-e46e-f4f08644bd96"
   },
   "outputs": [
    {
     "data": {
      "image/png": "[encoded data removed]",
      "text/plain": [
       "<Figure size 576x288 with 1 Axes>"
      ]
     },
     "metadata": {
      "needs_background": "light"
     },
     "output_type": "display_data"
    }
   ],
   "source": [
    "plt.figure(figsize=(8,4))\n",
    "plt.bar(mean_month.index,mean_month['precipitation'])\n",
    "plt.title('Mean of precipitation by month', size = 20)\n",
    "plt.show()"
   ]
  },
  {
   "cell_type": "code",
   "execution_count": 18,
   "metadata": {
    "colab": {
     "base_uri": "https://localhost:8080/",
     "height": 283
    },
    "id": "fGhNPKOcY6xR",
    "outputId": "aaaacf7f-f618-473c-8f0f-18f2018f096c"
   },
   "outputs": [
    {
     "data": {
      "image/png": "[encoded data removed]",
      "text/plain": [
       "<Figure size 576x288 with 1 Axes>"
      ]
     },
     "metadata": {
      "needs_background": "light"
     },
     "output_type": "display_data"
    }
   ],
   "source": [
    "plt.figure(figsize=(8,4))\n",
    "plt.bar(mean_month.index,mean_month['sunshine'])\n",
    "plt.title('Mean of sunshine by month', size = 20)\n",
    "plt.show()"
   ]
  },
  {
   "cell_type": "markdown",
   "metadata": {
    "id": "YlkG0r7EY6xS"
   },
   "source": [
    "## 시간별 전력사용량"
   ]
  },
  {
   "cell_type": "code",
   "execution_count": 19,
   "metadata": {
    "colab": {
     "base_uri": "https://localhost:8080/",
     "height": 284
    },
    "id": "bF-7rtOBY6xT",
    "outputId": "0dc25e8d-eb9e-4928-c9ab-1750ef58e1d9"
   },
   "outputs": [
    {
     "data": {
      "image/png": "[encoded data removed]",
      "text/plain": [
       "<Figure size 576x288 with 1 Axes>"
      ]
     },
     "metadata": {
      "needs_background": "light"
     },
     "output_type": "display_data"
    }
   ],
   "source": [
    "mean_hour = train.groupby('hour').mean()\n",
    "\n",
    "plt.figure(figsize=(8,4))\n",
    "plt.bar(mean_hour.index,mean_hour['usage'])\n",
    "plt.title(\"Mean of usage by hour\", size = 20)\n",
    "plt.show()"
   ]
  },
  {
   "cell_type": "markdown",
   "metadata": {
    "id": "s9hlOpjJEVlY"
   },
   "source": [
    "## 건물별 기온"
   ]
  },
  {
   "cell_type": "code",
   "execution_count": 20,
   "metadata": {
    "colab": {
     "base_uri": "https://localhost:8080/",
     "height": 283
    },
    "id": "r80SfAAOEVDY",
    "outputId": "a4cc1ade-7bda-41cf-9975-6b7d5d830e51"
   },
   "outputs": [
    {
     "data": {
      "image/png": "[encoded data removed]",
      "text/plain": [
       "<Figure size 576x288 with 1 Axes>"
      ]
     },
     "metadata": {
      "needs_background": "light"
     },
     "output_type": "display_data"
    }
   ],
   "source": [
    "mean_num = train.groupby('num').mean()\n",
    "\n",
    "plt.figure(figsize=(8,4))\n",
    "plt.bar(mean_num.index,mean_num['temp'])\n",
    "plt.title(\"Mean of temp by hour\", size = 20)\n",
    "plt.show()"
   ]
  },
  {
   "cell_type": "markdown",
   "metadata": {},
   "source": [
    "## 건물별 풍속"
   ]
  },
  {
   "cell_type": "code",
   "execution_count": 21,
   "metadata": {
    "colab": {
     "base_uri": "https://localhost:8080/",
     "height": 283
    },
    "id": "HtaOfRfJFDc_",
    "outputId": "c0790773-e644-4f8f-ecd1-ee38819feef2"
   },
   "outputs": [
    {
     "data": {
      "image/png": "[encoded data removed]",
      "text/plain": [
       "<Figure size 576x288 with 1 Axes>"
      ]
     },
     "metadata": {
      "needs_background": "light"
     },
     "output_type": "display_data"
    }
   ],
   "source": [
    "plt.figure(figsize=(8,4))\n",
    "plt.bar(mean_num.index,mean_num['wind'])\n",
    "plt.title(\"Mean of wind by hour\", size = 20)\n",
    "plt.show()"
   ]
  },
  {
   "cell_type": "markdown",
   "metadata": {
    "id": "sWfoNqOJFqSZ"
   },
   "source": [
    "## 날짜별 차이"
   ]
  },
  {
   "cell_type": "code",
   "execution_count": 22,
   "metadata": {
    "colab": {
     "base_uri": "https://localhost:8080/",
     "height": 283
    },
    "id": "PVU19dpzFpsz",
    "outputId": "3257edef-4cfc-42f4-d337-489322032dbc"
   },
   "outputs": [
    {
     "data": {
      "image/png": "[encoded data removed]",
      "text/plain": [
       "<Figure size 576x288 with 1 Axes>"
      ]
     },
     "metadata": {
      "needs_background": "light"
     },
     "output_type": "display_data"
    }
   ],
   "source": [
    "mean_date = train.groupby('date').mean()\n",
    "\n",
    "plt.figure(figsize=(8,4))\n",
    "plt.bar(mean_date.index,mean_date['wind'])\n",
    "plt.title(\"Mean of wind by date\", size = 20)\n",
    "plt.show()"
   ]
  },
  {
   "cell_type": "markdown",
   "metadata": {
    "id": "7LU1wM7-4eHr"
   },
   "source": [
    "# 전처리\n",
    "\n",
    "1. date_time을 날짜형 변수로 변환해 월, 시간 변수 추가\n",
    "\n",
    "2. 요일 변수, 주말 여부 변수를 정수형 변수로 사용\n",
    "\n",
    "3. test 데이터의 결측치 대체\n",
    "\n",
    "4. 건물별 군집번호를 정수형 변수로 사용"
   ]
  },
  {
   "cell_type": "code",
   "execution_count": 23,
   "metadata": {},
   "outputs": [],
   "source": [
    "# 요일 변수와 주말 여부 변수를 추가, 원핫인코딩 하지 않고 정수형 변수로 사용\n",
    "\n",
    "# weekday 변수 평일=0~4, 주말=5~6\n",
    "def weekday(x):\n",
    "    return pd.to_datetime(x).weekday()\n",
    "\n",
    "train['weekday']=train['date'].apply(lambda x : weekday(x))\n",
    "test['weekday']=test['date_time'].apply(lambda x :weekday(x))\n",
    "\n",
    "# weekend 변수 평일=0, 주말=1\n",
    "train['weekend']=train['weekday'].apply(lambda x: 0 if x < 4 else 1)\n",
    "test['weekend']=test['weekday'].apply(lambda x: 0 if x < 4 else 1)"
   ]
  },
  {
   "cell_type": "markdown",
   "metadata": {
    "id": "02-VTK1Y6FpU"
   },
   "source": [
    "## 결측치 대체\n",
    "\n",
    "건물별로 비전기냉방설비운영, 태양광보유 여부를 train 데이터로부터 구해서 test 데이터의 결측값을 채워줌\n",
    "\n",
    "기온, 풍속, 습도, 강수량, 일조 변수는 선형 보간법을 이용해 결측값을 대체"
   ]
  },
  {
   "cell_type": "code",
   "execution_count": 24,
   "metadata": {
    "colab": {
     "base_uri": "https://localhost:8080/",
     "height": 205
    },
    "id": "DJeLt_CQ6dg8",
    "outputId": "f35695a1-ff30-4ae4-b345-037791b1807d"
   },
   "outputs": [
    {
     "data": {
      "text/html": [
       "<div>\n",
       "<style scoped>\n",
       "    .dataframe tbody tr th:only-of-type {\n",
       "        vertical-align: middle;\n",
       "    }\n",
       "\n",
       "    .dataframe tbody tr th {\n",
       "        vertical-align: top;\n",
       "    }\n",
       "\n",
       "    .dataframe thead th {\n",
       "        text-align: right;\n",
       "    }\n",
       "</style>\n",
       "<table border=\"1\" class=\"dataframe\">\n",
       "  <thead>\n",
       "    <tr style=\"text-align: right;\">\n",
       "      <th></th>\n",
       "      <th>num</th>\n",
       "      <th>date_time</th>\n",
       "      <th>usage</th>\n",
       "      <th>temp</th>\n",
       "      <th>wind</th>\n",
       "      <th>humidity</th>\n",
       "      <th>precipitation</th>\n",
       "      <th>sunshine</th>\n",
       "      <th>operation_non_elec</th>\n",
       "      <th>solar</th>\n",
       "      <th>date</th>\n",
       "      <th>month</th>\n",
       "      <th>hour</th>\n",
       "      <th>weekday</th>\n",
       "      <th>weekend</th>\n",
       "    </tr>\n",
       "  </thead>\n",
       "  <tbody>\n",
       "    <tr>\n",
       "      <th>0</th>\n",
       "      <td>1</td>\n",
       "      <td>2020-06-01 00:00:00</td>\n",
       "      <td>8179.056</td>\n",
       "      <td>17.6</td>\n",
       "      <td>2.5</td>\n",
       "      <td>92.0</td>\n",
       "      <td>0.8</td>\n",
       "      <td>0.0</td>\n",
       "      <td>0.0</td>\n",
       "      <td>0.0</td>\n",
       "      <td>2020-06-01</td>\n",
       "      <td>6</td>\n",
       "      <td>0</td>\n",
       "      <td>0</td>\n",
       "      <td>0</td>\n",
       "    </tr>\n",
       "    <tr>\n",
       "      <th>1</th>\n",
       "      <td>1</td>\n",
       "      <td>2020-06-01 01:00:00</td>\n",
       "      <td>8135.640</td>\n",
       "      <td>17.7</td>\n",
       "      <td>2.9</td>\n",
       "      <td>91.0</td>\n",
       "      <td>0.3</td>\n",
       "      <td>0.0</td>\n",
       "      <td>0.0</td>\n",
       "      <td>0.0</td>\n",
       "      <td>2020-06-01</td>\n",
       "      <td>6</td>\n",
       "      <td>1</td>\n",
       "      <td>0</td>\n",
       "      <td>0</td>\n",
       "    </tr>\n",
       "    <tr>\n",
       "      <th>2</th>\n",
       "      <td>1</td>\n",
       "      <td>2020-06-01 02:00:00</td>\n",
       "      <td>8107.128</td>\n",
       "      <td>17.5</td>\n",
       "      <td>3.2</td>\n",
       "      <td>91.0</td>\n",
       "      <td>0.0</td>\n",
       "      <td>0.0</td>\n",
       "      <td>0.0</td>\n",
       "      <td>0.0</td>\n",
       "      <td>2020-06-01</td>\n",
       "      <td>6</td>\n",
       "      <td>2</td>\n",
       "      <td>0</td>\n",
       "      <td>0</td>\n",
       "    </tr>\n",
       "    <tr>\n",
       "      <th>3</th>\n",
       "      <td>1</td>\n",
       "      <td>2020-06-01 03:00:00</td>\n",
       "      <td>8048.808</td>\n",
       "      <td>17.1</td>\n",
       "      <td>3.2</td>\n",
       "      <td>91.0</td>\n",
       "      <td>0.0</td>\n",
       "      <td>0.0</td>\n",
       "      <td>0.0</td>\n",
       "      <td>0.0</td>\n",
       "      <td>2020-06-01</td>\n",
       "      <td>6</td>\n",
       "      <td>3</td>\n",
       "      <td>0</td>\n",
       "      <td>0</td>\n",
       "    </tr>\n",
       "    <tr>\n",
       "      <th>4</th>\n",
       "      <td>1</td>\n",
       "      <td>2020-06-01 04:00:00</td>\n",
       "      <td>8043.624</td>\n",
       "      <td>17.0</td>\n",
       "      <td>3.3</td>\n",
       "      <td>92.0</td>\n",
       "      <td>0.0</td>\n",
       "      <td>0.0</td>\n",
       "      <td>0.0</td>\n",
       "      <td>0.0</td>\n",
       "      <td>2020-06-01</td>\n",
       "      <td>6</td>\n",
       "      <td>4</td>\n",
       "      <td>0</td>\n",
       "      <td>0</td>\n",
       "    </tr>\n",
       "  </tbody>\n",
       "</table>\n",
       "</div>"
      ],
      "text/plain": [
       "   num           date_time     usage  temp  wind  humidity  precipitation  \\\n",
       "0    1 2020-06-01 00:00:00  8179.056  17.6   2.5      92.0            0.8   \n",
       "1    1 2020-06-01 01:00:00  8135.640  17.7   2.9      91.0            0.3   \n",
       "2    1 2020-06-01 02:00:00  8107.128  17.5   3.2      91.0            0.0   \n",
       "3    1 2020-06-01 03:00:00  8048.808  17.1   3.2      91.0            0.0   \n",
       "4    1 2020-06-01 04:00:00  8043.624  17.0   3.3      92.0            0.0   \n",
       "\n",
       "   sunshine  operation_non_elec  solar       date  month  hour  weekday  \\\n",
       "0       0.0                 0.0    0.0 2020-06-01      6     0        0   \n",
       "1       0.0                 0.0    0.0 2020-06-01      6     1        0   \n",
       "2       0.0                 0.0    0.0 2020-06-01      6     2        0   \n",
       "3       0.0                 0.0    0.0 2020-06-01      6     3        0   \n",
       "4       0.0                 0.0    0.0 2020-06-01      6     4        0   \n",
       "\n",
       "   weekend  \n",
       "0        0  \n",
       "1        0  \n",
       "2        0  \n",
       "3        0  \n",
       "4        0  "
      ]
     },
     "execution_count": 24,
     "metadata": {},
     "output_type": "execute_result"
    }
   ],
   "source": [
    "train.head()"
   ]
  },
  {
   "cell_type": "code",
   "execution_count": 25,
   "metadata": {
    "colab": {
     "base_uri": "https://localhost:8080/",
     "height": 205
    },
    "id": "y-7GnRdE6JEo",
    "outputId": "f4729fd6-8081-47fc-ac6b-c87772bbb3be"
   },
   "outputs": [
    {
     "data": {
      "text/html": [
       "<div>\n",
       "<style scoped>\n",
       "    .dataframe tbody tr th:only-of-type {\n",
       "        vertical-align: middle;\n",
       "    }\n",
       "\n",
       "    .dataframe tbody tr th {\n",
       "        vertical-align: top;\n",
       "    }\n",
       "\n",
       "    .dataframe thead th {\n",
       "        text-align: right;\n",
       "    }\n",
       "</style>\n",
       "<table border=\"1\" class=\"dataframe\">\n",
       "  <thead>\n",
       "    <tr style=\"text-align: right;\">\n",
       "      <th></th>\n",
       "      <th>num</th>\n",
       "      <th>date_time</th>\n",
       "      <th>temp</th>\n",
       "      <th>wind</th>\n",
       "      <th>humidity</th>\n",
       "      <th>precipitation</th>\n",
       "      <th>sunshine</th>\n",
       "      <th>operation_non_elec</th>\n",
       "      <th>solar</th>\n",
       "      <th>date</th>\n",
       "      <th>month</th>\n",
       "      <th>hour</th>\n",
       "      <th>weekday</th>\n",
       "      <th>weekend</th>\n",
       "    </tr>\n",
       "  </thead>\n",
       "  <tbody>\n",
       "    <tr>\n",
       "      <th>0</th>\n",
       "      <td>1</td>\n",
       "      <td>2020-08-25 00:00:00</td>\n",
       "      <td>27.8</td>\n",
       "      <td>1.5</td>\n",
       "      <td>74.0</td>\n",
       "      <td>0.0</td>\n",
       "      <td>0.0</td>\n",
       "      <td>NaN</td>\n",
       "      <td>NaN</td>\n",
       "      <td>2020-08-25</td>\n",
       "      <td>8</td>\n",
       "      <td>0</td>\n",
       "      <td>1</td>\n",
       "      <td>0</td>\n",
       "    </tr>\n",
       "    <tr>\n",
       "      <th>1</th>\n",
       "      <td>1</td>\n",
       "      <td>2020-08-25 01:00:00</td>\n",
       "      <td>NaN</td>\n",
       "      <td>NaN</td>\n",
       "      <td>NaN</td>\n",
       "      <td>NaN</td>\n",
       "      <td>NaN</td>\n",
       "      <td>NaN</td>\n",
       "      <td>NaN</td>\n",
       "      <td>2020-08-25</td>\n",
       "      <td>8</td>\n",
       "      <td>1</td>\n",
       "      <td>1</td>\n",
       "      <td>0</td>\n",
       "    </tr>\n",
       "    <tr>\n",
       "      <th>2</th>\n",
       "      <td>1</td>\n",
       "      <td>2020-08-25 02:00:00</td>\n",
       "      <td>NaN</td>\n",
       "      <td>NaN</td>\n",
       "      <td>NaN</td>\n",
       "      <td>NaN</td>\n",
       "      <td>NaN</td>\n",
       "      <td>NaN</td>\n",
       "      <td>NaN</td>\n",
       "      <td>2020-08-25</td>\n",
       "      <td>8</td>\n",
       "      <td>2</td>\n",
       "      <td>1</td>\n",
       "      <td>0</td>\n",
       "    </tr>\n",
       "    <tr>\n",
       "      <th>3</th>\n",
       "      <td>1</td>\n",
       "      <td>2020-08-25 03:00:00</td>\n",
       "      <td>27.3</td>\n",
       "      <td>1.1</td>\n",
       "      <td>78.0</td>\n",
       "      <td>NaN</td>\n",
       "      <td>0.0</td>\n",
       "      <td>NaN</td>\n",
       "      <td>NaN</td>\n",
       "      <td>2020-08-25</td>\n",
       "      <td>8</td>\n",
       "      <td>3</td>\n",
       "      <td>1</td>\n",
       "      <td>0</td>\n",
       "    </tr>\n",
       "    <tr>\n",
       "      <th>4</th>\n",
       "      <td>1</td>\n",
       "      <td>2020-08-25 04:00:00</td>\n",
       "      <td>NaN</td>\n",
       "      <td>NaN</td>\n",
       "      <td>NaN</td>\n",
       "      <td>NaN</td>\n",
       "      <td>NaN</td>\n",
       "      <td>NaN</td>\n",
       "      <td>NaN</td>\n",
       "      <td>2020-08-25</td>\n",
       "      <td>8</td>\n",
       "      <td>4</td>\n",
       "      <td>1</td>\n",
       "      <td>0</td>\n",
       "    </tr>\n",
       "  </tbody>\n",
       "</table>\n",
       "</div>"
      ],
      "text/plain": [
       "   num           date_time  temp  wind  humidity  precipitation  sunshine  \\\n",
       "0    1 2020-08-25 00:00:00  27.8   1.5      74.0            0.0       0.0   \n",
       "1    1 2020-08-25 01:00:00   NaN   NaN       NaN            NaN       NaN   \n",
       "2    1 2020-08-25 02:00:00   NaN   NaN       NaN            NaN       NaN   \n",
       "3    1 2020-08-25 03:00:00  27.3   1.1      78.0            NaN       0.0   \n",
       "4    1 2020-08-25 04:00:00   NaN   NaN       NaN            NaN       NaN   \n",
       "\n",
       "   operation_non_elec  solar       date  month  hour  weekday  weekend  \n",
       "0                 NaN    NaN 2020-08-25      8     0        1        0  \n",
       "1                 NaN    NaN 2020-08-25      8     1        1        0  \n",
       "2                 NaN    NaN 2020-08-25      8     2        1        0  \n",
       "3                 NaN    NaN 2020-08-25      8     3        1        0  \n",
       "4                 NaN    NaN 2020-08-25      8     4        1        0  "
      ]
     },
     "execution_count": 25,
     "metadata": {},
     "output_type": "execute_result"
    }
   ],
   "source": [
    "test.head()"
   ]
  },
  {
   "cell_type": "code",
   "execution_count": 26,
   "metadata": {
    "id": "Bmdze4Lu6Pjn"
   },
   "outputs": [],
   "source": [
    "#건물별로 '비전기냉방설비운영'과 '태양광보유'를 판단해 test set의 결측치를 대체\n",
    "\n",
    "ice={}\n",
    "hot={}\n",
    "count=0\n",
    "\n",
    "for i in range(0, len(train), len(train)//60):\n",
    "    count +=1\n",
    "    ice[count]=train.loc[i,'operation_non_elec']\n",
    "    hot[count]=train.loc[i,'solar']\n",
    "\n",
    "for i in range(len(test)):\n",
    "    test.loc[i, 'operation_non_elec']=ice[test['num'][i]]\n",
    "    test.loc[i, 'solar']=hot[test['num'][i]]"
   ]
  },
  {
   "cell_type": "code",
   "execution_count": 27,
   "metadata": {
    "colab": {
     "base_uri": "https://localhost:8080/"
    },
    "id": "BlPYB7AT72uS",
    "outputId": "aba0dcee-58d4-4f61-9f6b-b3634742be67"
   },
   "outputs": [
    {
     "name": "stdout",
     "output_type": "stream",
     "text": [
      "<class 'pandas.core.frame.DataFrame'>\n",
      "RangeIndex: 10080 entries, 0 to 10079\n",
      "Data columns (total 14 columns):\n",
      " #   Column              Non-Null Count  Dtype         \n",
      "---  ------              --------------  -----         \n",
      " 0   num                 10080 non-null  int64         \n",
      " 1   date_time           10080 non-null  datetime64[ns]\n",
      " 2   temp                3360 non-null   float64       \n",
      " 3   wind                3360 non-null   float64       \n",
      " 4   humidity            3360 non-null   float64       \n",
      " 5   precipitation       1680 non-null   float64       \n",
      " 6   sunshine            3360 non-null   float64       \n",
      " 7   operation_non_elec  10080 non-null  float64       \n",
      " 8   solar               10080 non-null  float64       \n",
      " 9   date                10080 non-null  datetime64[ns]\n",
      " 10  month               10080 non-null  int64         \n",
      " 11  hour                10080 non-null  int64         \n",
      " 12  weekday             10080 non-null  int64         \n",
      " 13  weekend             10080 non-null  int64         \n",
      "dtypes: datetime64[ns](2), float64(7), int64(5)\n",
      "memory usage: 1.1 MB\n"
     ]
    }
   ],
   "source": [
    "test.info()"
   ]
  },
  {
   "cell_type": "code",
   "execution_count": 28,
   "metadata": {
    "colab": {
     "base_uri": "https://localhost:8080/",
     "height": 143
    },
    "id": "oPTcbknn6ova",
    "outputId": "f58c89d7-e821-4a91-cffe-0b2d5837999a"
   },
   "outputs": [
    {
     "data": {
      "text/html": [
       "<div>\n",
       "<style scoped>\n",
       "    .dataframe tbody tr th:only-of-type {\n",
       "        vertical-align: middle;\n",
       "    }\n",
       "\n",
       "    .dataframe tbody tr th {\n",
       "        vertical-align: top;\n",
       "    }\n",
       "\n",
       "    .dataframe thead th {\n",
       "        text-align: right;\n",
       "    }\n",
       "</style>\n",
       "<table border=\"1\" class=\"dataframe\">\n",
       "  <thead>\n",
       "    <tr style=\"text-align: right;\">\n",
       "      <th></th>\n",
       "      <th>num</th>\n",
       "      <th>date_time</th>\n",
       "      <th>temp</th>\n",
       "      <th>wind</th>\n",
       "      <th>humidity</th>\n",
       "      <th>precipitation</th>\n",
       "      <th>sunshine</th>\n",
       "      <th>operation_non_elec</th>\n",
       "      <th>solar</th>\n",
       "      <th>date</th>\n",
       "      <th>month</th>\n",
       "      <th>hour</th>\n",
       "      <th>weekday</th>\n",
       "      <th>weekend</th>\n",
       "    </tr>\n",
       "  </thead>\n",
       "  <tbody>\n",
       "    <tr>\n",
       "      <th>0</th>\n",
       "      <td>1</td>\n",
       "      <td>2020-08-25 00:00:00</td>\n",
       "      <td>27.800000</td>\n",
       "      <td>1.500000</td>\n",
       "      <td>74.000000</td>\n",
       "      <td>0.0</td>\n",
       "      <td>0.0</td>\n",
       "      <td>0.0</td>\n",
       "      <td>0.0</td>\n",
       "      <td>2020-08-25</td>\n",
       "      <td>8</td>\n",
       "      <td>0</td>\n",
       "      <td>1</td>\n",
       "      <td>0</td>\n",
       "    </tr>\n",
       "    <tr>\n",
       "      <th>1</th>\n",
       "      <td>1</td>\n",
       "      <td>2020-08-25 01:00:00</td>\n",
       "      <td>27.633333</td>\n",
       "      <td>1.366667</td>\n",
       "      <td>75.333333</td>\n",
       "      <td>0.0</td>\n",
       "      <td>0.0</td>\n",
       "      <td>0.0</td>\n",
       "      <td>0.0</td>\n",
       "      <td>2020-08-25</td>\n",
       "      <td>8</td>\n",
       "      <td>1</td>\n",
       "      <td>1</td>\n",
       "      <td>0</td>\n",
       "    </tr>\n",
       "    <tr>\n",
       "      <th>2</th>\n",
       "      <td>1</td>\n",
       "      <td>2020-08-25 02:00:00</td>\n",
       "      <td>27.466667</td>\n",
       "      <td>1.233333</td>\n",
       "      <td>76.666667</td>\n",
       "      <td>0.0</td>\n",
       "      <td>0.0</td>\n",
       "      <td>0.0</td>\n",
       "      <td>0.0</td>\n",
       "      <td>2020-08-25</td>\n",
       "      <td>8</td>\n",
       "      <td>2</td>\n",
       "      <td>1</td>\n",
       "      <td>0</td>\n",
       "    </tr>\n",
       "  </tbody>\n",
       "</table>\n",
       "</div>"
      ],
      "text/plain": [
       "   num           date_time       temp      wind   humidity  precipitation  \\\n",
       "0    1 2020-08-25 00:00:00  27.800000  1.500000  74.000000            0.0   \n",
       "1    1 2020-08-25 01:00:00  27.633333  1.366667  75.333333            0.0   \n",
       "2    1 2020-08-25 02:00:00  27.466667  1.233333  76.666667            0.0   \n",
       "\n",
       "   sunshine  operation_non_elec  solar       date  month  hour  weekday  \\\n",
       "0       0.0                 0.0    0.0 2020-08-25      8     0        1   \n",
       "1       0.0                 0.0    0.0 2020-08-25      8     1        1   \n",
       "2       0.0                 0.0    0.0 2020-08-25      8     2        1   \n",
       "\n",
       "   weekend  \n",
       "0        0  \n",
       "1        0  \n",
       "2        0  "
      ]
     },
     "execution_count": 28,
     "metadata": {},
     "output_type": "execute_result"
    }
   ],
   "source": [
    "# 선형 보간법으로 결측값을 대체\n",
    "test = test.interpolate(method='values')  \n",
    "test.head(3)"
   ]
  },
  {
   "cell_type": "markdown",
   "metadata": {
    "id": "1w1MkIJ7F3lG"
   },
   "source": [
    "## 건물 군집화\n",
    "\n",
    "건물별로 요일, 시간별 평균을 계산한 뒤 표준화를 한 다음 Kmeans 군집화를 시행"
   ]
  },
  {
   "cell_type": "code",
   "execution_count": null,
   "metadata": {
    "id": "ko3Fa0zpFSX7"
   },
   "outputs": [],
   "source": [
    "from sklearn.cluster import KMeans\n",
    "from sklearn.preprocessing import StandardScaler\n",
    "\n",
    "scaler = StandardScaler()\n",
    "\n",
    "d_list = []\n",
    "for i in range(1, 61):\n",
    "    d = train[train['num'] == i].copy()\n",
    "    d['usage'] = scaler.fit_transform(d['usage'].values.reshape(-1,1))\n",
    "    d_ = d.groupby(['weekday', 'hour'])['usage'].mean().unstack()\n",
    "    d_list.append(d_.to_numpy())\n",
    "\n",
    "# 정규화된 시간-요일별 전력사용량을 이미지처럼 저장\n",
    "d_list = np.array(d_list)"
   ]
  },
  {
   "cell_type": "code",
   "execution_count": null,
   "metadata": {
    "colab": {
     "base_uri": "https://localhost:8080/"
    },
    "id": "NS04c9WsF8_R",
    "outputId": "85f9abff-353f-4611-e89b-c935228472ec"
   },
   "outputs": [
    {
     "data": {
      "text/plain": [
       "KMeans(n_clusters=4, random_state=0)"
      ]
     },
     "execution_count": 16,
     "metadata": {
      "tags": []
     },
     "output_type": "execute_result"
    }
   ],
   "source": [
    "d_list_ = d_list.reshape(60, -1)\n",
    "\n",
    "# 군집 개수를 4개로 설정\n",
    "model = KMeans(init=\"k-means++\", n_clusters=4, random_state=0)\n",
    "model.fit(d_list_)"
   ]
  },
  {
   "cell_type": "code",
   "execution_count": null,
   "metadata": {
    "colab": {
     "base_uri": "https://localhost:8080/"
    },
    "id": "Cxymg1ZqGAB3",
    "outputId": "01072c9c-8284-4ca1-af93-d4419b9e1e12"
   },
   "outputs": [
    {
     "data": {
      "text/plain": [
       "1    31\n",
       "2    17\n",
       "3     7\n",
       "0     5\n",
       "Name: 0, dtype: int64"
      ]
     },
     "execution_count": 17,
     "metadata": {
      "tags": []
     },
     "output_type": "execute_result"
    }
   ],
   "source": [
    "cluster = model.labels_\n",
    "pd.DataFrame(cluster).squeeze().value_counts()"
   ]
  },
  {
   "cell_type": "code",
   "execution_count": null,
   "metadata": {
    "colab": {
     "base_uri": "https://localhost:8080/",
     "height": 320
    },
    "id": "wOlvJk3FGb0-",
    "outputId": "4919cf71-89f0-4307-940d-7abe043e0e65"
   },
   "outputs": [
    {
     "data": {
      "image/png": "[encoded data removed]",
      "text/plain": [
       "<Figure size 1296x360 with 6 Axes>"
      ]
     },
     "metadata": {
      "needs_background": "light",
      "tags": []
     },
     "output_type": "display_data"
    }
   ],
   "source": [
    "idx = cluster == 3\n",
    "d_list = d_list.reshape(60, 7, 24)\n",
    "\n",
    "\n",
    "fig, axes = plt.subplots(2, int(len(d_list[idx])/2), figsize = (18, 5))\n",
    "axes = axes.flatten()\n",
    "\n",
    "for d, ax in zip(d_list[idx], axes):\n",
    "    d_ = scaler.inverse_transform(d)\n",
    "    \n",
    "    ax.imshow(d_, cmap = 'jet', aspect = 'auto', extent=[0, 23, 0, 7], origin = 'lower')"
   ]
  },
  {
   "cell_type": "code",
   "execution_count": null,
   "metadata": {
    "id": "FAsgOSfUGfq_"
   },
   "outputs": [],
   "source": [
    "# 군집 번호를 변수로 추가\n",
    "\n",
    "cluster_map = {i+1 : c for i, c in enumerate(cluster)}\n",
    "train['cluster'] = train['num'].map(cluster_map)\n",
    "test['cluster'] = test['num'].map(cluster_map)"
   ]
  },
  {
   "cell_type": "markdown",
   "metadata": {
    "id": "OAah-eWiH5Xn"
   },
   "source": [
    "# 모델링"
   ]
  },
  {
   "cell_type": "markdown",
   "metadata": {
    "id": "OOj0CT7h6W1I"
   },
   "source": [
    "## XGBOOST"
   ]
  },
  {
   "cell_type": "code",
   "execution_count": null,
   "metadata": {
    "id": "9XCqskI9-Z3h"
   },
   "outputs": [],
   "source": [
    "try:\n",
    "    import xgboost\n",
    "except ImportError as ex:\n",
    "    print(\"Error: the xgboost library is not installed.\")\n",
    "    xgboost = None"
   ]
  },
  {
   "cell_type": "code",
   "execution_count": null,
   "metadata": {
    "id": "xB_kw2rc_ilZ"
   },
   "outputs": [],
   "source": [
    "# train, validation, test 데이터 분할\n",
    "from sklearn.model_selection import train_test_split\n",
    "\n",
    "X = train.drop(['date_time', '전력사용량(kWh)','date'], axis = 1)\n",
    "y = train['전력사용량(kWh)']\n",
    "X_test = test.drop(['date_time','date'], axis = 1)\n",
    "\n",
    "x_train, x_val, y_train, y_val = train_test_split(X, y, random_state=49)"
   ]
  },
  {
   "cell_type": "code",
   "execution_count": null,
   "metadata": {
    "id": "kOWqm2X6_NwU"
   },
   "outputs": [],
   "source": [
    "from sklearn.model_selection import GridSearchCV\n",
    "from sklearn.model_selection import RepeatedStratifiedKFold\n",
    "from sklearn.metrics import explained_variance_score\n",
    "from sklearn.model_selection import cross_val_score"
   ]
  },
  {
   "cell_type": "code",
   "execution_count": null,
   "metadata": {
    "id": "xpwe-NHx_6Tk",
    "outputId": "bd29dfea-5081-42b7-cb61-58fe2655d1a7"
   },
   "outputs": [
    {
     "data": {
      "text/plain": [
       "<matplotlib.axes._subplots.AxesSubplot at 0x205ed0551f0>"
      ]
     },
     "execution_count": 41,
     "metadata": {
      "tags": []
     },
     "output_type": "execute_result"
    },
    {
     "data": {
      "image/png": "[encoded data removed]",
      "text/plain": [
       "<Figure size 432x288 with 1 Axes>"
      ]
     },
     "metadata": {
      "needs_background": "light",
      "tags": []
     },
     "output_type": "display_data"
    }
   ],
   "source": [
    "from xgboost import XGBRegressor\n",
    "\n",
    "model = XGBRegressor(random_state=666)\n",
    "model.fit(x_train, y_train)\n",
    "preds = model.predict(x_val)\n",
    "xgboost.plot_importance(model)"
   ]
  },
  {
   "cell_type": "code",
   "execution_count": null,
   "metadata": {
    "id": "keW5vO6aU51M",
    "outputId": "0eab177a-36e9-44c5-9191-6e44de64632b",
    "scrolled": true
   },
   "outputs": [
    {
     "name": "stdout",
     "output_type": "stream",
     "text": [
      "0.9855389138522291\n",
      "0.9811301362771127\n"
     ]
    }
   ],
   "source": [
    "r_sq = model.score(x_train, y_train)\n",
    "print(r_sq)\n",
    "print(explained_variance_score(preds,y_val))"
   ]
  },
  {
   "cell_type": "code",
   "execution_count": null,
   "metadata": {
    "id": "aN-7JM7sC-lm",
    "outputId": "c11ec321-9a59-4edc-a635-eb1c7a672979"
   },
   "outputs": [
    {
     "name": "stdout",
     "output_type": "stream",
     "text": [
      "5 folds의 개별 Neg MAE scores:  [-2921.37 -1639.37 -2356.54 -2477.58 -2221.34]\n",
      "5 folds의 개별 RMAE scores:  [54.05 40.49 48.54 49.78 47.13]\n",
      "5 folds의 평균 RMAE : 47.998 \n"
     ]
    }
   ],
   "source": [
    "scores = cross_val_score(model, X, y, scoring='neg_mean_absolute_error')\n",
    "rmae_scores = np.sqrt(-1*scores)\n",
    "avg_rmae = np.mean(rmae_scores)\n",
    "\n",
    "print('5 folds의 개별 Neg MAE scores: ',np.round(scores,2))\n",
    "print('5 folds의 개별 RMAE scores: ',np.round(rmae_scores,2))\n",
    "print('5 folds의 평균 RMAE : {0:.3f} '.format(avg_rmae))"
   ]
  },
  {
   "cell_type": "code",
   "execution_count": null,
   "metadata": {
    "colab": {
     "base_uri": "https://localhost:8080/",
     "height": 448
    },
    "id": "S6D6CVb2BuQg",
    "outputId": "b9c82f11-1f58-4164-a9dd-b88f8849fb2f"
   },
   "outputs": [
    {
     "name": "stdout",
     "output_type": "stream",
     "text": [
      "Fitting 5 folds for each of 54 candidates, totalling 270 fits\n",
      "[CV] gamma=0.01, learning_rate=0.01, max_depth=4, n_estimators=70 ....\n"
     ]
    },
    {
     "name": "stderr",
     "output_type": "stream",
     "text": [
      "[Parallel(n_jobs=1)]: Using backend SequentialBackend with 1 concurrent workers.\n"
     ]
    },
    {
     "name": "stdout",
     "output_type": "stream",
     "text": [
      "[CV]  gamma=0.01, learning_rate=0.01, max_depth=4, n_estimators=70, score=-0.058, total=   1.3s\n",
      "[CV] gamma=0.01, learning_rate=0.01, max_depth=4, n_estimators=70 ....\n"
     ]
    },
    {
     "name": "stderr",
     "output_type": "stream",
     "text": [
      "[Parallel(n_jobs=1)]: Done   1 out of   1 | elapsed:    1.2s remaining:    0.0s\n"
     ]
    },
    {
     "name": "stdout",
     "output_type": "stream",
     "text": [
      "[CV]  gamma=0.01, learning_rate=0.01, max_depth=4, n_estimators=70, score=-0.053, total=   1.3s\n",
      "[CV] gamma=0.01, learning_rate=0.01, max_depth=4, n_estimators=70 ....\n"
     ]
    },
    {
     "name": "stderr",
     "output_type": "stream",
     "text": [
      "[Parallel(n_jobs=1)]: Done   2 out of   2 | elapsed:    2.5s remaining:    0.0s\n"
     ]
    },
    {
     "name": "stdout",
     "output_type": "stream",
     "text": [
      "[CV]  gamma=0.01, learning_rate=0.01, max_depth=4, n_estimators=70, score=-0.066, total=   1.3s\n",
      "[CV] gamma=0.01, learning_rate=0.01, max_depth=4, n_estimators=70 ....\n"
     ]
    },
    {
     "name": "stderr",
     "output_type": "stream",
     "text": [
      "[Parallel(n_jobs=1)]: Done   3 out of   3 | elapsed:    3.8s remaining:    0.0s\n"
     ]
    },
    {
     "name": "stdout",
     "output_type": "stream",
     "text": [
      "[CV]  gamma=0.01, learning_rate=0.01, max_depth=4, n_estimators=70, score=-0.070, total=   1.4s\n",
      "[CV] gamma=0.01, learning_rate=0.01, max_depth=4, n_estimators=70 ....\n"
     ]
    },
    {
     "name": "stderr",
     "output_type": "stream",
     "text": [
      "[Parallel(n_jobs=1)]: Done   4 out of   4 | elapsed:    5.2s remaining:    0.0s\n"
     ]
    },
    {
     "name": "stdout",
     "output_type": "stream",
     "text": [
      "[CV]  gamma=0.01, learning_rate=0.01, max_depth=4, n_estimators=70, score=-0.059, total=   1.3s\n",
      "[CV] gamma=0.01, learning_rate=0.01, max_depth=4, n_estimators=90 ....\n"
     ]
    },
    {
     "name": "stderr",
     "output_type": "stream",
     "text": [
      "[Parallel(n_jobs=1)]: Done   5 out of   5 | elapsed:    6.6s remaining:    0.0s\n"
     ]
    },
    {
     "name": "stdout",
     "output_type": "stream",
     "text": [
      "[CV]  gamma=0.01, learning_rate=0.01, max_depth=4, n_estimators=90, score=0.093, total=   1.6s\n",
      "[CV] gamma=0.01, learning_rate=0.01, max_depth=4, n_estimators=90 ....\n"
     ]
    },
    {
     "name": "stderr",
     "output_type": "stream",
     "text": [
      "[Parallel(n_jobs=1)]: Done   6 out of   6 | elapsed:    8.2s remaining:    0.0s\n"
     ]
    },
    {
     "name": "stdout",
     "output_type": "stream",
     "text": [
      "[CV]  gamma=0.01, learning_rate=0.01, max_depth=4, n_estimators=90, score=0.097, total=   1.8s\n",
      "[CV] gamma=0.01, learning_rate=0.01, max_depth=4, n_estimators=90 ....\n"
     ]
    },
    {
     "name": "stderr",
     "output_type": "stream",
     "text": [
      "[Parallel(n_jobs=1)]: Done   7 out of   7 | elapsed:   10.0s remaining:    0.0s\n"
     ]
    },
    {
     "name": "stdout",
     "output_type": "stream",
     "text": [
      "[CV]  gamma=0.01, learning_rate=0.01, max_depth=4, n_estimators=90, score=0.086, total=   1.7s\n",
      "[CV] gamma=0.01, learning_rate=0.01, max_depth=4, n_estimators=90 ....\n"
     ]
    },
    {
     "name": "stderr",
     "output_type": "stream",
     "text": [
      "[Parallel(n_jobs=1)]: Done   8 out of   8 | elapsed:   11.7s remaining:    0.0s\n"
     ]
    },
    {
     "name": "stdout",
     "output_type": "stream",
     "text": [
      "[CV]  gamma=0.01, learning_rate=0.01, max_depth=4, n_estimators=90, score=0.085, total=   1.7s\n",
      "[CV] gamma=0.01, learning_rate=0.01, max_depth=4, n_estimators=90 ....\n"
     ]
    },
    {
     "name": "stderr",
     "output_type": "stream",
     "text": [
      "[Parallel(n_jobs=1)]: Done   9 out of   9 | elapsed:   13.4s remaining:    0.0s\n"
     ]
    },
    {
     "name": "stdout",
     "output_type": "stream",
     "text": [
      "[CV]  gamma=0.01, learning_rate=0.01, max_depth=4, n_estimators=90, score=0.099, total=   1.7s\n",
      "[CV] gamma=0.01, learning_rate=0.01, max_depth=4, n_estimators=120 ...\n",
      "[CV]  gamma=0.01, learning_rate=0.01, max_depth=4, n_estimators=120, score=0.262, total=   2.3s\n",
      "[CV] gamma=0.01, learning_rate=0.01, max_depth=4, n_estimators=120 ...\n",
      "[CV]  gamma=0.01, learning_rate=0.01, max_depth=4, n_estimators=120, score=0.263, total=   2.2s\n",
      "[CV] gamma=0.01, learning_rate=0.01, max_depth=4, n_estimators=120 ...\n",
      "[CV]  gamma=0.01, learning_rate=0.01, max_depth=4, n_estimators=120, score=0.257, total=   2.4s\n",
      "[CV] gamma=0.01, learning_rate=0.01, max_depth=4, n_estimators=120 ...\n",
      "[CV]  gamma=0.01, learning_rate=0.01, max_depth=4, n_estimators=120, score=0.254, total=   2.4s\n",
      "[CV] gamma=0.01, learning_rate=0.01, max_depth=4, n_estimators=120 ...\n",
      "[CV]  gamma=0.01, learning_rate=0.01, max_depth=4, n_estimators=120, score=0.265, total=   2.3s\n",
      "[CV] gamma=0.01, learning_rate=0.01, max_depth=5, n_estimators=70 ....\n",
      "[CV]  gamma=0.01, learning_rate=0.01, max_depth=5, n_estimators=70, score=0.043, total=   1.6s\n",
      "[CV] gamma=0.01, learning_rate=0.01, max_depth=5, n_estimators=70 ....\n",
      "[CV]  gamma=0.01, learning_rate=0.01, max_depth=5, n_estimators=70, score=0.044, total=   1.6s\n",
      "[CV] gamma=0.01, learning_rate=0.01, max_depth=5, n_estimators=70 ....\n",
      "[CV]  gamma=0.01, learning_rate=0.01, max_depth=5, n_estimators=70, score=0.026, total=   1.7s\n",
      "[CV] gamma=0.01, learning_rate=0.01, max_depth=5, n_estimators=70 ....\n",
      "[CV]  gamma=0.01, learning_rate=0.01, max_depth=5, n_estimators=70, score=0.030, total=   1.6s\n",
      "[CV] gamma=0.01, learning_rate=0.01, max_depth=5, n_estimators=70 ....\n",
      "[CV]  gamma=0.01, learning_rate=0.01, max_depth=5, n_estimators=70, score=0.044, total=   1.5s\n",
      "[CV] gamma=0.01, learning_rate=0.01, max_depth=5, n_estimators=90 ....\n",
      "[CV]  gamma=0.01, learning_rate=0.01, max_depth=5, n_estimators=90, score=0.196, total=   2.1s\n",
      "[CV] gamma=0.01, learning_rate=0.01, max_depth=5, n_estimators=90 ....\n",
      "[CV]  gamma=0.01, learning_rate=0.01, max_depth=5, n_estimators=90, score=0.199, total=   2.0s\n",
      "[CV] gamma=0.01, learning_rate=0.01, max_depth=5, n_estimators=90 ....\n",
      "[CV]  gamma=0.01, learning_rate=0.01, max_depth=5, n_estimators=90, score=0.185, total=   2.1s\n",
      "[CV] gamma=0.01, learning_rate=0.01, max_depth=5, n_estimators=90 ....\n",
      "[CV]  gamma=0.01, learning_rate=0.01, max_depth=5, n_estimators=90, score=0.187, total=   2.2s\n",
      "[CV] gamma=0.01, learning_rate=0.01, max_depth=5, n_estimators=90 ....\n",
      "[CV]  gamma=0.01, learning_rate=0.01, max_depth=5, n_estimators=90, score=0.200, total=   2.4s\n",
      "[CV] gamma=0.01, learning_rate=0.01, max_depth=5, n_estimators=120 ...\n",
      "[CV]  gamma=0.01, learning_rate=0.01, max_depth=5, n_estimators=120, score=0.359, total=   2.9s\n",
      "[CV] gamma=0.01, learning_rate=0.01, max_depth=5, n_estimators=120 ...\n",
      "[CV]  gamma=0.01, learning_rate=0.01, max_depth=5, n_estimators=120, score=0.360, total=   2.7s\n",
      "[CV] gamma=0.01, learning_rate=0.01, max_depth=5, n_estimators=120 ...\n",
      "[CV]  gamma=0.01, learning_rate=0.01, max_depth=5, n_estimators=120, score=0.342, total=   2.9s\n",
      "[CV] gamma=0.01, learning_rate=0.01, max_depth=5, n_estimators=120 ...\n",
      "[CV]  gamma=0.01, learning_rate=0.01, max_depth=5, n_estimators=120, score=0.354, total=   3.1s\n",
      "[CV] gamma=0.01, learning_rate=0.01, max_depth=5, n_estimators=120 ...\n",
      "[CV]  gamma=0.01, learning_rate=0.01, max_depth=5, n_estimators=120, score=0.366, total=   3.0s\n",
      "[CV] gamma=0.01, learning_rate=0.01, max_depth=6, n_estimators=70 ....\n",
      "[CV]  gamma=0.01, learning_rate=0.01, max_depth=6, n_estimators=70, score=0.145, total=   2.0s\n",
      "[CV] gamma=0.01, learning_rate=0.01, max_depth=6, n_estimators=70 ....\n",
      "[CV]  gamma=0.01, learning_rate=0.01, max_depth=6, n_estimators=70, score=0.147, total=   2.0s\n",
      "[CV] gamma=0.01, learning_rate=0.01, max_depth=6, n_estimators=70 ....\n",
      "[CV]  gamma=0.01, learning_rate=0.01, max_depth=6, n_estimators=70, score=0.126, total=   1.9s\n",
      "[CV] gamma=0.01, learning_rate=0.01, max_depth=6, n_estimators=70 ....\n",
      "[CV]  gamma=0.01, learning_rate=0.01, max_depth=6, n_estimators=70, score=0.128, total=   1.9s\n",
      "[CV] gamma=0.01, learning_rate=0.01, max_depth=6, n_estimators=70 ....\n",
      "[CV]  gamma=0.01, learning_rate=0.01, max_depth=6, n_estimators=70, score=0.152, total=   2.0s\n",
      "[CV] gamma=0.01, learning_rate=0.01, max_depth=6, n_estimators=90 ....\n",
      "[CV]  gamma=0.01, learning_rate=0.01, max_depth=6, n_estimators=90, score=0.315, total=   2.4s\n",
      "[CV] gamma=0.01, learning_rate=0.01, max_depth=6, n_estimators=90 ....\n",
      "[CV]  gamma=0.01, learning_rate=0.01, max_depth=6, n_estimators=90, score=0.311, total=   2.4s\n",
      "[CV] gamma=0.01, learning_rate=0.01, max_depth=6, n_estimators=90 ....\n",
      "[CV]  gamma=0.01, learning_rate=0.01, max_depth=6, n_estimators=90, score=0.300, total=   2.4s\n",
      "[CV] gamma=0.01, learning_rate=0.01, max_depth=6, n_estimators=90 ....\n",
      "[CV]  gamma=0.01, learning_rate=0.01, max_depth=6, n_estimators=90, score=0.300, total=   2.4s\n",
      "[CV] gamma=0.01, learning_rate=0.01, max_depth=6, n_estimators=90 ....\n",
      "[CV]  gamma=0.01, learning_rate=0.01, max_depth=6, n_estimators=90, score=0.325, total=   2.4s\n",
      "[CV] gamma=0.01, learning_rate=0.01, max_depth=6, n_estimators=120 ...\n",
      "[CV]  gamma=0.01, learning_rate=0.01, max_depth=6, n_estimators=120, score=0.479, total=   3.5s\n",
      "[CV] gamma=0.01, learning_rate=0.01, max_depth=6, n_estimators=120 ...\n",
      "[CV]  gamma=0.01, learning_rate=0.01, max_depth=6, n_estimators=120, score=0.474, total=   3.5s\n",
      "[CV] gamma=0.01, learning_rate=0.01, max_depth=6, n_estimators=120 ...\n",
      "[CV]  gamma=0.01, learning_rate=0.01, max_depth=6, n_estimators=120, score=0.466, total=   3.3s\n",
      "[CV] gamma=0.01, learning_rate=0.01, max_depth=6, n_estimators=120 ...\n",
      "[CV]  gamma=0.01, learning_rate=0.01, max_depth=6, n_estimators=120, score=0.465, total=   3.2s\n",
      "[CV] gamma=0.01, learning_rate=0.01, max_depth=6, n_estimators=120 ...\n",
      "[CV]  gamma=0.01, learning_rate=0.01, max_depth=6, n_estimators=120, score=0.493, total=   3.5s\n",
      "[CV] gamma=0.01, learning_rate=0.1, max_depth=4, n_estimators=70 .....\n",
      "[CV]  gamma=0.01, learning_rate=0.1, max_depth=4, n_estimators=70, score=0.874, total=   1.3s\n",
      "[CV] gamma=0.01, learning_rate=0.1, max_depth=4, n_estimators=70 .....\n",
      "[CV]  gamma=0.01, learning_rate=0.1, max_depth=4, n_estimators=70, score=0.869, total=   1.3s\n",
      "[CV] gamma=0.01, learning_rate=0.1, max_depth=4, n_estimators=70 .....\n",
      "[CV]  gamma=0.01, learning_rate=0.1, max_depth=4, n_estimators=70, score=0.876, total=   1.5s\n",
      "[CV] gamma=0.01, learning_rate=0.1, max_depth=4, n_estimators=70 .....\n",
      "[CV]  gamma=0.01, learning_rate=0.1, max_depth=4, n_estimators=70, score=0.877, total=   1.3s\n",
      "[CV] gamma=0.01, learning_rate=0.1, max_depth=4, n_estimators=70 .....\n",
      "[CV]  gamma=0.01, learning_rate=0.1, max_depth=4, n_estimators=70, score=0.879, total=   1.3s\n",
      "[CV] gamma=0.01, learning_rate=0.1, max_depth=4, n_estimators=90 .....\n",
      "[CV]  gamma=0.01, learning_rate=0.1, max_depth=4, n_estimators=90, score=0.906, total=   1.7s\n",
      "[CV] gamma=0.01, learning_rate=0.1, max_depth=4, n_estimators=90 .....\n",
      "[CV]  gamma=0.01, learning_rate=0.1, max_depth=4, n_estimators=90, score=0.903, total=   1.8s\n",
      "[CV] gamma=0.01, learning_rate=0.1, max_depth=4, n_estimators=90 .....\n",
      "[CV]  gamma=0.01, learning_rate=0.1, max_depth=4, n_estimators=90, score=0.904, total=   2.0s\n",
      "[CV] gamma=0.01, learning_rate=0.1, max_depth=4, n_estimators=90 .....\n",
      "[CV]  gamma=0.01, learning_rate=0.1, max_depth=4, n_estimators=90, score=0.916, total=   1.7s\n",
      "[CV] gamma=0.01, learning_rate=0.1, max_depth=4, n_estimators=90 .....\n",
      "[CV]  gamma=0.01, learning_rate=0.1, max_depth=4, n_estimators=90, score=0.906, total=   1.7s\n",
      "[CV] gamma=0.01, learning_rate=0.1, max_depth=4, n_estimators=120 ....\n",
      "[CV]  gamma=0.01, learning_rate=0.1, max_depth=4, n_estimators=120, score=0.928, total=   2.3s\n",
      "[CV] gamma=0.01, learning_rate=0.1, max_depth=4, n_estimators=120 ....\n",
      "[CV]  gamma=0.01, learning_rate=0.1, max_depth=4, n_estimators=120, score=0.927, total=   2.2s\n",
      "[CV] gamma=0.01, learning_rate=0.1, max_depth=4, n_estimators=120 ....\n",
      "[CV]  gamma=0.01, learning_rate=0.1, max_depth=4, n_estimators=120, score=0.928, total=   2.3s\n",
      "[CV] gamma=0.01, learning_rate=0.1, max_depth=4, n_estimators=120 ....\n",
      "[CV]  gamma=0.01, learning_rate=0.1, max_depth=4, n_estimators=120, score=0.937, total=   2.3s\n",
      "[CV] gamma=0.01, learning_rate=0.1, max_depth=4, n_estimators=120 ....\n",
      "[CV]  gamma=0.01, learning_rate=0.1, max_depth=4, n_estimators=120, score=0.930, total=   3.3s\n",
      "[CV] gamma=0.01, learning_rate=0.1, max_depth=5, n_estimators=70 .....\n",
      "[CV]  gamma=0.01, learning_rate=0.1, max_depth=5, n_estimators=70, score=0.919, total=   1.9s\n",
      "[CV] gamma=0.01, learning_rate=0.1, max_depth=5, n_estimators=70 .....\n",
      "[CV]  gamma=0.01, learning_rate=0.1, max_depth=5, n_estimators=70, score=0.924, total=   2.3s\n",
      "[CV] gamma=0.01, learning_rate=0.1, max_depth=5, n_estimators=70 .....\n",
      "[CV]  gamma=0.01, learning_rate=0.1, max_depth=5, n_estimators=70, score=0.933, total=   2.0s\n",
      "[CV] gamma=0.01, learning_rate=0.1, max_depth=5, n_estimators=70 .....\n",
      "[CV]  gamma=0.01, learning_rate=0.1, max_depth=5, n_estimators=70, score=0.923, total=   1.9s\n",
      "[CV] gamma=0.01, learning_rate=0.1, max_depth=5, n_estimators=70 .....\n",
      "[CV]  gamma=0.01, learning_rate=0.1, max_depth=5, n_estimators=70, score=0.923, total=   2.0s\n",
      "[CV] gamma=0.01, learning_rate=0.1, max_depth=5, n_estimators=90 .....\n",
      "[CV]  gamma=0.01, learning_rate=0.1, max_depth=5, n_estimators=90, score=0.938, total=   2.9s\n",
      "[CV] gamma=0.01, learning_rate=0.1, max_depth=5, n_estimators=90 .....\n",
      "[CV]  gamma=0.01, learning_rate=0.1, max_depth=5, n_estimators=90, score=0.943, total=   2.1s\n",
      "[CV] gamma=0.01, learning_rate=0.1, max_depth=5, n_estimators=90 .....\n",
      "[CV]  gamma=0.01, learning_rate=0.1, max_depth=5, n_estimators=90, score=0.947, total=   2.1s\n",
      "[CV] gamma=0.01, learning_rate=0.1, max_depth=5, n_estimators=90 .....\n",
      "[CV]  gamma=0.01, learning_rate=0.1, max_depth=5, n_estimators=90, score=0.942, total=   2.2s\n",
      "[CV] gamma=0.01, learning_rate=0.1, max_depth=5, n_estimators=90 .....\n",
      "[CV]  gamma=0.01, learning_rate=0.1, max_depth=5, n_estimators=90, score=0.943, total=   2.1s\n",
      "[CV] gamma=0.01, learning_rate=0.1, max_depth=5, n_estimators=120 ....\n",
      "[CV]  gamma=0.01, learning_rate=0.1, max_depth=5, n_estimators=120, score=0.954, total=   2.8s\n",
      "[CV] gamma=0.01, learning_rate=0.1, max_depth=5, n_estimators=120 ....\n",
      "[CV]  gamma=0.01, learning_rate=0.1, max_depth=5, n_estimators=120, score=0.954, total=   2.8s\n",
      "[CV] gamma=0.01, learning_rate=0.1, max_depth=5, n_estimators=120 ....\n",
      "[CV]  gamma=0.01, learning_rate=0.1, max_depth=5, n_estimators=120, score=0.959, total=   2.8s\n",
      "[CV] gamma=0.01, learning_rate=0.1, max_depth=5, n_estimators=120 ....\n",
      "[CV]  gamma=0.01, learning_rate=0.1, max_depth=5, n_estimators=120, score=0.954, total=   2.8s\n",
      "[CV] gamma=0.01, learning_rate=0.1, max_depth=5, n_estimators=120 ....\n",
      "[CV]  gamma=0.01, learning_rate=0.1, max_depth=5, n_estimators=120, score=0.957, total=   2.8s\n",
      "[CV] gamma=0.01, learning_rate=0.1, max_depth=6, n_estimators=70 .....\n",
      "[CV]  gamma=0.01, learning_rate=0.1, max_depth=6, n_estimators=70, score=0.953, total=   2.0s\n",
      "[CV] gamma=0.01, learning_rate=0.1, max_depth=6, n_estimators=70 .....\n",
      "[CV]  gamma=0.01, learning_rate=0.1, max_depth=6, n_estimators=70, score=0.959, total=   2.0s\n",
      "[CV] gamma=0.01, learning_rate=0.1, max_depth=6, n_estimators=70 .....\n",
      "[CV]  gamma=0.01, learning_rate=0.1, max_depth=6, n_estimators=70, score=0.951, total=   2.0s\n",
      "[CV] gamma=0.01, learning_rate=0.1, max_depth=6, n_estimators=70 .....\n",
      "[CV]  gamma=0.01, learning_rate=0.1, max_depth=6, n_estimators=70, score=0.954, total=   2.0s\n",
      "[CV] gamma=0.01, learning_rate=0.1, max_depth=6, n_estimators=70 .....\n",
      "[CV]  gamma=0.01, learning_rate=0.1, max_depth=6, n_estimators=70, score=0.947, total=   2.0s\n",
      "[CV] gamma=0.01, learning_rate=0.1, max_depth=6, n_estimators=90 .....\n",
      "[CV]  gamma=0.01, learning_rate=0.1, max_depth=6, n_estimators=90, score=0.964, total=   2.6s\n",
      "[CV] gamma=0.01, learning_rate=0.1, max_depth=6, n_estimators=90 .....\n",
      "[CV]  gamma=0.01, learning_rate=0.1, max_depth=6, n_estimators=90, score=0.968, total=   2.7s\n",
      "[CV] gamma=0.01, learning_rate=0.1, max_depth=6, n_estimators=90 .....\n",
      "[CV]  gamma=0.01, learning_rate=0.1, max_depth=6, n_estimators=90, score=0.963, total=   2.6s\n",
      "[CV] gamma=0.01, learning_rate=0.1, max_depth=6, n_estimators=90 .....\n",
      "[CV]  gamma=0.01, learning_rate=0.1, max_depth=6, n_estimators=90, score=0.965, total=   2.6s\n",
      "[CV] gamma=0.01, learning_rate=0.1, max_depth=6, n_estimators=90 .....\n",
      "[CV]  gamma=0.01, learning_rate=0.1, max_depth=6, n_estimators=90, score=0.959, total=   2.6s\n",
      "[CV] gamma=0.01, learning_rate=0.1, max_depth=6, n_estimators=120 ....\n",
      "[CV]  gamma=0.01, learning_rate=0.1, max_depth=6, n_estimators=120, score=0.971, total=   3.5s\n",
      "[CV] gamma=0.01, learning_rate=0.1, max_depth=6, n_estimators=120 ....\n",
      "[CV]  gamma=0.01, learning_rate=0.1, max_depth=6, n_estimators=120, score=0.974, total=   3.5s\n",
      "[CV] gamma=0.01, learning_rate=0.1, max_depth=6, n_estimators=120 ....\n",
      "[CV]  gamma=0.01, learning_rate=0.1, max_depth=6, n_estimators=120, score=0.972, total=   3.4s\n",
      "[CV] gamma=0.01, learning_rate=0.1, max_depth=6, n_estimators=120 ....\n",
      "[CV]  gamma=0.01, learning_rate=0.1, max_depth=6, n_estimators=120, score=0.972, total=   3.5s\n",
      "[CV] gamma=0.01, learning_rate=0.1, max_depth=6, n_estimators=120 ....\n",
      "[CV]  gamma=0.01, learning_rate=0.1, max_depth=6, n_estimators=120, score=0.969, total=   3.5s\n",
      "[CV] gamma=0.1, learning_rate=0.01, max_depth=4, n_estimators=70 .....\n",
      "[CV]  gamma=0.1, learning_rate=0.01, max_depth=4, n_estimators=70, score=-0.058, total=   1.3s\n",
      "[CV] gamma=0.1, learning_rate=0.01, max_depth=4, n_estimators=70 .....\n",
      "[CV]  gamma=0.1, learning_rate=0.01, max_depth=4, n_estimators=70, score=-0.053, total=   1.3s\n",
      "[CV] gamma=0.1, learning_rate=0.01, max_depth=4, n_estimators=70 .....\n",
      "[CV]  gamma=0.1, learning_rate=0.01, max_depth=4, n_estimators=70, score=-0.066, total=   1.2s\n",
      "[CV] gamma=0.1, learning_rate=0.01, max_depth=4, n_estimators=70 .....\n",
      "[CV]  gamma=0.1, learning_rate=0.01, max_depth=4, n_estimators=70, score=-0.070, total=   1.3s\n",
      "[CV] gamma=0.1, learning_rate=0.01, max_depth=4, n_estimators=70 .....\n",
      "[CV]  gamma=0.1, learning_rate=0.01, max_depth=4, n_estimators=70, score=-0.059, total=   1.3s\n",
      "[CV] gamma=0.1, learning_rate=0.01, max_depth=4, n_estimators=90 .....\n",
      "[CV]  gamma=0.1, learning_rate=0.01, max_depth=4, n_estimators=90, score=0.093, total=   1.6s\n",
      "[CV] gamma=0.1, learning_rate=0.01, max_depth=4, n_estimators=90 .....\n",
      "[CV]  gamma=0.1, learning_rate=0.01, max_depth=4, n_estimators=90, score=0.097, total=   1.6s\n",
      "[CV] gamma=0.1, learning_rate=0.01, max_depth=4, n_estimators=90 .....\n",
      "[CV]  gamma=0.1, learning_rate=0.01, max_depth=4, n_estimators=90, score=0.086, total=   1.6s\n",
      "[CV] gamma=0.1, learning_rate=0.01, max_depth=4, n_estimators=90 .....\n",
      "[CV]  gamma=0.1, learning_rate=0.01, max_depth=4, n_estimators=90, score=0.085, total=   1.7s\n",
      "[CV] gamma=0.1, learning_rate=0.01, max_depth=4, n_estimators=90 .....\n",
      "[CV]  gamma=0.1, learning_rate=0.01, max_depth=4, n_estimators=90, score=0.099, total=   1.6s\n",
      "[CV] gamma=0.1, learning_rate=0.01, max_depth=4, n_estimators=120 ....\n",
      "[CV]  gamma=0.1, learning_rate=0.01, max_depth=4, n_estimators=120, score=0.262, total=   2.1s\n",
      "[CV] gamma=0.1, learning_rate=0.01, max_depth=4, n_estimators=120 ....\n",
      "[CV]  gamma=0.1, learning_rate=0.01, max_depth=4, n_estimators=120, score=0.263, total=   2.2s\n",
      "[CV] gamma=0.1, learning_rate=0.01, max_depth=4, n_estimators=120 ....\n",
      "[CV]  gamma=0.1, learning_rate=0.01, max_depth=4, n_estimators=120, score=0.257, total=   2.1s\n",
      "[CV] gamma=0.1, learning_rate=0.01, max_depth=4, n_estimators=120 ....\n",
      "[CV]  gamma=0.1, learning_rate=0.01, max_depth=4, n_estimators=120, score=0.254, total=   2.1s\n",
      "[CV] gamma=0.1, learning_rate=0.01, max_depth=4, n_estimators=120 ....\n",
      "[CV]  gamma=0.1, learning_rate=0.01, max_depth=4, n_estimators=120, score=0.265, total=   2.2s\n",
      "[CV] gamma=0.1, learning_rate=0.01, max_depth=5, n_estimators=70 .....\n",
      "[CV]  gamma=0.1, learning_rate=0.01, max_depth=5, n_estimators=70, score=0.043, total=   1.5s\n",
      "[CV] gamma=0.1, learning_rate=0.01, max_depth=5, n_estimators=70 .....\n",
      "[CV]  gamma=0.1, learning_rate=0.01, max_depth=5, n_estimators=70, score=0.044, total=   1.6s\n",
      "[CV] gamma=0.1, learning_rate=0.01, max_depth=5, n_estimators=70 .....\n",
      "[CV]  gamma=0.1, learning_rate=0.01, max_depth=5, n_estimators=70, score=0.026, total=   1.5s\n",
      "[CV] gamma=0.1, learning_rate=0.01, max_depth=5, n_estimators=70 .....\n",
      "[CV]  gamma=0.1, learning_rate=0.01, max_depth=5, n_estimators=70, score=0.030, total=   1.5s\n",
      "[CV] gamma=0.1, learning_rate=0.01, max_depth=5, n_estimators=70 .....\n",
      "[CV]  gamma=0.1, learning_rate=0.01, max_depth=5, n_estimators=70, score=0.044, total=   1.6s\n",
      "[CV] gamma=0.1, learning_rate=0.01, max_depth=5, n_estimators=90 .....\n",
      "[CV]  gamma=0.1, learning_rate=0.01, max_depth=5, n_estimators=90, score=0.196, total=   2.0s\n",
      "[CV] gamma=0.1, learning_rate=0.01, max_depth=5, n_estimators=90 .....\n",
      "[CV]  gamma=0.1, learning_rate=0.01, max_depth=5, n_estimators=90, score=0.199, total=   2.0s\n",
      "[CV] gamma=0.1, learning_rate=0.01, max_depth=5, n_estimators=90 .....\n",
      "[CV]  gamma=0.1, learning_rate=0.01, max_depth=5, n_estimators=90, score=0.185, total=   2.0s\n",
      "[CV] gamma=0.1, learning_rate=0.01, max_depth=5, n_estimators=90 .....\n",
      "[CV]  gamma=0.1, learning_rate=0.01, max_depth=5, n_estimators=90, score=0.187, total=   2.8s\n",
      "[CV] gamma=0.1, learning_rate=0.01, max_depth=5, n_estimators=90 .....\n",
      "[CV]  gamma=0.1, learning_rate=0.01, max_depth=5, n_estimators=90, score=0.200, total=   2.1s\n",
      "[CV] gamma=0.1, learning_rate=0.01, max_depth=5, n_estimators=120 ....\n",
      "[CV]  gamma=0.1, learning_rate=0.01, max_depth=5, n_estimators=120, score=0.359, total=   2.6s\n",
      "[CV] gamma=0.1, learning_rate=0.01, max_depth=5, n_estimators=120 ....\n",
      "[CV]  gamma=0.1, learning_rate=0.01, max_depth=5, n_estimators=120, score=0.360, total=   2.6s\n",
      "[CV] gamma=0.1, learning_rate=0.01, max_depth=5, n_estimators=120 ....\n",
      "[CV]  gamma=0.1, learning_rate=0.01, max_depth=5, n_estimators=120, score=0.342, total=   2.6s\n",
      "[CV] gamma=0.1, learning_rate=0.01, max_depth=5, n_estimators=120 ....\n",
      "[CV]  gamma=0.1, learning_rate=0.01, max_depth=5, n_estimators=120, score=0.354, total=   2.8s\n",
      "[CV] gamma=0.1, learning_rate=0.01, max_depth=5, n_estimators=120 ....\n",
      "[CV]  gamma=0.1, learning_rate=0.01, max_depth=5, n_estimators=120, score=0.366, total=   2.6s\n",
      "[CV] gamma=0.1, learning_rate=0.01, max_depth=6, n_estimators=70 .....\n",
      "[CV]  gamma=0.1, learning_rate=0.01, max_depth=6, n_estimators=70, score=0.145, total=   1.9s\n",
      "[CV] gamma=0.1, learning_rate=0.01, max_depth=6, n_estimators=70 .....\n",
      "[CV]  gamma=0.1, learning_rate=0.01, max_depth=6, n_estimators=70, score=0.147, total=   1.9s\n",
      "[CV] gamma=0.1, learning_rate=0.01, max_depth=6, n_estimators=70 .....\n",
      "[CV]  gamma=0.1, learning_rate=0.01, max_depth=6, n_estimators=70, score=0.126, total=   1.9s\n",
      "[CV] gamma=0.1, learning_rate=0.01, max_depth=6, n_estimators=70 .....\n",
      "[CV]  gamma=0.1, learning_rate=0.01, max_depth=6, n_estimators=70, score=0.128, total=   1.9s\n",
      "[CV] gamma=0.1, learning_rate=0.01, max_depth=6, n_estimators=70 .....\n",
      "[CV]  gamma=0.1, learning_rate=0.01, max_depth=6, n_estimators=70, score=0.152, total=   1.8s\n",
      "[CV] gamma=0.1, learning_rate=0.01, max_depth=6, n_estimators=90 .....\n",
      "[CV]  gamma=0.1, learning_rate=0.01, max_depth=6, n_estimators=90, score=0.315, total=   2.4s\n",
      "[CV] gamma=0.1, learning_rate=0.01, max_depth=6, n_estimators=90 .....\n",
      "[CV]  gamma=0.1, learning_rate=0.01, max_depth=6, n_estimators=90, score=0.311, total=   2.4s\n",
      "[CV] gamma=0.1, learning_rate=0.01, max_depth=6, n_estimators=90 .....\n",
      "[CV]  gamma=0.1, learning_rate=0.01, max_depth=6, n_estimators=90, score=0.300, total=   2.4s\n",
      "[CV] gamma=0.1, learning_rate=0.01, max_depth=6, n_estimators=90 .....\n",
      "[CV]  gamma=0.1, learning_rate=0.01, max_depth=6, n_estimators=90, score=0.300, total=   2.4s\n",
      "[CV] gamma=0.1, learning_rate=0.01, max_depth=6, n_estimators=90 .....\n",
      "[CV]  gamma=0.1, learning_rate=0.01, max_depth=6, n_estimators=90, score=0.325, total=   2.4s\n",
      "[CV] gamma=0.1, learning_rate=0.01, max_depth=6, n_estimators=120 ....\n",
      "[CV]  gamma=0.1, learning_rate=0.01, max_depth=6, n_estimators=120, score=0.479, total=   3.2s\n",
      "[CV] gamma=0.1, learning_rate=0.01, max_depth=6, n_estimators=120 ....\n",
      "[CV]  gamma=0.1, learning_rate=0.01, max_depth=6, n_estimators=120, score=0.474, total=   3.2s\n",
      "[CV] gamma=0.1, learning_rate=0.01, max_depth=6, n_estimators=120 ....\n",
      "[CV]  gamma=0.1, learning_rate=0.01, max_depth=6, n_estimators=120, score=0.466, total=   3.2s\n",
      "[CV] gamma=0.1, learning_rate=0.01, max_depth=6, n_estimators=120 ....\n",
      "[CV]  gamma=0.1, learning_rate=0.01, max_depth=6, n_estimators=120, score=0.465, total=   3.2s\n",
      "[CV] gamma=0.1, learning_rate=0.01, max_depth=6, n_estimators=120 ....\n",
      "[CV]  gamma=0.1, learning_rate=0.01, max_depth=6, n_estimators=120, score=0.493, total=   3.3s\n",
      "[CV] gamma=0.1, learning_rate=0.1, max_depth=4, n_estimators=70 ......\n",
      "[CV]  gamma=0.1, learning_rate=0.1, max_depth=4, n_estimators=70, score=0.874, total=   1.3s\n",
      "[CV] gamma=0.1, learning_rate=0.1, max_depth=4, n_estimators=70 ......\n",
      "[CV]  gamma=0.1, learning_rate=0.1, max_depth=4, n_estimators=70, score=0.869, total=   1.3s\n",
      "[CV] gamma=0.1, learning_rate=0.1, max_depth=4, n_estimators=70 ......\n",
      "[CV]  gamma=0.1, learning_rate=0.1, max_depth=4, n_estimators=70, score=0.876, total=   1.3s\n",
      "[CV] gamma=0.1, learning_rate=0.1, max_depth=4, n_estimators=70 ......\n",
      "[CV]  gamma=0.1, learning_rate=0.1, max_depth=4, n_estimators=70, score=0.877, total=   1.3s\n",
      "[CV] gamma=0.1, learning_rate=0.1, max_depth=4, n_estimators=70 ......\n",
      "[CV]  gamma=0.1, learning_rate=0.1, max_depth=4, n_estimators=70, score=0.879, total=   1.4s\n",
      "[CV] gamma=0.1, learning_rate=0.1, max_depth=4, n_estimators=90 ......\n",
      "[CV]  gamma=0.1, learning_rate=0.1, max_depth=4, n_estimators=90, score=0.906, total=   1.7s\n",
      "[CV] gamma=0.1, learning_rate=0.1, max_depth=4, n_estimators=90 ......\n",
      "[CV]  gamma=0.1, learning_rate=0.1, max_depth=4, n_estimators=90, score=0.903, total=   1.7s\n",
      "[CV] gamma=0.1, learning_rate=0.1, max_depth=4, n_estimators=90 ......\n",
      "[CV]  gamma=0.1, learning_rate=0.1, max_depth=4, n_estimators=90, score=0.904, total=   1.7s\n",
      "[CV] gamma=0.1, learning_rate=0.1, max_depth=4, n_estimators=90 ......\n",
      "[CV]  gamma=0.1, learning_rate=0.1, max_depth=4, n_estimators=90, score=0.916, total=   1.9s\n",
      "[CV] gamma=0.1, learning_rate=0.1, max_depth=4, n_estimators=90 ......\n",
      "[CV]  gamma=0.1, learning_rate=0.1, max_depth=4, n_estimators=90, score=0.906, total=   1.7s\n",
      "[CV] gamma=0.1, learning_rate=0.1, max_depth=4, n_estimators=120 .....\n",
      "[CV]  gamma=0.1, learning_rate=0.1, max_depth=4, n_estimators=120, score=0.928, total=   2.4s\n",
      "[CV] gamma=0.1, learning_rate=0.1, max_depth=4, n_estimators=120 .....\n",
      "[CV]  gamma=0.1, learning_rate=0.1, max_depth=4, n_estimators=120, score=0.927, total=   2.3s\n",
      "[CV] gamma=0.1, learning_rate=0.1, max_depth=4, n_estimators=120 .....\n",
      "[CV]  gamma=0.1, learning_rate=0.1, max_depth=4, n_estimators=120, score=0.928, total=   2.3s\n",
      "[CV] gamma=0.1, learning_rate=0.1, max_depth=4, n_estimators=120 .....\n",
      "[CV]  gamma=0.1, learning_rate=0.1, max_depth=4, n_estimators=120, score=0.937, total=   2.4s\n",
      "[CV] gamma=0.1, learning_rate=0.1, max_depth=4, n_estimators=120 .....\n",
      "[CV]  gamma=0.1, learning_rate=0.1, max_depth=4, n_estimators=120, score=0.930, total=   2.4s\n",
      "[CV] gamma=0.1, learning_rate=0.1, max_depth=5, n_estimators=70 ......\n",
      "[CV]  gamma=0.1, learning_rate=0.1, max_depth=5, n_estimators=70, score=0.919, total=   1.8s\n",
      "[CV] gamma=0.1, learning_rate=0.1, max_depth=5, n_estimators=70 ......\n",
      "[CV]  gamma=0.1, learning_rate=0.1, max_depth=5, n_estimators=70, score=0.924, total=   1.7s\n",
      "[CV] gamma=0.1, learning_rate=0.1, max_depth=5, n_estimators=70 ......\n",
      "[CV]  gamma=0.1, learning_rate=0.1, max_depth=5, n_estimators=70, score=0.933, total=   1.8s\n",
      "[CV] gamma=0.1, learning_rate=0.1, max_depth=5, n_estimators=70 ......\n",
      "[CV]  gamma=0.1, learning_rate=0.1, max_depth=5, n_estimators=70, score=0.923, total=   1.7s\n",
      "[CV] gamma=0.1, learning_rate=0.1, max_depth=5, n_estimators=70 ......\n",
      "[CV]  gamma=0.1, learning_rate=0.1, max_depth=5, n_estimators=70, score=0.923, total=   1.6s\n",
      "[CV] gamma=0.1, learning_rate=0.1, max_depth=5, n_estimators=90 ......\n",
      "[CV]  gamma=0.1, learning_rate=0.1, max_depth=5, n_estimators=90, score=0.938, total=   2.1s\n",
      "[CV] gamma=0.1, learning_rate=0.1, max_depth=5, n_estimators=90 ......\n",
      "[CV]  gamma=0.1, learning_rate=0.1, max_depth=5, n_estimators=90, score=0.943, total=   2.1s\n",
      "[CV] gamma=0.1, learning_rate=0.1, max_depth=5, n_estimators=90 ......\n",
      "[CV]  gamma=0.1, learning_rate=0.1, max_depth=5, n_estimators=90, score=0.947, total=   2.1s\n",
      "[CV] gamma=0.1, learning_rate=0.1, max_depth=5, n_estimators=90 ......\n",
      "[CV]  gamma=0.1, learning_rate=0.1, max_depth=5, n_estimators=90, score=0.942, total=   2.1s\n",
      "[CV] gamma=0.1, learning_rate=0.1, max_depth=5, n_estimators=90 ......\n",
      "[CV]  gamma=0.1, learning_rate=0.1, max_depth=5, n_estimators=90, score=0.943, total=   2.1s\n",
      "[CV] gamma=0.1, learning_rate=0.1, max_depth=5, n_estimators=120 .....\n",
      "[CV]  gamma=0.1, learning_rate=0.1, max_depth=5, n_estimators=120, score=0.954, total=   2.8s\n",
      "[CV] gamma=0.1, learning_rate=0.1, max_depth=5, n_estimators=120 .....\n",
      "[CV]  gamma=0.1, learning_rate=0.1, max_depth=5, n_estimators=120, score=0.954, total=   2.8s\n",
      "[CV] gamma=0.1, learning_rate=0.1, max_depth=5, n_estimators=120 .....\n",
      "[CV]  gamma=0.1, learning_rate=0.1, max_depth=5, n_estimators=120, score=0.959, total=   2.8s\n",
      "[CV] gamma=0.1, learning_rate=0.1, max_depth=5, n_estimators=120 .....\n",
      "[CV]  gamma=0.1, learning_rate=0.1, max_depth=5, n_estimators=120, score=0.954, total=   2.8s\n",
      "[CV] gamma=0.1, learning_rate=0.1, max_depth=5, n_estimators=120 .....\n",
      "[CV]  gamma=0.1, learning_rate=0.1, max_depth=5, n_estimators=120, score=0.957, total=   2.8s\n",
      "[CV] gamma=0.1, learning_rate=0.1, max_depth=6, n_estimators=70 ......\n",
      "[CV]  gamma=0.1, learning_rate=0.1, max_depth=6, n_estimators=70, score=0.953, total=   2.0s\n",
      "[CV] gamma=0.1, learning_rate=0.1, max_depth=6, n_estimators=70 ......\n",
      "[CV]  gamma=0.1, learning_rate=0.1, max_depth=6, n_estimators=70, score=0.959, total=   2.0s\n",
      "[CV] gamma=0.1, learning_rate=0.1, max_depth=6, n_estimators=70 ......\n",
      "[CV]  gamma=0.1, learning_rate=0.1, max_depth=6, n_estimators=70, score=0.951, total=   2.8s\n",
      "[CV] gamma=0.1, learning_rate=0.1, max_depth=6, n_estimators=70 ......\n",
      "[CV]  gamma=0.1, learning_rate=0.1, max_depth=6, n_estimators=70, score=0.954, total=   2.1s\n",
      "[CV] gamma=0.1, learning_rate=0.1, max_depth=6, n_estimators=70 ......\n",
      "[CV]  gamma=0.1, learning_rate=0.1, max_depth=6, n_estimators=70, score=0.947, total=   2.0s\n",
      "[CV] gamma=0.1, learning_rate=0.1, max_depth=6, n_estimators=90 ......\n",
      "[CV]  gamma=0.1, learning_rate=0.1, max_depth=6, n_estimators=90, score=0.964, total=   2.6s\n",
      "[CV] gamma=0.1, learning_rate=0.1, max_depth=6, n_estimators=90 ......\n",
      "[CV]  gamma=0.1, learning_rate=0.1, max_depth=6, n_estimators=90, score=0.968, total=   2.6s\n",
      "[CV] gamma=0.1, learning_rate=0.1, max_depth=6, n_estimators=90 ......\n",
      "[CV]  gamma=0.1, learning_rate=0.1, max_depth=6, n_estimators=90, score=0.963, total=   2.6s\n",
      "[CV] gamma=0.1, learning_rate=0.1, max_depth=6, n_estimators=90 ......\n",
      "[CV]  gamma=0.1, learning_rate=0.1, max_depth=6, n_estimators=90, score=0.965, total=   2.6s\n",
      "[CV] gamma=0.1, learning_rate=0.1, max_depth=6, n_estimators=90 ......\n",
      "[CV]  gamma=0.1, learning_rate=0.1, max_depth=6, n_estimators=90, score=0.959, total=   2.6s\n",
      "[CV] gamma=0.1, learning_rate=0.1, max_depth=6, n_estimators=120 .....\n",
      "[CV]  gamma=0.1, learning_rate=0.1, max_depth=6, n_estimators=120, score=0.971, total=   3.4s\n",
      "[CV] gamma=0.1, learning_rate=0.1, max_depth=6, n_estimators=120 .....\n",
      "[CV]  gamma=0.1, learning_rate=0.1, max_depth=6, n_estimators=120, score=0.974, total=   3.5s\n",
      "[CV] gamma=0.1, learning_rate=0.1, max_depth=6, n_estimators=120 .....\n",
      "[CV]  gamma=0.1, learning_rate=0.1, max_depth=6, n_estimators=120, score=0.972, total=   3.4s\n",
      "[CV] gamma=0.1, learning_rate=0.1, max_depth=6, n_estimators=120 .....\n",
      "[CV]  gamma=0.1, learning_rate=0.1, max_depth=6, n_estimators=120, score=0.972, total=   3.5s\n",
      "[CV] gamma=0.1, learning_rate=0.1, max_depth=6, n_estimators=120 .....\n",
      "[CV]  gamma=0.1, learning_rate=0.1, max_depth=6, n_estimators=120, score=0.969, total=   3.5s\n",
      "[CV] gamma=0.95, learning_rate=0.01, max_depth=4, n_estimators=70 ....\n",
      "[CV]  gamma=0.95, learning_rate=0.01, max_depth=4, n_estimators=70, score=-0.058, total=   1.3s\n",
      "[CV] gamma=0.95, learning_rate=0.01, max_depth=4, n_estimators=70 ....\n",
      "[CV]  gamma=0.95, learning_rate=0.01, max_depth=4, n_estimators=70, score=-0.053, total=   1.3s\n",
      "[CV] gamma=0.95, learning_rate=0.01, max_depth=4, n_estimators=70 ....\n",
      "[CV]  gamma=0.95, learning_rate=0.01, max_depth=4, n_estimators=70, score=-0.066, total=   1.2s\n",
      "[CV] gamma=0.95, learning_rate=0.01, max_depth=4, n_estimators=70 ....\n",
      "[CV]  gamma=0.95, learning_rate=0.01, max_depth=4, n_estimators=70, score=-0.070, total=   1.3s\n",
      "[CV] gamma=0.95, learning_rate=0.01, max_depth=4, n_estimators=70 ....\n",
      "[CV]  gamma=0.95, learning_rate=0.01, max_depth=4, n_estimators=70, score=-0.059, total=   1.3s\n",
      "[CV] gamma=0.95, learning_rate=0.01, max_depth=4, n_estimators=90 ....\n",
      "[CV]  gamma=0.95, learning_rate=0.01, max_depth=4, n_estimators=90, score=0.093, total=   1.6s\n",
      "[CV] gamma=0.95, learning_rate=0.01, max_depth=4, n_estimators=90 ....\n",
      "[CV]  gamma=0.95, learning_rate=0.01, max_depth=4, n_estimators=90, score=0.097, total=   1.6s\n",
      "[CV] gamma=0.95, learning_rate=0.01, max_depth=4, n_estimators=90 ....\n",
      "[CV]  gamma=0.95, learning_rate=0.01, max_depth=4, n_estimators=90, score=0.086, total=   1.6s\n",
      "[CV] gamma=0.95, learning_rate=0.01, max_depth=4, n_estimators=90 ....\n",
      "[CV]  gamma=0.95, learning_rate=0.01, max_depth=4, n_estimators=90, score=0.085, total=   1.6s\n",
      "[CV] gamma=0.95, learning_rate=0.01, max_depth=4, n_estimators=90 ....\n",
      "[CV]  gamma=0.95, learning_rate=0.01, max_depth=4, n_estimators=90, score=0.099, total=   1.6s\n",
      "[CV] gamma=0.95, learning_rate=0.01, max_depth=4, n_estimators=120 ...\n",
      "[CV]  gamma=0.95, learning_rate=0.01, max_depth=4, n_estimators=120, score=0.262, total=   2.1s\n",
      "[CV] gamma=0.95, learning_rate=0.01, max_depth=4, n_estimators=120 ...\n",
      "[CV]  gamma=0.95, learning_rate=0.01, max_depth=4, n_estimators=120, score=0.263, total=   2.3s\n",
      "[CV] gamma=0.95, learning_rate=0.01, max_depth=4, n_estimators=120 ...\n",
      "[CV]  gamma=0.95, learning_rate=0.01, max_depth=4, n_estimators=120, score=0.257, total=   2.2s\n",
      "[CV] gamma=0.95, learning_rate=0.01, max_depth=4, n_estimators=120 ...\n",
      "[CV]  gamma=0.95, learning_rate=0.01, max_depth=4, n_estimators=120, score=0.254, total=   2.1s\n",
      "[CV] gamma=0.95, learning_rate=0.01, max_depth=4, n_estimators=120 ...\n",
      "[CV]  gamma=0.95, learning_rate=0.01, max_depth=4, n_estimators=120, score=0.265, total=   2.2s\n",
      "[CV] gamma=0.95, learning_rate=0.01, max_depth=5, n_estimators=70 ....\n",
      "[CV]  gamma=0.95, learning_rate=0.01, max_depth=5, n_estimators=70, score=0.043, total=   1.6s\n",
      "[CV] gamma=0.95, learning_rate=0.01, max_depth=5, n_estimators=70 ....\n",
      "[CV]  gamma=0.95, learning_rate=0.01, max_depth=5, n_estimators=70, score=0.044, total=   1.6s\n",
      "[CV] gamma=0.95, learning_rate=0.01, max_depth=5, n_estimators=70 ....\n",
      "[CV]  gamma=0.95, learning_rate=0.01, max_depth=5, n_estimators=70, score=0.026, total=   1.5s\n",
      "[CV] gamma=0.95, learning_rate=0.01, max_depth=5, n_estimators=70 ....\n",
      "[CV]  gamma=0.95, learning_rate=0.01, max_depth=5, n_estimators=70, score=0.030, total=   1.5s\n",
      "[CV] gamma=0.95, learning_rate=0.01, max_depth=5, n_estimators=70 ....\n",
      "[CV]  gamma=0.95, learning_rate=0.01, max_depth=5, n_estimators=70, score=0.044, total=   1.6s\n",
      "[CV] gamma=0.95, learning_rate=0.01, max_depth=5, n_estimators=90 ....\n",
      "[CV]  gamma=0.95, learning_rate=0.01, max_depth=5, n_estimators=90, score=0.196, total=   2.0s\n",
      "[CV] gamma=0.95, learning_rate=0.01, max_depth=5, n_estimators=90 ....\n",
      "[CV]  gamma=0.95, learning_rate=0.01, max_depth=5, n_estimators=90, score=0.199, total=   2.0s\n",
      "[CV] gamma=0.95, learning_rate=0.01, max_depth=5, n_estimators=90 ....\n",
      "[CV]  gamma=0.95, learning_rate=0.01, max_depth=5, n_estimators=90, score=0.185, total=   2.0s\n",
      "[CV] gamma=0.95, learning_rate=0.01, max_depth=5, n_estimators=90 ....\n",
      "[CV]  gamma=0.95, learning_rate=0.01, max_depth=5, n_estimators=90, score=0.187, total=   2.0s\n",
      "[CV] gamma=0.95, learning_rate=0.01, max_depth=5, n_estimators=90 ....\n",
      "[CV]  gamma=0.95, learning_rate=0.01, max_depth=5, n_estimators=90, score=0.200, total=   2.0s\n",
      "[CV] gamma=0.95, learning_rate=0.01, max_depth=5, n_estimators=120 ...\n",
      "[CV]  gamma=0.95, learning_rate=0.01, max_depth=5, n_estimators=120, score=0.359, total=   2.6s\n",
      "[CV] gamma=0.95, learning_rate=0.01, max_depth=5, n_estimators=120 ...\n",
      "[CV]  gamma=0.95, learning_rate=0.01, max_depth=5, n_estimators=120, score=0.360, total=   2.6s\n",
      "[CV] gamma=0.95, learning_rate=0.01, max_depth=5, n_estimators=120 ...\n",
      "[CV]  gamma=0.95, learning_rate=0.01, max_depth=5, n_estimators=120, score=0.342, total=   2.6s\n",
      "[CV] gamma=0.95, learning_rate=0.01, max_depth=5, n_estimators=120 ...\n",
      "[CV]  gamma=0.95, learning_rate=0.01, max_depth=5, n_estimators=120, score=0.354, total=   2.6s\n",
      "[CV] gamma=0.95, learning_rate=0.01, max_depth=5, n_estimators=120 ...\n",
      "[CV]  gamma=0.95, learning_rate=0.01, max_depth=5, n_estimators=120, score=0.366, total=   2.6s\n",
      "[CV] gamma=0.95, learning_rate=0.01, max_depth=6, n_estimators=70 ....\n",
      "[CV]  gamma=0.95, learning_rate=0.01, max_depth=6, n_estimators=70, score=0.145, total=   1.9s\n",
      "[CV] gamma=0.95, learning_rate=0.01, max_depth=6, n_estimators=70 ....\n",
      "[CV]  gamma=0.95, learning_rate=0.01, max_depth=6, n_estimators=70, score=0.147, total=   1.9s\n",
      "[CV] gamma=0.95, learning_rate=0.01, max_depth=6, n_estimators=70 ....\n",
      "[CV]  gamma=0.95, learning_rate=0.01, max_depth=6, n_estimators=70, score=0.126, total=   1.8s\n",
      "[CV] gamma=0.95, learning_rate=0.01, max_depth=6, n_estimators=70 ....\n",
      "[CV]  gamma=0.95, learning_rate=0.01, max_depth=6, n_estimators=70, score=0.128, total=   1.9s\n",
      "[CV] gamma=0.95, learning_rate=0.01, max_depth=6, n_estimators=70 ....\n",
      "[CV]  gamma=0.95, learning_rate=0.01, max_depth=6, n_estimators=70, score=0.152, total=   1.8s\n",
      "[CV] gamma=0.95, learning_rate=0.01, max_depth=6, n_estimators=90 ....\n",
      "[CV]  gamma=0.95, learning_rate=0.01, max_depth=6, n_estimators=90, score=0.315, total=   2.4s\n",
      "[CV] gamma=0.95, learning_rate=0.01, max_depth=6, n_estimators=90 ....\n",
      "[CV]  gamma=0.95, learning_rate=0.01, max_depth=6, n_estimators=90, score=0.311, total=   2.4s\n",
      "[CV] gamma=0.95, learning_rate=0.01, max_depth=6, n_estimators=90 ....\n",
      "[CV]  gamma=0.95, learning_rate=0.01, max_depth=6, n_estimators=90, score=0.300, total=   2.4s\n",
      "[CV] gamma=0.95, learning_rate=0.01, max_depth=6, n_estimators=90 ....\n",
      "[CV]  gamma=0.95, learning_rate=0.01, max_depth=6, n_estimators=90, score=0.300, total=   2.4s\n",
      "[CV] gamma=0.95, learning_rate=0.01, max_depth=6, n_estimators=90 ....\n",
      "[CV]  gamma=0.95, learning_rate=0.01, max_depth=6, n_estimators=90, score=0.325, total=   2.4s\n",
      "[CV] gamma=0.95, learning_rate=0.01, max_depth=6, n_estimators=120 ...\n",
      "[CV]  gamma=0.95, learning_rate=0.01, max_depth=6, n_estimators=120, score=0.479, total=   3.2s\n",
      "[CV] gamma=0.95, learning_rate=0.01, max_depth=6, n_estimators=120 ...\n",
      "[CV]  gamma=0.95, learning_rate=0.01, max_depth=6, n_estimators=120, score=0.474, total=   3.2s\n",
      "[CV] gamma=0.95, learning_rate=0.01, max_depth=6, n_estimators=120 ...\n",
      "[CV]  gamma=0.95, learning_rate=0.01, max_depth=6, n_estimators=120, score=0.466, total=   3.4s\n",
      "[CV] gamma=0.95, learning_rate=0.01, max_depth=6, n_estimators=120 ...\n",
      "[CV]  gamma=0.95, learning_rate=0.01, max_depth=6, n_estimators=120, score=0.465, total=   3.7s\n",
      "[CV] gamma=0.95, learning_rate=0.01, max_depth=6, n_estimators=120 ...\n",
      "[CV]  gamma=0.95, learning_rate=0.01, max_depth=6, n_estimators=120, score=0.493, total=   3.5s\n",
      "[CV] gamma=0.95, learning_rate=0.1, max_depth=4, n_estimators=70 .....\n",
      "[CV]  gamma=0.95, learning_rate=0.1, max_depth=4, n_estimators=70, score=0.874, total=   1.4s\n",
      "[CV] gamma=0.95, learning_rate=0.1, max_depth=4, n_estimators=70 .....\n",
      "[CV]  gamma=0.95, learning_rate=0.1, max_depth=4, n_estimators=70, score=0.869, total=   1.3s\n",
      "[CV] gamma=0.95, learning_rate=0.1, max_depth=4, n_estimators=70 .....\n",
      "[CV]  gamma=0.95, learning_rate=0.1, max_depth=4, n_estimators=70, score=0.876, total=   1.4s\n",
      "[CV] gamma=0.95, learning_rate=0.1, max_depth=4, n_estimators=70 .....\n",
      "[CV]  gamma=0.95, learning_rate=0.1, max_depth=4, n_estimators=70, score=0.877, total=   1.5s\n",
      "[CV] gamma=0.95, learning_rate=0.1, max_depth=4, n_estimators=70 .....\n",
      "[CV]  gamma=0.95, learning_rate=0.1, max_depth=4, n_estimators=70, score=0.879, total=   1.4s\n",
      "[CV] gamma=0.95, learning_rate=0.1, max_depth=4, n_estimators=90 .....\n",
      "[CV]  gamma=0.95, learning_rate=0.1, max_depth=4, n_estimators=90, score=0.906, total=   1.7s\n",
      "[CV] gamma=0.95, learning_rate=0.1, max_depth=4, n_estimators=90 .....\n",
      "[CV]  gamma=0.95, learning_rate=0.1, max_depth=4, n_estimators=90, score=0.903, total=   1.7s\n",
      "[CV] gamma=0.95, learning_rate=0.1, max_depth=4, n_estimators=90 .....\n",
      "[CV]  gamma=0.95, learning_rate=0.1, max_depth=4, n_estimators=90, score=0.904, total=   1.7s\n",
      "[CV] gamma=0.95, learning_rate=0.1, max_depth=4, n_estimators=90 .....\n",
      "[CV]  gamma=0.95, learning_rate=0.1, max_depth=4, n_estimators=90, score=0.916, total=   1.7s\n",
      "[CV] gamma=0.95, learning_rate=0.1, max_depth=4, n_estimators=90 .....\n",
      "[CV]  gamma=0.95, learning_rate=0.1, max_depth=4, n_estimators=90, score=0.906, total=   1.7s\n",
      "[CV] gamma=0.95, learning_rate=0.1, max_depth=4, n_estimators=120 ....\n",
      "[CV]  gamma=0.95, learning_rate=0.1, max_depth=4, n_estimators=120, score=0.928, total=   2.2s\n",
      "[CV] gamma=0.95, learning_rate=0.1, max_depth=4, n_estimators=120 ....\n",
      "[CV]  gamma=0.95, learning_rate=0.1, max_depth=4, n_estimators=120, score=0.927, total=   2.2s\n",
      "[CV] gamma=0.95, learning_rate=0.1, max_depth=4, n_estimators=120 ....\n",
      "[CV]  gamma=0.95, learning_rate=0.1, max_depth=4, n_estimators=120, score=0.928, total=   2.2s\n",
      "[CV] gamma=0.95, learning_rate=0.1, max_depth=4, n_estimators=120 ....\n",
      "[CV]  gamma=0.95, learning_rate=0.1, max_depth=4, n_estimators=120, score=0.937, total=   2.2s\n",
      "[CV] gamma=0.95, learning_rate=0.1, max_depth=4, n_estimators=120 ....\n",
      "[CV]  gamma=0.95, learning_rate=0.1, max_depth=4, n_estimators=120, score=0.930, total=   2.2s\n",
      "[CV] gamma=0.95, learning_rate=0.1, max_depth=5, n_estimators=70 .....\n",
      "[CV]  gamma=0.95, learning_rate=0.1, max_depth=5, n_estimators=70, score=0.919, total=   1.6s\n",
      "[CV] gamma=0.95, learning_rate=0.1, max_depth=5, n_estimators=70 .....\n",
      "[CV]  gamma=0.95, learning_rate=0.1, max_depth=5, n_estimators=70, score=0.924, total=   1.6s\n",
      "[CV] gamma=0.95, learning_rate=0.1, max_depth=5, n_estimators=70 .....\n",
      "[CV]  gamma=0.95, learning_rate=0.1, max_depth=5, n_estimators=70, score=0.933, total=   1.6s\n",
      "[CV] gamma=0.95, learning_rate=0.1, max_depth=5, n_estimators=70 .....\n",
      "[CV]  gamma=0.95, learning_rate=0.1, max_depth=5, n_estimators=70, score=0.923, total=   1.6s\n",
      "[CV] gamma=0.95, learning_rate=0.1, max_depth=5, n_estimators=70 .....\n",
      "[CV]  gamma=0.95, learning_rate=0.1, max_depth=5, n_estimators=70, score=0.923, total=   1.6s\n",
      "[CV] gamma=0.95, learning_rate=0.1, max_depth=5, n_estimators=90 .....\n",
      "[CV]  gamma=0.95, learning_rate=0.1, max_depth=5, n_estimators=90, score=0.938, total=   2.1s\n",
      "[CV] gamma=0.95, learning_rate=0.1, max_depth=5, n_estimators=90 .....\n",
      "[CV]  gamma=0.95, learning_rate=0.1, max_depth=5, n_estimators=90, score=0.943, total=   2.1s\n",
      "[CV] gamma=0.95, learning_rate=0.1, max_depth=5, n_estimators=90 .....\n",
      "[CV]  gamma=0.95, learning_rate=0.1, max_depth=5, n_estimators=90, score=0.947, total=   2.1s\n",
      "[CV] gamma=0.95, learning_rate=0.1, max_depth=5, n_estimators=90 .....\n",
      "[CV]  gamma=0.95, learning_rate=0.1, max_depth=5, n_estimators=90, score=0.942, total=   2.2s\n",
      "[CV] gamma=0.95, learning_rate=0.1, max_depth=5, n_estimators=90 .....\n",
      "[CV]  gamma=0.95, learning_rate=0.1, max_depth=5, n_estimators=90, score=0.943, total=   2.1s\n",
      "[CV] gamma=0.95, learning_rate=0.1, max_depth=5, n_estimators=120 ....\n",
      "[CV]  gamma=0.95, learning_rate=0.1, max_depth=5, n_estimators=120, score=0.954, total=   2.8s\n",
      "[CV] gamma=0.95, learning_rate=0.1, max_depth=5, n_estimators=120 ....\n",
      "[CV]  gamma=0.95, learning_rate=0.1, max_depth=5, n_estimators=120, score=0.954, total=   3.0s\n",
      "[CV] gamma=0.95, learning_rate=0.1, max_depth=5, n_estimators=120 ....\n",
      "[CV]  gamma=0.95, learning_rate=0.1, max_depth=5, n_estimators=120, score=0.959, total=   2.8s\n",
      "[CV] gamma=0.95, learning_rate=0.1, max_depth=5, n_estimators=120 ....\n",
      "[CV]  gamma=0.95, learning_rate=0.1, max_depth=5, n_estimators=120, score=0.954, total=   2.8s\n",
      "[CV] gamma=0.95, learning_rate=0.1, max_depth=5, n_estimators=120 ....\n",
      "[CV]  gamma=0.95, learning_rate=0.1, max_depth=5, n_estimators=120, score=0.957, total=   2.8s\n",
      "[CV] gamma=0.95, learning_rate=0.1, max_depth=6, n_estimators=70 .....\n",
      "[CV]  gamma=0.95, learning_rate=0.1, max_depth=6, n_estimators=70, score=0.953, total=   2.0s\n",
      "[CV] gamma=0.95, learning_rate=0.1, max_depth=6, n_estimators=70 .....\n",
      "[CV]  gamma=0.95, learning_rate=0.1, max_depth=6, n_estimators=70, score=0.959, total=   2.1s\n",
      "[CV] gamma=0.95, learning_rate=0.1, max_depth=6, n_estimators=70 .....\n",
      "[CV]  gamma=0.95, learning_rate=0.1, max_depth=6, n_estimators=70, score=0.951, total=   2.0s\n",
      "[CV] gamma=0.95, learning_rate=0.1, max_depth=6, n_estimators=70 .....\n",
      "[CV]  gamma=0.95, learning_rate=0.1, max_depth=6, n_estimators=70, score=0.954, total=   2.0s\n",
      "[CV] gamma=0.95, learning_rate=0.1, max_depth=6, n_estimators=70 .....\n",
      "[CV]  gamma=0.95, learning_rate=0.1, max_depth=6, n_estimators=70, score=0.947, total=   2.0s\n",
      "[CV] gamma=0.95, learning_rate=0.1, max_depth=6, n_estimators=90 .....\n",
      "[CV]  gamma=0.95, learning_rate=0.1, max_depth=6, n_estimators=90, score=0.964, total=   2.6s\n",
      "[CV] gamma=0.95, learning_rate=0.1, max_depth=6, n_estimators=90 .....\n",
      "[CV]  gamma=0.95, learning_rate=0.1, max_depth=6, n_estimators=90, score=0.968, total=   2.6s\n",
      "[CV] gamma=0.95, learning_rate=0.1, max_depth=6, n_estimators=90 .....\n",
      "[CV]  gamma=0.95, learning_rate=0.1, max_depth=6, n_estimators=90, score=0.963, total=   2.6s\n",
      "[CV] gamma=0.95, learning_rate=0.1, max_depth=6, n_estimators=90 .....\n",
      "[CV]  gamma=0.95, learning_rate=0.1, max_depth=6, n_estimators=90, score=0.965, total=   2.7s\n",
      "[CV] gamma=0.95, learning_rate=0.1, max_depth=6, n_estimators=90 .....\n",
      "[CV]  gamma=0.95, learning_rate=0.1, max_depth=6, n_estimators=90, score=0.959, total=   2.6s\n",
      "[CV] gamma=0.95, learning_rate=0.1, max_depth=6, n_estimators=120 ....\n",
      "[CV]  gamma=0.95, learning_rate=0.1, max_depth=6, n_estimators=120, score=0.971, total=   3.5s\n",
      "[CV] gamma=0.95, learning_rate=0.1, max_depth=6, n_estimators=120 ....\n",
      "[CV]  gamma=0.95, learning_rate=0.1, max_depth=6, n_estimators=120, score=0.974, total=   3.4s\n",
      "[CV] gamma=0.95, learning_rate=0.1, max_depth=6, n_estimators=120 ....\n",
      "[CV]  gamma=0.95, learning_rate=0.1, max_depth=6, n_estimators=120, score=0.972, total=   3.4s\n",
      "[CV] gamma=0.95, learning_rate=0.1, max_depth=6, n_estimators=120 ....\n",
      "[CV]  gamma=0.95, learning_rate=0.1, max_depth=6, n_estimators=120, score=0.972, total=   3.5s\n",
      "[CV] gamma=0.95, learning_rate=0.1, max_depth=6, n_estimators=120 ....\n",
      "[CV]  gamma=0.95, learning_rate=0.1, max_depth=6, n_estimators=120, score=0.969, total=   3.4s\n"
     ]
    },
    {
     "name": "stderr",
     "output_type": "stream",
     "text": [
      "[Parallel(n_jobs=1)]: Done 270 out of 270 | elapsed:  9.9min finished\n"
     ]
    },
    {
     "data": {
      "text/plain": [
       "GridSearchCV(estimator=XGBRegressor(base_score=None, booster=None,\n",
       "                                    colsample_bylevel=None,\n",
       "                                    colsample_bynode=None,\n",
       "                                    colsample_bytree=None, eval_metric='mape',\n",
       "                                    gamma=None, gpu_id=None,\n",
       "                                    importance_type='gain',\n",
       "                                    interaction_constraints=None,\n",
       "                                    learning_rate=None, max_delta_step=None,\n",
       "                                    max_depth=None, min_child_weight=None,\n",
       "                                    missing=nan, monotone_constraints=None,\n",
       "                                    n_estimators=100, n_jobs=None,\n",
       "                                    num_parallel_tree=None, random_state=666,\n",
       "                                    reg_alpha=None, reg_lambda=None,\n",
       "                                    scale_pos_weight=None, subsample=None,\n",
       "                                    tree_method=None, validate_parameters=None,\n",
       "                                    verbosity=None),\n",
       "             param_grid={'gamma': [0.01, 0.1, 0.95],\n",
       "                         'learning_rate': [0.01, 0.1], 'max_depth': [4, 5, 6],\n",
       "                         'n_estimators': [70, 90, 120]},\n",
       "             verbose=10)"
      ]
     },
     "execution_count": 30,
     "metadata": {
      "tags": []
     },
     "output_type": "execute_result"
    }
   ],
   "source": [
    "from xgboost import XGBRegressor\n",
    "\n",
    "parameters = {\n",
    "    'max_depth': [4, 5, 6],\n",
    "    'n_estimators': [70,  90, 120],\n",
    "    'learning_rate': [0.01, 0.1], \n",
    "    'gamma': [0.01, 0.1,0.95]\n",
    "}\n",
    "\n",
    "estimator = XGBRegressor(random_state=666,eval_metric= 'mape')\n",
    "clf = GridSearchCV(estimator, parameters, verbose=10)\n",
    "clf.fit(x_train, y_train)"
   ]
  },
  {
   "cell_type": "code",
   "execution_count": null,
   "metadata": {
    "id": "G_YCk9Z8Cv9h",
    "outputId": "a332e8e8-07dc-4431-8b72-d82e68dd8bd4"
   },
   "outputs": [
    {
     "data": {
      "text/plain": [
       "{'gamma': 0.01,\n",
       " 'learning_rate': 0.1,\n",
       " 'max_depth': 6,\n",
       " 'n_estimators': 120,\n",
       " 'random_state': 666}"
      ]
     },
     "execution_count": 31,
     "metadata": {
      "tags": []
     },
     "output_type": "execute_result"
    }
   ],
   "source": [
    "grid_search_params = clf.best_params_\n",
    "grid_search_params['random_state'] = 666\n",
    "grid_search_params"
   ]
  },
  {
   "cell_type": "code",
   "execution_count": null,
   "metadata": {
    "id": "i1DeaoaTCv0M",
    "outputId": "eaf7ad5e-adb7-4e4e-da9b-a4e97679f790"
   },
   "outputs": [
    {
     "name": "stdout",
     "output_type": "stream",
     "text": [
      "5 folds의 개별 Neg MAE scores:  [-1833.17  -770.92 -1422.48  -998.98 -1134.99]\n",
      "5 folds의 개별 RMAE scores:  [42.82 27.77 37.72 31.61 33.69]\n",
      "5 folds의 평균 RMAE : 34.719 \n"
     ]
    }
   ],
   "source": [
    "grid_xgb = XGBRegressor(**grid_search_params)\n",
    "scores=cross_val_score(grid_xgb, X, y, scoring='neg_mean_absolute_error')\n",
    "rmae_scores=np.sqrt(-1*scores)\n",
    "avg_rmae=np.mean(rmae_scores)\n",
    "\n",
    "print('5 folds의 개별 Neg MAE scores: ',np.round(scores,2))\n",
    "print('5 folds의 개별 RMAE scores: ',np.round(rmae_scores,2))\n",
    "print('5 folds의 평균 RMAE : {0:.3f} '.format(avg_rmae))"
   ]
  },
  {
   "cell_type": "markdown",
   "metadata": {
    "id": "WbjDDsuNU51P"
   },
   "source": [
    "## Random Forest"
   ]
  },
  {
   "cell_type": "code",
   "execution_count": null,
   "metadata": {
    "id": "vGSmPz8nU51P"
   },
   "outputs": [],
   "source": [
    "from sklearn.ensemble import RandomForestRegressor\n",
    "model = RandomForestRegressor(random_state=666)\n",
    "model.fit(x_train, y_train)\n",
    "preds = model.predict(x_val)"
   ]
  },
  {
   "cell_type": "code",
   "execution_count": null,
   "metadata": {
    "id": "d-Rlxs1yU51Q",
    "outputId": "d7d3ba81-5ca5-4a1c-9931-165f088f2b1b"
   },
   "outputs": [
    {
     "data": {
      "text/plain": [
       "<matplotlib.axes._subplots.AxesSubplot at 0x26e894ec310>"
      ]
     },
     "execution_count": 54,
     "metadata": {
      "tags": []
     },
     "output_type": "execute_result"
    },
    {
     "data": {
      "image/png": "[encoded data removed]",
      "text/plain": [
       "<Figure size 432x288 with 1 Axes>"
      ]
     },
     "metadata": {
      "needs_background": "light",
      "tags": []
     },
     "output_type": "display_data"
    }
   ],
   "source": [
    "feat_importances = pd.Series(model.feature_importances_,index=x_train.columns)\n",
    "feat_importances.nlargest(10).plot(kind='barh')"
   ]
  },
  {
   "cell_type": "code",
   "execution_count": null,
   "metadata": {
    "id": "ShdG_8gsU51Q",
    "outputId": "e9a66d93-c0e6-4edc-e990-a6fcfe85adcb"
   },
   "outputs": [
    {
     "name": "stdout",
     "output_type": "stream",
     "text": [
      "{'n_estimators': [200, 400, 600, 800, 1000, 1200, 1400, 1600, 1800, 2000], 'max_features': ['auto', 'sqrt'], 'max_depth': [10, 20, 30, 40, 50, 60, 70, 80, 90, 100, 110, None], 'min_samples_split': [2, 5, 10], 'min_samples_leaf': [1, 2, 4], 'bootstrap': [True, False]}\n"
     ]
    }
   ],
   "source": [
    "from sklearn.model_selection import RandomizedSearchCV\n",
    "\n",
    "n_estimators = [int(x) for x in np.linspace(start = 200, stop = 2000, num = 10)]\n",
    "max_features = ['auto', 'sqrt']\n",
    "max_depth = [int(x) for x in np.linspace(10, 110, num = 11)]\n",
    "max_depth.append(None)\n",
    "min_samples_split = [2, 5, 10]\n",
    "min_samples_leaf = [1, 2, 4]\n",
    "bootstrap = [True, False]\n",
    "\n",
    "random_grid = {'n_estimators': n_estimators,\n",
    "               'max_features': max_features,\n",
    "               'max_depth': max_depth,\n",
    "               'min_samples_split': min_samples_split,\n",
    "               'min_samples_leaf': min_samples_leaf,\n",
    "               'bootstrap': bootstrap}\n",
    "\n",
    "print(random_grid)"
   ]
  },
  {
   "cell_type": "code",
   "execution_count": null,
   "metadata": {
    "id": "TcghtbGeU51R",
    "outputId": "f3864c36-1eeb-43d0-8da2-eba1a9dd1900"
   },
   "outputs": [
    {
     "name": "stdout",
     "output_type": "stream",
     "text": [
      "Fitting 2 folds for each of 5 candidates, totalling 10 fits\n",
      "[CV] n_estimators=200, min_samples_split=10, min_samples_leaf=2, max_features=sqrt, max_depth=50, bootstrap=True \n"
     ]
    },
    {
     "name": "stderr",
     "output_type": "stream",
     "text": [
      "[Parallel(n_jobs=1)]: Using backend SequentialBackend with 1 concurrent workers.\n"
     ]
    },
    {
     "name": "stdout",
     "output_type": "stream",
     "text": [
      "[CV]  n_estimators=200, min_samples_split=10, min_samples_leaf=2, max_features=sqrt, max_depth=50, bootstrap=True, score=-1.336, total=  15.0s\n",
      "[CV] n_estimators=200, min_samples_split=10, min_samples_leaf=2, max_features=sqrt, max_depth=50, bootstrap=True \n"
     ]
    },
    {
     "name": "stderr",
     "output_type": "stream",
     "text": [
      "[Parallel(n_jobs=1)]: Done   1 out of   1 | elapsed:   14.9s remaining:    0.0s\n"
     ]
    },
    {
     "name": "stdout",
     "output_type": "stream",
     "text": [
      "[CV]  n_estimators=200, min_samples_split=10, min_samples_leaf=2, max_features=sqrt, max_depth=50, bootstrap=True, score=-0.543, total=  14.0s\n",
      "[CV] n_estimators=600, min_samples_split=10, min_samples_leaf=4, max_features=sqrt, max_depth=90, bootstrap=False \n"
     ]
    },
    {
     "name": "stderr",
     "output_type": "stream",
     "text": [
      "[Parallel(n_jobs=1)]: Done   2 out of   2 | elapsed:   28.9s remaining:    0.0s\n"
     ]
    },
    {
     "name": "stdout",
     "output_type": "stream",
     "text": [
      "[CV]  n_estimators=600, min_samples_split=10, min_samples_leaf=4, max_features=sqrt, max_depth=90, bootstrap=False, score=-1.215, total=  55.8s\n",
      "[CV] n_estimators=600, min_samples_split=10, min_samples_leaf=4, max_features=sqrt, max_depth=90, bootstrap=False \n"
     ]
    },
    {
     "name": "stderr",
     "output_type": "stream",
     "text": [
      "[Parallel(n_jobs=1)]: Done   3 out of   3 | elapsed:  1.4min remaining:    0.0s\n"
     ]
    },
    {
     "name": "stdout",
     "output_type": "stream",
     "text": [
      "[CV]  n_estimators=600, min_samples_split=10, min_samples_leaf=4, max_features=sqrt, max_depth=90, bootstrap=False, score=-0.573, total=  56.7s\n",
      "[CV] n_estimators=600, min_samples_split=2, min_samples_leaf=2, max_features=auto, max_depth=60, bootstrap=False \n"
     ]
    },
    {
     "name": "stderr",
     "output_type": "stream",
     "text": [
      "[Parallel(n_jobs=1)]: Done   4 out of   4 | elapsed:  2.4min remaining:    0.0s\n"
     ]
    },
    {
     "name": "stdout",
     "output_type": "stream",
     "text": [
      "[CV]  n_estimators=600, min_samples_split=2, min_samples_leaf=2, max_features=auto, max_depth=60, bootstrap=False, score=-2.703, total= 3.6min\n",
      "[CV] n_estimators=600, min_samples_split=2, min_samples_leaf=2, max_features=auto, max_depth=60, bootstrap=False \n"
     ]
    },
    {
     "name": "stderr",
     "output_type": "stream",
     "text": [
      "[Parallel(n_jobs=1)]: Done   5 out of   5 | elapsed:  6.0min remaining:    0.0s\n"
     ]
    },
    {
     "name": "stdout",
     "output_type": "stream",
     "text": [
      "[CV]  n_estimators=600, min_samples_split=2, min_samples_leaf=2, max_features=auto, max_depth=60, bootstrap=False, score=-3.583, total= 3.7min\n",
      "[CV] n_estimators=1400, min_samples_split=5, min_samples_leaf=1, max_features=sqrt, max_depth=30, bootstrap=True \n"
     ]
    },
    {
     "name": "stderr",
     "output_type": "stream",
     "text": [
      "[Parallel(n_jobs=1)]: Done   6 out of   6 | elapsed:  9.7min remaining:    0.0s\n"
     ]
    },
    {
     "name": "stdout",
     "output_type": "stream",
     "text": [
      "[CV]  n_estimators=1400, min_samples_split=5, min_samples_leaf=1, max_features=sqrt, max_depth=30, bootstrap=True, score=-1.280, total= 1.9min\n",
      "[CV] n_estimators=1400, min_samples_split=5, min_samples_leaf=1, max_features=sqrt, max_depth=30, bootstrap=True \n"
     ]
    },
    {
     "name": "stderr",
     "output_type": "stream",
     "text": [
      "[Parallel(n_jobs=1)]: Done   7 out of   7 | elapsed: 11.6min remaining:    0.0s\n"
     ]
    },
    {
     "name": "stdout",
     "output_type": "stream",
     "text": [
      "[CV]  n_estimators=1400, min_samples_split=5, min_samples_leaf=1, max_features=sqrt, max_depth=30, bootstrap=True, score=-0.586, total= 1.9min\n",
      "[CV] n_estimators=1000, min_samples_split=10, min_samples_leaf=1, max_features=auto, max_depth=80, bootstrap=False \n"
     ]
    },
    {
     "name": "stderr",
     "output_type": "stream",
     "text": [
      "[Parallel(n_jobs=1)]: Done   8 out of   8 | elapsed: 13.5min remaining:    0.0s\n"
     ]
    },
    {
     "name": "stdout",
     "output_type": "stream",
     "text": [
      "[CV]  n_estimators=1000, min_samples_split=10, min_samples_leaf=1, max_features=auto, max_depth=80, bootstrap=False, score=-2.701, total= 5.5min\n",
      "[CV] n_estimators=1000, min_samples_split=10, min_samples_leaf=1, max_features=auto, max_depth=80, bootstrap=False \n"
     ]
    },
    {
     "name": "stderr",
     "output_type": "stream",
     "text": [
      "[Parallel(n_jobs=1)]: Done   9 out of   9 | elapsed: 18.9min remaining:    0.0s\n"
     ]
    },
    {
     "name": "stdout",
     "output_type": "stream",
     "text": [
      "[CV]  n_estimators=1000, min_samples_split=10, min_samples_leaf=1, max_features=auto, max_depth=80, bootstrap=False, score=-3.604, total= 5.6min\n"
     ]
    },
    {
     "name": "stderr",
     "output_type": "stream",
     "text": [
      "[Parallel(n_jobs=1)]: Done  10 out of  10 | elapsed: 24.6min finished\n"
     ]
    },
    {
     "data": {
      "text/plain": [
       "{'n_estimators': 600,\n",
       " 'min_samples_split': 10,\n",
       " 'min_samples_leaf': 4,\n",
       " 'max_features': 'sqrt',\n",
       " 'max_depth': 90,\n",
       " 'bootstrap': False}"
      ]
     },
     "execution_count": 59,
     "metadata": {
      "tags": []
     },
     "output_type": "execute_result"
    }
   ],
   "source": [
    "rf = RandomForestRegressor()\n",
    "rf_random = RandomizedSearchCV(estimator = rf,\n",
    "                               param_distributions = random_grid,\n",
    "                               cv=2,\n",
    "                               n_iter = 5,\n",
    "                               verbose=10,\n",
    "                               random_state=42)\n",
    "\n",
    "rf_random.fit(X, y)\n",
    "\n",
    "rf_random.best_params_"
   ]
  },
  {
   "cell_type": "code",
   "execution_count": null,
   "metadata": {
    "id": "LVZiXUbyU51S"
   },
   "outputs": [],
   "source": [
    "best_random = rf_random.best_estimator_\n",
    "preds=best_random.predict(x_val)"
   ]
  },
  {
   "cell_type": "code",
   "execution_count": null,
   "metadata": {
    "id": "cO2cz_IbU51U",
    "outputId": "c5e56637-7478-4b94-9992-baaa1fd388b2"
   },
   "outputs": [
    {
     "name": "stdout",
     "output_type": "stream",
     "text": [
      "5 folds의 개별 Neg MAE scores:  [-1946.19  -843.73 -1478.92 -1265.19 -1033.34]\n",
      "5 folds의 개별 RMAE scores:  [44.12 29.05 38.46 35.57 32.15]\n",
      "5 folds의 평균 RMAE : 35.867 \n"
     ]
    }
   ],
   "source": [
    "grid_rf = rf_random.best_estimator_\n",
    "scores=cross_val_score(grid_rf, X, y, scoring='neg_mean_absolute_error')\n",
    "rmae_scores=np.sqrt(-1*scores)\n",
    "avg_rmae=np.mean(rmae_scores)\n",
    "\n",
    "print('5 folds의 개별 Neg MAE scores: ',np.round(scores,2))\n",
    "print('5 folds의 개별 RMAE scores: ',np.round(rmae_scores,2))\n",
    "print('5 folds의 평균 RMAE : {0:.3f} '.format(avg_rmae))"
   ]
  },
  {
   "cell_type": "markdown",
   "metadata": {},
   "source": [
    "## dacon website test score\n",
    "\n",
    "Random Forest : 8.762309844\n",
    "\n",
    "Xgboost : 8.832182239"
   ]
  }
 ],
 "metadata": {
  "colab": {
   "name": "전력사용량_예측.ipynb",
   "provenance": [],
   "toc_visible": true
  },
  "kernelspec": {
   "display_name": "Python 3",
   "language": "python",
   "name": "python3"
  },
  "language_info": {
   "codemirror_mode": {
    "name": "ipython",
    "version": 3
   },
   "file_extension": ".py",
   "mimetype": "text/x-python",
   "name": "python",
   "nbconvert_exporter": "python",
   "pygments_lexer": "ipython3",
   "version": "3.8.10"
  },
  "varInspector": {
   "cols": {
    "lenName": 16,
    "lenType": 16,
    "lenVar": 40
   },
   "kernels_config": {
    "python": {
     "delete_cmd_postfix": "",
     "delete_cmd_prefix": "del ",
     "library": "var_list.py",
     "varRefreshCmd": "print(var_dic_list())"
    },
    "r": {
     "delete_cmd_postfix": ") ",
     "delete_cmd_prefix": "rm(",
     "library": "var_list.r",
     "varRefreshCmd": "cat(var_dic_list()) "
    }
   },
   "types_to_exclude": [
    "module",
    "function",
    "builtin_function_or_method",
    "instance",
    "_Feature"
   ],
   "window_display": false
  }
 },
 "nbformat": 4,
 "nbformat_minor": 1
}
