{
  "nbformat": 4,
  "nbformat_minor": 0,
  "metadata": {
    "colab": {
      "name": "HW02_20152410_배형준.ipynb",
      "provenance": [],
      "collapsed_sections": []
    },
    "kernelspec": {
      "name": "python3",
      "display_name": "Python 3"
    },
    "language_info": {
      "name": "python"
    }
  },
  "cells": [
    {
      "cell_type": "markdown",
      "metadata": {
        "id": "XOmvaAjZprP3"
      },
      "source": [
        "# Deep learning with Python\n",
        "\n",
        "# 03. Getting started with neural networks"
      ]
    },
    {
      "cell_type": "markdown",
      "metadata": {
        "id": "U4Qr0z2tp0WA"
      },
      "source": [
        "# 3.4 classifying movie reviews : IMDB 데이터셋\n",
        "\n",
        "영화 리뷰의 긍정, 부정 예측"
      ]
    },
    {
      "cell_type": "markdown",
      "metadata": {
        "id": "FegHol5Up18H"
      },
      "source": [
        "## 데이터 불러오기"
      ]
    },
    {
      "cell_type": "code",
      "metadata": {
        "colab": {
          "base_uri": "https://localhost:8080/",
          "height": 35
        },
        "id": "2wkbWTVmp3pE",
        "outputId": "69038628-18af-4468-a5a7-350f56d52245"
      },
      "source": [
        "import keras\n",
        "\n",
        "keras.__version__"
      ],
      "execution_count": 1,
      "outputs": [
        {
          "output_type": "execute_result",
          "data": {
            "application/vnd.google.colaboratory.intrinsic+json": {
              "type": "string"
            },
            "text/plain": [
              "'2.4.3'"
            ]
          },
          "metadata": {
            "tags": []
          },
          "execution_count": 1
        }
      ]
    },
    {
      "cell_type": "code",
      "metadata": {
        "colab": {
          "base_uri": "https://localhost:8080/",
          "height": 35
        },
        "id": "8DZsPBAwp35Y",
        "outputId": "e7a0e3ea-092b-4394-f238-0af03d0d20d8"
      },
      "source": [
        "import tensorflow as tf\n",
        "\n",
        "tf.__version__"
      ],
      "execution_count": 2,
      "outputs": [
        {
          "output_type": "execute_result",
          "data": {
            "application/vnd.google.colaboratory.intrinsic+json": {
              "type": "string"
            },
            "text/plain": [
              "'2.4.1'"
            ]
          },
          "metadata": {
            "tags": []
          },
          "execution_count": 2
        }
      ]
    },
    {
      "cell_type": "code",
      "metadata": {
        "id": "rd9OM0HYqdlx"
      },
      "source": [
        "import numpy as np\n",
        "import matplotlib\n",
        "import matplotlib.pyplot as plt"
      ],
      "execution_count": 3,
      "outputs": []
    },
    {
      "cell_type": "code",
      "metadata": {
        "colab": {
          "base_uri": "https://localhost:8080/"
        },
        "id": "XO43o-F3p38Y",
        "outputId": "a2477573-90a3-430d-8e37-825cd1711f05"
      },
      "source": [
        "from keras.datasets import imdb\n",
        "\n",
        "(train_data, train_labels), (test_data, test_labels) = imdb.load_data(num_words = 10000)"
      ],
      "execution_count": 4,
      "outputs": [
        {
          "output_type": "stream",
          "text": [
            "Downloading data from https://storage.googleapis.com/tensorflow/tf-keras-datasets/imdb.npz\n",
            "17465344/17464789 [==============================] - 0s 0us/step\n"
          ],
          "name": "stdout"
        },
        {
          "output_type": "stream",
          "text": [
            "<string>:6: VisibleDeprecationWarning: Creating an ndarray from ragged nested sequences (which is a list-or-tuple of lists-or-tuples-or ndarrays with different lengths or shapes) is deprecated. If you meant to do this, you must specify 'dtype=object' when creating the ndarray\n",
            "/usr/local/lib/python3.7/dist-packages/tensorflow/python/keras/datasets/imdb.py:159: VisibleDeprecationWarning: Creating an ndarray from ragged nested sequences (which is a list-or-tuple of lists-or-tuples-or ndarrays with different lengths or shapes) is deprecated. If you meant to do this, you must specify 'dtype=object' when creating the ndarray\n",
            "  x_train, y_train = np.array(xs[:idx]), np.array(labels[:idx])\n",
            "/usr/local/lib/python3.7/dist-packages/tensorflow/python/keras/datasets/imdb.py:160: VisibleDeprecationWarning: Creating an ndarray from ragged nested sequences (which is a list-or-tuple of lists-or-tuples-or ndarrays with different lengths or shapes) is deprecated. If you meant to do this, you must specify 'dtype=object' when creating the ndarray\n",
            "  x_test, y_test = np.array(xs[idx:]), np.array(labels[idx:])\n"
          ],
          "name": "stderr"
        }
      ]
    },
    {
      "cell_type": "code",
      "metadata": {
        "colab": {
          "base_uri": "https://localhost:8080/"
        },
        "id": "z9bk7_o0p3--",
        "outputId": "6b749f2b-8f64-4e83-c1de-5ae6ed29f33e"
      },
      "source": [
        "print(\"train data 0번째 데이터의 앞 10개 단어 : {}\".format(train_data[0][:10]))\n",
        "\n",
        "train_data_len = [len(element) for element in train_data[:10]]\n",
        "\n",
        "print(\"train data 0 ~ 9번째 데이터의 길이 : {}\".format(train_data_len))\n",
        "\n",
        "print(\"train labels 0 ~ 19번째 데이터 : {}\".format(train_labels[:20]))"
      ],
      "execution_count": 5,
      "outputs": [
        {
          "output_type": "stream",
          "text": [
            "train data 0번째 데이터의 앞 10개 단어 : [1, 14, 22, 16, 43, 530, 973, 1622, 1385, 65]\n",
            "train data 0 ~ 9번째 데이터의 길이 : [218, 189, 141, 550, 147, 43, 123, 562, 233, 130]\n",
            "train labels 0 ~ 19번째 데이터 : [1 0 0 1 0 0 1 0 1 0 1 0 0 0 0 0 1 1 0 1]\n"
          ],
          "name": "stdout"
        }
      ]
    },
    {
      "cell_type": "markdown",
      "metadata": {
        "id": "-WKFcH80qEGX"
      },
      "source": [
        "## 인덱스를 다시 단어로 변환  "
      ]
    },
    {
      "cell_type": "code",
      "metadata": {
        "colab": {
          "base_uri": "https://localhost:8080/"
        },
        "id": "BQV_GynGp4Bo",
        "outputId": "ab8cbcb1-9d1c-4158-eafd-4cbb24b096c1"
      },
      "source": [
        "word_index = imdb.get_word_index()\n",
        "\n",
        "list(word_index.items())[:10]"
      ],
      "execution_count": 6,
      "outputs": [
        {
          "output_type": "stream",
          "text": [
            "Downloading data from https://storage.googleapis.com/tensorflow/tf-keras-datasets/imdb_word_index.json\n",
            "1646592/1641221 [==============================] - 0s 0us/step\n"
          ],
          "name": "stdout"
        },
        {
          "output_type": "execute_result",
          "data": {
            "text/plain": [
              "[('fawn', 34701),\n",
              " ('tsukino', 52006),\n",
              " ('nunnery', 52007),\n",
              " ('sonja', 16816),\n",
              " ('vani', 63951),\n",
              " ('woods', 1408),\n",
              " ('spiders', 16115),\n",
              " ('hanging', 2345),\n",
              " ('woody', 2289),\n",
              " ('trawling', 52008)]"
            ]
          },
          "metadata": {
            "tags": []
          },
          "execution_count": 6
        }
      ]
    },
    {
      "cell_type": "code",
      "metadata": {
        "id": "qYBeRPb0p4Ec"
      },
      "source": [
        "# (단어, 숫자) 구조를 (숫자, 단어) 형태로 변환\n",
        "\n",
        "reversed_word_index = dict([(value, key) for (key, value) in word_index.items()])\n",
        "\n",
        "# 0 : 패딩, 1 : 문서 시작, 2 : 사전에 없음 (unknown token)을 위한 index\n",
        "decoded_review = ' '.join([reversed_word_index.get(i - 3, '?') for i in train_data[0]])\n",
        "\n",
        "# dictionary.get(key, key값이 없을때 출력할 값) : key값에 해당하는 value를 반환"
      ],
      "execution_count": 7,
      "outputs": []
    },
    {
      "cell_type": "code",
      "metadata": {
        "colab": {
          "base_uri": "https://localhost:8080/",
          "height": 125
        },
        "id": "e_mFz-Zpp4HA",
        "outputId": "b3d0e88c-2fd3-407a-89a9-b37212afb165"
      },
      "source": [
        "decoded_review"
      ],
      "execution_count": 8,
      "outputs": [
        {
          "output_type": "execute_result",
          "data": {
            "application/vnd.google.colaboratory.intrinsic+json": {
              "type": "string"
            },
            "text/plain": [
              "\"? this film was just brilliant casting location scenery story direction everyone's really suited the part they played and you could just imagine being there robert ? is an amazing actor and now the same being director ? father came from the same scottish island as myself so i loved the fact there was a real connection with this film the witty remarks throughout the film were great it was just brilliant so much that i bought the film as soon as it was released for ? and would recommend it to everyone to watch and the fly fishing was amazing really cried at the end it was so sad and you know what they say if you cry at a film it must have been good and this definitely was also ? to the two little boy's that played the ? of norman and paul they were just brilliant children are often left out of the ? list i think because the stars that play them all grown up are such a big profile for the whole film but these children are amazing and should be praised for what they have done don't you think the whole story was so lovely because it was true and was someone's life after all that was shared with us all\""
            ]
          },
          "metadata": {
            "tags": []
          },
          "execution_count": 8
        }
      ]
    },
    {
      "cell_type": "markdown",
      "metadata": {
        "id": "IFmcJwWRp4Jv"
      },
      "source": [
        "## 학습 데이터 준비"
      ]
    },
    {
      "cell_type": "code",
      "metadata": {
        "id": "cMFgWLBpp4Mn"
      },
      "source": [
        "def vectorize_sequences(sequences, dimension = 10000):\n",
        "    \"\"\"\n",
        "    원핫인코딩을 해주는 함수\n",
        "    [1, 3, 5] => [0, 1, 0, 1, 0, 1] 식으로 변환\n",
        "    \"\"\"\n",
        "    \n",
        "    result = np.zeros((len(sequences), dimension))\n",
        "    for i, sequence in enumerate(sequences):\n",
        "        result[i, sequence] = 1.\n",
        "\n",
        "    return result"
      ],
      "execution_count": 9,
      "outputs": []
    },
    {
      "cell_type": "code",
      "metadata": {
        "id": "1neXCPemp4aX"
      },
      "source": [
        "# 데이터셋 변환\n",
        "\n",
        "x_train = vectorize_sequences(train_data)\n",
        "x_test = vectorize_sequences(test_data)\n",
        "\n",
        "y_train = np.asarray(train_labels).astype('float32')\n",
        "y_test = np.asarray(test_labels).astype('float32')"
      ],
      "execution_count": 10,
      "outputs": []
    },
    {
      "cell_type": "code",
      "metadata": {
        "colab": {
          "base_uri": "https://localhost:8080/"
        },
        "id": "YJ9isOOcp5ZA",
        "outputId": "c6897374-b2c1-4d54-ccfb-70d62fb074c2"
      },
      "source": [
        "# x 데이터가 원핫인코딩 됐는지 shape로 확인\n",
        "\n",
        "x_train.shape, x_test.shape, y_train.shape, y_test.shape"
      ],
      "execution_count": 11,
      "outputs": [
        {
          "output_type": "execute_result",
          "data": {
            "text/plain": [
              "((25000, 10000), (25000, 10000), (25000,), (25000,))"
            ]
          },
          "metadata": {
            "tags": []
          },
          "execution_count": 11
        }
      ]
    },
    {
      "cell_type": "code",
      "metadata": {
        "colab": {
          "base_uri": "https://localhost:8080/"
        },
        "id": "U2U2spflp5dQ",
        "outputId": "43535d6e-df2f-4923-e79c-3855c7d65cc9"
      },
      "source": [
        "print(np.sum(x_train[0, :]))\n",
        "print(len(train_data[0]))\n",
        "\n",
        "# 중복되는 단어가 있어서 218개의 단어가 120개로 줄었나? : 정답!"
      ],
      "execution_count": 12,
      "outputs": [
        {
          "output_type": "stream",
          "text": [
            "120.0\n",
            "218\n"
          ],
          "name": "stdout"
        }
      ]
    },
    {
      "cell_type": "code",
      "metadata": {
        "colab": {
          "base_uri": "https://localhost:8080/"
        },
        "id": "kQTO1s_Jp5iS",
        "outputId": "12405e1e-2659-4cf9-86fb-4122229edd0b"
      },
      "source": [
        "# 결과 예시\n",
        "\n",
        "x_train[0, :]"
      ],
      "execution_count": 13,
      "outputs": [
        {
          "output_type": "execute_result",
          "data": {
            "text/plain": [
              "array([0., 1., 1., ..., 0., 0., 0.])"
            ]
          },
          "metadata": {
            "tags": []
          },
          "execution_count": 13
        }
      ]
    },
    {
      "cell_type": "code",
      "metadata": {
        "colab": {
          "base_uri": "https://localhost:8080/"
        },
        "id": "90AivUuDp5mv",
        "outputId": "33b808bb-0b01-491a-e93b-cbfdf6696033"
      },
      "source": [
        "# numpy 없이 고유한 값 가져와서 갯수 세기\n",
        "\n",
        "from collections import defaultdict\n",
        "\n",
        "# 새로운 key를 입력받았는데 값이 없다면 기본값이 0인 딕셔너리 numpy 없이 고유한 값 가져와서 갯수 세기\n",
        "\n",
        "count_dict = defaultdict(int)\n",
        "\n",
        "for value in train_data[0]:\n",
        "    count_dict[value] += 1\n",
        "\n",
        "# key의 개수와 value의 합으로 제대로 작동했는지 확인\n",
        "print(len(list(count_dict.keys())), sum(list(count_dict.values())))\n",
        "\n",
        "count_dict"
      ],
      "execution_count": 14,
      "outputs": [
        {
          "output_type": "stream",
          "text": [
            "120 218\n"
          ],
          "name": "stdout"
        },
        {
          "output_type": "execute_result",
          "data": {
            "text/plain": [
              "defaultdict(int,\n",
              "            {1: 1,\n",
              "             2: 6,\n",
              "             4: 15,\n",
              "             5: 9,\n",
              "             6: 3,\n",
              "             7: 2,\n",
              "             8: 3,\n",
              "             9: 1,\n",
              "             12: 6,\n",
              "             13: 3,\n",
              "             14: 3,\n",
              "             15: 4,\n",
              "             16: 11,\n",
              "             17: 3,\n",
              "             18: 3,\n",
              "             19: 2,\n",
              "             21: 1,\n",
              "             22: 6,\n",
              "             25: 4,\n",
              "             26: 3,\n",
              "             28: 2,\n",
              "             30: 1,\n",
              "             32: 3,\n",
              "             33: 2,\n",
              "             35: 1,\n",
              "             36: 4,\n",
              "             38: 4,\n",
              "             39: 1,\n",
              "             43: 4,\n",
              "             46: 1,\n",
              "             48: 1,\n",
              "             50: 2,\n",
              "             51: 2,\n",
              "             52: 1,\n",
              "             56: 1,\n",
              "             62: 1,\n",
              "             65: 2,\n",
              "             66: 2,\n",
              "             71: 2,\n",
              "             76: 1,\n",
              "             77: 1,\n",
              "             82: 1,\n",
              "             87: 1,\n",
              "             88: 2,\n",
              "             92: 1,\n",
              "             98: 1,\n",
              "             100: 1,\n",
              "             103: 1,\n",
              "             104: 2,\n",
              "             106: 1,\n",
              "             107: 1,\n",
              "             112: 2,\n",
              "             113: 1,\n",
              "             117: 1,\n",
              "             124: 1,\n",
              "             130: 1,\n",
              "             134: 1,\n",
              "             135: 1,\n",
              "             141: 1,\n",
              "             144: 1,\n",
              "             147: 1,\n",
              "             150: 1,\n",
              "             167: 1,\n",
              "             172: 2,\n",
              "             173: 1,\n",
              "             178: 1,\n",
              "             192: 1,\n",
              "             194: 1,\n",
              "             215: 1,\n",
              "             224: 1,\n",
              "             226: 2,\n",
              "             256: 2,\n",
              "             283: 1,\n",
              "             284: 1,\n",
              "             297: 1,\n",
              "             316: 1,\n",
              "             317: 1,\n",
              "             336: 1,\n",
              "             381: 1,\n",
              "             385: 1,\n",
              "             386: 1,\n",
              "             400: 1,\n",
              "             407: 1,\n",
              "             447: 1,\n",
              "             458: 1,\n",
              "             469: 1,\n",
              "             476: 2,\n",
              "             480: 3,\n",
              "             515: 1,\n",
              "             530: 3,\n",
              "             546: 1,\n",
              "             619: 1,\n",
              "             626: 1,\n",
              "             670: 1,\n",
              "             723: 1,\n",
              "             838: 1,\n",
              "             973: 1,\n",
              "             1029: 1,\n",
              "             1111: 1,\n",
              "             1247: 1,\n",
              "             1334: 1,\n",
              "             1385: 1,\n",
              "             1415: 1,\n",
              "             1622: 1,\n",
              "             1920: 1,\n",
              "             2025: 1,\n",
              "             2071: 1,\n",
              "             2223: 1,\n",
              "             3766: 1,\n",
              "             3785: 1,\n",
              "             3941: 1,\n",
              "             4468: 1,\n",
              "             4472: 1,\n",
              "             4536: 1,\n",
              "             4613: 1,\n",
              "             5244: 1,\n",
              "             5345: 1,\n",
              "             5535: 1,\n",
              "             5952: 1,\n",
              "             7486: 1})"
            ]
          },
          "metadata": {
            "tags": []
          },
          "execution_count": 14
        }
      ]
    },
    {
      "cell_type": "markdown",
      "metadata": {
        "id": "fOcdRnAmp5sQ"
      },
      "source": [
        "## 신경망 모델 만들기"
      ]
    },
    {
      "cell_type": "code",
      "metadata": {
        "id": "iicijmOYp5w_"
      },
      "source": [
        "from keras import models\n",
        "from keras import layers\n",
        "\n",
        "# 모델 구조 만들기\n",
        "model = models.Sequential()\n",
        "model.add(layers.Dense(32, activation = 'relu', input_shape = (10000, )))\n",
        "model.add(layers.Dense(16, activation = 'relu'))\n",
        "model.add(layers.Dense(1, activation = 'sigmoid')) # output이 이진분류이기 때문에 마지막 layer의 activation은 sigmoid\n",
        "\n",
        "# compile로 모델 학습 방법 결정\n",
        "model.compile(optimizer = 'rmsprop',\n",
        "              loss = 'binary_crossentropy',\n",
        "              metrics = ['accuracy'])"
      ],
      "execution_count": 15,
      "outputs": []
    },
    {
      "cell_type": "markdown",
      "metadata": {
        "id": "XPiunVa-p51U"
      },
      "source": [
        "이런식으로 클래스를 호출해서 매개변수를 변경하여 사용할 수도 있음\n",
        "\n",
        "=> 자신만의 최적화방법이나 손실함수, 성능측정지표를 개발하여 사용할 수 있다는 의미\n",
        "\n",
        "```\n",
        "from keras import optimizers\n",
        "from keras import losses\n",
        "from keras import metrics\n",
        "\n",
        "mode.compile(optimizer = optimizers.RMSprop(lr = 0.001),\n",
        "             loss = losses.binary_crossentropy,\n",
        "             metrics = [metrics.binary_accuracy])\n",
        "```"
      ]
    },
    {
      "cell_type": "markdown",
      "metadata": {
        "id": "H-Z6Iyh9p55Q"
      },
      "source": [
        "## 훈련 검증"
      ]
    },
    {
      "cell_type": "code",
      "metadata": {
        "id": "RI2HF9l8p595"
      },
      "source": [
        "# 학습용 데이터와 validation 데이터를 분리\n",
        "# 학습과정 내에서 validation을 평가하여 결과에 반영\n",
        "\n",
        "partial_x_train = x_train[:-5000]\n",
        "x_val = x_train[-5000:]\n",
        "\n",
        "partial_y_train = y_train[:-5000]\n",
        "y_val = y_train[-5000:]"
      ],
      "execution_count": 16,
      "outputs": []
    },
    {
      "cell_type": "code",
      "metadata": {
        "colab": {
          "base_uri": "https://localhost:8080/"
        },
        "id": "C9bp65NSp6CC",
        "outputId": "84076e94-2e5c-4797-c6a5-eed1526a74db"
      },
      "source": [
        "# 모델 학습\n",
        "\n",
        "tf.random.set_seed(20152410)\n",
        "\n",
        "history = model.fit(partial_x_train,\n",
        "                    partial_y_train,\n",
        "                    epochs = 20,\n",
        "                    batch_size = 512,\n",
        "                    validation_data = (x_val, y_val))"
      ],
      "execution_count": 17,
      "outputs": [
        {
          "output_type": "stream",
          "text": [
            "Epoch 1/20\n",
            "40/40 [==============================] - 3s 50ms/step - loss: 0.5414 - accuracy: 0.7376 - val_loss: 0.3275 - val_accuracy: 0.8784\n",
            "Epoch 2/20\n",
            "40/40 [==============================] - 1s 36ms/step - loss: 0.2577 - accuracy: 0.9130 - val_loss: 0.2878 - val_accuracy: 0.8888\n",
            "Epoch 3/20\n",
            "40/40 [==============================] - 1s 36ms/step - loss: 0.1932 - accuracy: 0.9325 - val_loss: 0.3194 - val_accuracy: 0.8746\n",
            "Epoch 4/20\n",
            "40/40 [==============================] - 1s 36ms/step - loss: 0.1556 - accuracy: 0.9483 - val_loss: 0.2836 - val_accuracy: 0.8938\n",
            "Epoch 5/20\n",
            "40/40 [==============================] - 1s 36ms/step - loss: 0.1218 - accuracy: 0.9600 - val_loss: 0.3192 - val_accuracy: 0.8798\n",
            "Epoch 6/20\n",
            "40/40 [==============================] - 1s 36ms/step - loss: 0.1023 - accuracy: 0.9680 - val_loss: 0.3199 - val_accuracy: 0.8872\n",
            "Epoch 7/20\n",
            "40/40 [==============================] - 1s 36ms/step - loss: 0.0844 - accuracy: 0.9734 - val_loss: 0.3603 - val_accuracy: 0.8838\n",
            "Epoch 8/20\n",
            "40/40 [==============================] - 1s 36ms/step - loss: 0.0707 - accuracy: 0.9775 - val_loss: 0.3988 - val_accuracy: 0.8816\n",
            "Epoch 9/20\n",
            "40/40 [==============================] - 1s 36ms/step - loss: 0.0598 - accuracy: 0.9821 - val_loss: 0.4544 - val_accuracy: 0.8730\n",
            "Epoch 10/20\n",
            "40/40 [==============================] - 1s 36ms/step - loss: 0.0500 - accuracy: 0.9862 - val_loss: 0.4546 - val_accuracy: 0.8734\n",
            "Epoch 11/20\n",
            "40/40 [==============================] - 1s 36ms/step - loss: 0.0368 - accuracy: 0.9901 - val_loss: 0.4989 - val_accuracy: 0.8770\n",
            "Epoch 12/20\n",
            "40/40 [==============================] - 1s 36ms/step - loss: 0.0286 - accuracy: 0.9925 - val_loss: 0.5257 - val_accuracy: 0.8662\n",
            "Epoch 13/20\n",
            "40/40 [==============================] - 1s 36ms/step - loss: 0.0236 - accuracy: 0.9951 - val_loss: 0.5490 - val_accuracy: 0.8686\n",
            "Epoch 14/20\n",
            "40/40 [==============================] - 1s 36ms/step - loss: 0.0218 - accuracy: 0.9944 - val_loss: 0.5823 - val_accuracy: 0.8710\n",
            "Epoch 15/20\n",
            "40/40 [==============================] - 1s 36ms/step - loss: 0.0151 - accuracy: 0.9967 - val_loss: 0.6277 - val_accuracy: 0.8736\n",
            "Epoch 16/20\n",
            "40/40 [==============================] - 1s 36ms/step - loss: 0.0112 - accuracy: 0.9978 - val_loss: 0.6627 - val_accuracy: 0.8702\n",
            "Epoch 17/20\n",
            "40/40 [==============================] - 1s 37ms/step - loss: 0.0081 - accuracy: 0.9989 - val_loss: 0.7027 - val_accuracy: 0.8686\n",
            "Epoch 18/20\n",
            "40/40 [==============================] - 1s 36ms/step - loss: 0.0083 - accuracy: 0.9979 - val_loss: 0.7976 - val_accuracy: 0.8650\n",
            "Epoch 19/20\n",
            "40/40 [==============================] - 1s 36ms/step - loss: 0.0057 - accuracy: 0.9991 - val_loss: 0.7862 - val_accuracy: 0.8670\n",
            "Epoch 20/20\n",
            "40/40 [==============================] - 1s 36ms/step - loss: 0.0024 - accuracy: 1.0000 - val_loss: 0.8656 - val_accuracy: 0.8646\n"
          ],
          "name": "stdout"
        }
      ]
    },
    {
      "cell_type": "markdown",
      "metadata": {
        "id": "KiDR_I2jp6GR"
      },
      "source": [
        "model.fit() 메서드는 history 객체를 반환\n",
        "\n",
        "history는 훈련하는 동안 발생한 모든 정보를 담고 있는 딕셔너리odel.fit() 메서드는 history 객체를 반환"
      ]
    },
    {
      "cell_type": "code",
      "metadata": {
        "colab": {
          "base_uri": "https://localhost:8080/"
        },
        "id": "CdAQs6uOp6LL",
        "outputId": "68946f74-ed4c-4fe2-913a-a17ee9a7eba8"
      },
      "source": [
        "# history.history의 keys 확인\n",
        "\n",
        "history.history.keys()"
      ],
      "execution_count": 18,
      "outputs": [
        {
          "output_type": "execute_result",
          "data": {
            "text/plain": [
              "dict_keys(['loss', 'accuracy', 'val_loss', 'val_accuracy'])"
            ]
          },
          "metadata": {
            "tags": []
          },
          "execution_count": 18
        }
      ]
    },
    {
      "cell_type": "code",
      "metadata": {
        "id": "4jZR5PAkp6P3"
      },
      "source": [
        "# 비용함수, 정확도 불러오기\n",
        "\n",
        "accuracy = history.history['accuracy']\n",
        "val_accuracy = history.history['val_accuracy']\n",
        "loss = history.history['loss']\n",
        "val_loss = history.history['val_loss']\n",
        "\n",
        "epochs = np.arange(1, len(accuracy) + 1)"
      ],
      "execution_count": 19,
      "outputs": []
    },
    {
      "cell_type": "code",
      "metadata": {
        "colab": {
          "base_uri": "https://localhost:8080/",
          "height": 297
        },
        "id": "tro1oj96p6T3",
        "outputId": "6c059604-7f91-43c5-eed7-3fc1f97006a6"
      },
      "source": [
        "# train loss, validation loss 그래프 확인\n",
        "\n",
        "plt.figure(figsize = (6, 4))\n",
        "plt.plot(epochs, loss, 'bo', label = \"train loss\")\n",
        "plt.plot(epochs, val_loss, 'ro', label = \"val loss\")\n",
        "\n",
        "plt.title(\"Train and Validation loss\", fontsize = 15)\n",
        "plt.xlabel(\"Epochs\")\n",
        "plt.ylabel('Loss')\n",
        "plt.legend()\n",
        "\n",
        "plt.tight_layout()\n",
        "plt.show()"
      ],
      "execution_count": 20,
      "outputs": [
        {
          "output_type": "display_data",
          "data": {
            "image/png": "[encoded data removed]",
            "text/plain": [
              "<Figure size 432x288 with 1 Axes>"
            ]
          },
          "metadata": {
            "tags": [],
            "needs_background": "light"
          }
        }
      ]
    },
    {
      "cell_type": "code",
      "metadata": {
        "colab": {
          "base_uri": "https://localhost:8080/",
          "height": 297
        },
        "id": "oGR8Pg8-p6YI",
        "outputId": "e7f724bd-62d1-4ae3-e5cc-0a5de9454ae3"
      },
      "source": [
        "# train accuracy, validation accuracy 그래프 확인\n",
        "\n",
        "plt.figure(figsize = (6, 4))\n",
        "plt.plot(epochs, accuracy, 'bo', label = \"train acc\")\n",
        "plt.plot(epochs, val_accuracy, 'ro', label = \"val acc\")\n",
        "\n",
        "plt.title(\"Train and Validation accuracy\", fontsize = 15)\n",
        "plt.xlabel(\"Epochs\")\n",
        "plt.ylabel('Accuracy')\n",
        "plt.legend()\n",
        "\n",
        "plt.tight_layout()\n",
        "plt.show()"
      ],
      "execution_count": 21,
      "outputs": [
        {
          "output_type": "display_data",
          "data": {
            "image/png": "[encoded data removed]",
            "text/plain": [
              "<Figure size 432x288 with 1 Axes>"
            ]
          },
          "metadata": {
            "tags": [],
            "needs_background": "light"
          }
        }
      ]
    },
    {
      "cell_type": "markdown",
      "metadata": {
        "id": "ITuQN-BXp6cz"
      },
      "source": [
        "train이 적당히 학습되고, validation accuracy가 높은 epochs = 4로 최종 모델을 학습하도록 하겠습니다. 최종 모델에선 25000개 데이터 전부 사용합니다."
      ]
    },
    {
      "cell_type": "markdown",
      "metadata": {
        "id": "3uFks1ebp6gT"
      },
      "source": [
        "## 최종 모델 만들기"
      ]
    },
    {
      "cell_type": "code",
      "metadata": {
        "id": "YxUJqq_Up6j4"
      },
      "source": [
        "# 모델 구조 만들기\n",
        "model = models.Sequential()\n",
        "model.add(layers.Dense(32, activation = 'relu', input_shape = (10000, )))\n",
        "model.add(layers.Dense(16, activation = 'relu'))\n",
        "model.add(layers.Dense(1, activation = 'sigmoid'))\n",
        "\n",
        "# compile로 모델 학습 방법 결정\n",
        "from keras import optimizers\n",
        "from keras import losses\n",
        "from keras import metrics\n",
        "\n",
        "model.compile(optimizer = optimizers.RMSprop(lr = 0.001),\n",
        "             loss = losses.binary_crossentropy,\n",
        "             metrics = [metrics.binary_accuracy])"
      ],
      "execution_count": 22,
      "outputs": []
    },
    {
      "cell_type": "code",
      "metadata": {
        "colab": {
          "base_uri": "https://localhost:8080/"
        },
        "id": "j-gNIa1Fp6om",
        "outputId": "a918fe7f-c088-404b-ebb1-f12f69b9a292"
      },
      "source": [
        "# 최종 모델 학습\n",
        "\n",
        "tf.random.set_seed(20152410)\n",
        "\n",
        "model.fit(x_train,\n",
        "          y_train,\n",
        "          epochs = 4,\n",
        "          batch_size = 512)"
      ],
      "execution_count": 23,
      "outputs": [
        {
          "output_type": "stream",
          "text": [
            "Epoch 1/4\n",
            "49/49 [==============================] - 2s 31ms/step - loss: 0.5324 - binary_accuracy: 0.7397\n",
            "Epoch 2/4\n",
            "49/49 [==============================] - 2s 31ms/step - loss: 0.2542 - binary_accuracy: 0.9107\n",
            "Epoch 3/4\n",
            "49/49 [==============================] - 2s 32ms/step - loss: 0.1889 - binary_accuracy: 0.9318\n",
            "Epoch 4/4\n",
            "49/49 [==============================] - 2s 31ms/step - loss: 0.1521 - binary_accuracy: 0.9469\n"
          ],
          "name": "stdout"
        },
        {
          "output_type": "execute_result",
          "data": {
            "text/plain": [
              "<tensorflow.python.keras.callbacks.History at 0x7f4f5037f290>"
            ]
          },
          "metadata": {
            "tags": []
          },
          "execution_count": 23
        }
      ]
    },
    {
      "cell_type": "code",
      "metadata": {
        "colab": {
          "base_uri": "https://localhost:8080/"
        },
        "id": "rlHIHBvgp6ro",
        "outputId": "74aedcf5-8721-4927-e305-badb340eef8e"
      },
      "source": [
        "# predict 메서드를 이용하여 예측값 생성\n",
        "\n",
        "model.predict(x_test[:10])"
      ],
      "execution_count": 24,
      "outputs": [
        {
          "output_type": "execute_result",
          "data": {
            "text/plain": [
              "array([[0.1664933 ],\n",
              "       [0.9999447 ],\n",
              "       [0.9256869 ],\n",
              "       [0.8653803 ],\n",
              "       [0.9662573 ],\n",
              "       [0.89047   ],\n",
              "       [0.99978614],\n",
              "       [0.00813586],\n",
              "       [0.9742776 ],\n",
              "       [0.9969731 ]], dtype=float32)"
            ]
          },
          "metadata": {
            "tags": []
          },
          "execution_count": 24
        }
      ]
    },
    {
      "cell_type": "code",
      "metadata": {
        "colab": {
          "base_uri": "https://localhost:8080/"
        },
        "id": "8kUSbMvBp6va",
        "outputId": "b0afc72f-6279-4ef8-c981-05323928414f"
      },
      "source": [
        "# evaluate 메서드를 활용하여 test 데이터에 대한 성능 측정\n",
        "\n",
        "result = model.evaluate(x_test, y_test)\n",
        "\n",
        "print(\"Test loss : {}, Test accuracy : {}\".format(result[0], result[1]))"
      ],
      "execution_count": 25,
      "outputs": [
        {
          "output_type": "stream",
          "text": [
            "782/782 [==============================] - 2s 2ms/step - loss: 0.3043 - binary_accuracy: 0.8812\n",
            "Test loss : 0.3043091893196106, Test accuracy : 0.8812400102615356\n"
          ],
          "name": "stdout"
        }
      ]
    },
    {
      "cell_type": "markdown",
      "metadata": {
        "id": "cQ3dGZTMp6zX"
      },
      "source": [
        "최종 모델의 테스트 정확도는 약 88%\n",
        "\n",
        "layer의 개수를 추가한다거나, layer의 node 수를 변경한다는 등 모델의 구조를 바꿔 성능을 높힐 수 있다!"
      ]
    },
    {
      "cell_type": "markdown",
      "metadata": {
        "id": "ge3nVxUlp62-"
      },
      "source": [
        "# 3.5 다중 분류 문제 : 로이터 데이터셋을 이용한 뉴스 기사 분류"
      ]
    },
    {
      "cell_type": "markdown",
      "metadata": {
        "id": "TXD-tpZjp67B"
      },
      "source": [
        "## 데이터 불러오기"
      ]
    },
    {
      "cell_type": "code",
      "metadata": {
        "colab": {
          "base_uri": "https://localhost:8080/"
        },
        "id": "_L-av882p6_u",
        "outputId": "fd2b7636-1465-47bc-eb49-2725e339bfb6"
      },
      "source": [
        "# 데이터 다운로드\n",
        "\n",
        "from keras.datasets import reuters\n",
        "\n",
        "(train_data, train_labels), (test_data, test_labels) = reuters.load_data(num_words = 10000)"
      ],
      "execution_count": 26,
      "outputs": [
        {
          "output_type": "stream",
          "text": [
            "Downloading data from https://storage.googleapis.com/tensorflow/tf-keras-datasets/reuters.npz\n",
            "2113536/2110848 [==============================] - 0s 0us/step\n"
          ],
          "name": "stdout"
        },
        {
          "output_type": "stream",
          "text": [
            "/usr/local/lib/python3.7/dist-packages/tensorflow/python/keras/datasets/reuters.py:148: VisibleDeprecationWarning: Creating an ndarray from ragged nested sequences (which is a list-or-tuple of lists-or-tuples-or ndarrays with different lengths or shapes) is deprecated. If you meant to do this, you must specify 'dtype=object' when creating the ndarray\n",
            "  x_train, y_train = np.array(xs[:idx]), np.array(labels[:idx])\n",
            "/usr/local/lib/python3.7/dist-packages/tensorflow/python/keras/datasets/reuters.py:149: VisibleDeprecationWarning: Creating an ndarray from ragged nested sequences (which is a list-or-tuple of lists-or-tuples-or ndarrays with different lengths or shapes) is deprecated. If you meant to do this, you must specify 'dtype=object' when creating the ndarray\n",
            "  x_test, y_test = np.array(xs[idx:]), np.array(labels[idx:])\n"
          ],
          "name": "stderr"
        }
      ]
    },
    {
      "cell_type": "markdown",
      "metadata": {
        "id": "vnneytBLq89P"
      },
      "source": [
        "이번에도 빈도수가 높은 단어 10000개만 사용"
      ]
    },
    {
      "cell_type": "code",
      "metadata": {
        "colab": {
          "base_uri": "https://localhost:8080/"
        },
        "id": "ku9v9hnLp7DX",
        "outputId": "dc2a002b-a2e5-4390-9cf0-940b3eca35b9"
      },
      "source": [
        "# 데이터 형태 확인\n",
        "\n",
        "print(\"train data shape :\", train_data.shape)\n",
        "print(\"train labels shape :\", train_labels.shape)\n",
        "print(\"test data shape :\", test_data.shape)\n",
        "print(\"test labels shape :\", test_labels.shape)"
      ],
      "execution_count": 27,
      "outputs": [
        {
          "output_type": "stream",
          "text": [
            "train data shape : (8982,)\n",
            "train labels shape : (8982,)\n",
            "test data shape : (2246,)\n",
            "test labels shape : (2246,)\n"
          ],
          "name": "stdout"
        }
      ]
    },
    {
      "cell_type": "code",
      "metadata": {
        "colab": {
          "base_uri": "https://localhost:8080/"
        },
        "id": "7LMJm8ULp7Gu",
        "outputId": "d84742c1-e258-406b-9721-f5e169390246"
      },
      "source": [
        "# data의 예시 데이터 출력\n",
        "# 1차원 array인데 각 원소가 list인 train_data\n",
        "\n",
        "train_data[0:2]"
      ],
      "execution_count": 28,
      "outputs": [
        {
          "output_type": "execute_result",
          "data": {
            "text/plain": [
              "array([list([1, 2, 2, 8, 43, 10, 447, 5, 25, 207, 270, 5, 3095, 111, 16, 369, 186, 90, 67, 7, 89, 5, 19, 102, 6, 19, 124, 15, 90, 67, 84, 22, 482, 26, 7, 48, 4, 49, 8, 864, 39, 209, 154, 6, 151, 6, 83, 11, 15, 22, 155, 11, 15, 7, 48, 9, 4579, 1005, 504, 6, 258, 6, 272, 11, 15, 22, 134, 44, 11, 15, 16, 8, 197, 1245, 90, 67, 52, 29, 209, 30, 32, 132, 6, 109, 15, 17, 12]),\n",
              "       list([1, 3267, 699, 3434, 2295, 56, 2, 7511, 9, 56, 3906, 1073, 81, 5, 1198, 57, 366, 737, 132, 20, 4093, 7, 2, 49, 2295, 2, 1037, 3267, 699, 3434, 8, 7, 10, 241, 16, 855, 129, 231, 783, 5, 4, 587, 2295, 2, 2, 775, 7, 48, 34, 191, 44, 35, 1795, 505, 17, 12])],\n",
              "      dtype=object)"
            ]
          },
          "metadata": {
            "tags": []
          },
          "execution_count": 28
        }
      ]
    },
    {
      "cell_type": "code",
      "metadata": {
        "colab": {
          "base_uri": "https://localhost:8080/"
        },
        "id": "Tclj_69yp7Kx",
        "outputId": "4a82a5c8-d8ef-45a9-d9f4-121e23b6b692"
      },
      "source": [
        "# 디코딩해서 정수 인덱스를 다시 단어로 변환\n",
        "\n",
        "word_index = reuters.get_word_index()\n",
        "reversed_word_index = dict([(value, key) for (key, value) in word_index.items()])\n",
        "\n",
        "# 제외해야하는 토큰 : 0 - 패딩, 1 - 문서 시작, 2 - 사전에 없음\n",
        "\n",
        "decoded_newswire_0 = ' '.join([reversed_word_index.get(i - 3, '?') for i in train_data[0]])"
      ],
      "execution_count": 29,
      "outputs": [
        {
          "output_type": "stream",
          "text": [
            "Downloading data from https://storage.googleapis.com/tensorflow/tf-keras-datasets/reuters_word_index.json\n",
            "557056/550378 [==============================] - 0s 0us/step\n"
          ],
          "name": "stdout"
        }
      ]
    },
    {
      "cell_type": "code",
      "metadata": {
        "colab": {
          "base_uri": "https://localhost:8080/",
          "height": 71
        },
        "id": "RdTPGUEZp7OY",
        "outputId": "7e4981a0-aaae-43e5-da65-babbc5c778d1"
      },
      "source": [
        "decoded_newswire_0"
      ],
      "execution_count": 30,
      "outputs": [
        {
          "output_type": "execute_result",
          "data": {
            "application/vnd.google.colaboratory.intrinsic+json": {
              "type": "string"
            },
            "text/plain": [
              "'? ? ? said as a result of its december acquisition of space co it expects earnings per share in 1987 of 1 15 to 1 30 dlrs per share up from 70 cts in 1986 the company said pretax net should rise to nine to 10 mln dlrs from six mln dlrs in 1986 and rental operation revenues to 19 to 22 mln dlrs from 12 5 mln dlrs it said cash flow per share this year should be 2 50 to three dlrs reuter 3'"
            ]
          },
          "metadata": {
            "tags": []
          },
          "execution_count": 30
        }
      ]
    },
    {
      "cell_type": "code",
      "metadata": {
        "colab": {
          "base_uri": "https://localhost:8080/"
        },
        "id": "EwUfUnMOp7Sa",
        "outputId": "707d3ebb-d16a-4dac-94eb-7e15b9fd7bfc"
      },
      "source": [
        "# labels의 예시 데이터 출력\n",
        "\n",
        "train_labels[:10]"
      ],
      "execution_count": 31,
      "outputs": [
        {
          "output_type": "execute_result",
          "data": {
            "text/plain": [
              "array([ 3,  4,  3,  4,  4,  4,  4,  3,  3, 16])"
            ]
          },
          "metadata": {
            "tags": []
          },
          "execution_count": 31
        }
      ]
    },
    {
      "cell_type": "markdown",
      "metadata": {
        "id": "gch-6BDfrCT1"
      },
      "source": [
        "## 데이터 준비\n",
        "\n",
        "원래 텍스트 데이터는 원핫인코딩도 순서를 고려하는 것으로 알고 있는데 책 초반의 예제라 그런지 순서는 고려하지 않는 듯\n",
        "\n",
        "- 원핫 인코딩 예시\n",
        "\n",
        "[1, 3, 5] => [0, 1, 0, 1, 0, 1]\n",
        "\n",
        "- 순서를 고려한 원핫 인코딩 예시\n",
        "\n",
        "[1, 3, 5] => [[0, 1, 0, 0, 0, 0], [0, 0, 0, 1, 0, 0], [0, 0, 0, 0, 0, 1]]"
      ]
    },
    {
      "cell_type": "code",
      "metadata": {
        "id": "pLgPcQzRp7Wo"
      },
      "source": [
        "# 원핫인코딩\n",
        "\n",
        "import numpy as np\n",
        "\n",
        "def onehotencoding(sequences, dimension):\n",
        "    \n",
        "    result = np.zeros((len(sequences), dimension))\n",
        "    for i, sequence in enumerate(sequences):\n",
        "        result[i, sequence] = 1.\n",
        "\n",
        "    return result"
      ],
      "execution_count": 32,
      "outputs": []
    },
    {
      "cell_type": "code",
      "metadata": {
        "id": "hIVY8U2Rp7a0"
      },
      "source": [
        "# train과 test의 학습용 데이터 생성\n",
        "\n",
        "onehot_x_train = onehotencoding(train_data, dimension = 10000)\n",
        "onehot_x_test = onehotencoding(test_data, dimension = 10000)\n",
        "\n",
        "onehot_y_train = onehotencoding(train_labels, dimension = 46)\n",
        "onehot_y_test = onehotencoding(test_labels, dimension = 46)"
      ],
      "execution_count": 33,
      "outputs": []
    },
    {
      "cell_type": "code",
      "metadata": {
        "id": "XwzcpoTGp7ec"
      },
      "source": [
        "# 케라스의 내장 함수를 이용하는 방법도 있음\n",
        "\n",
        "from keras.utils.np_utils import to_categorical"
      ],
      "execution_count": 34,
      "outputs": []
    },
    {
      "cell_type": "markdown",
      "metadata": {
        "id": "VQOEJeVprIMl"
      },
      "source": [
        "## 데이터 홀드아웃 및 모델 학습"
      ]
    },
    {
      "cell_type": "code",
      "metadata": {
        "id": "eZO6ZbXzp7jD"
      },
      "source": [
        "from keras import models\n",
        "from keras import layers\n",
        "\n",
        "def build_model():\n",
        "\n",
        "    model = models.Sequential()\n",
        "    model.add(layers.Dense(128, activation = 'relu', input_shape = (10000, )))\n",
        "    model.add(layers.Dense(64, activation = 'relu'))\n",
        "    model.add(layers.Dense(46, activation = 'softmax'))\n",
        "    # 다중분류 문제에서 마지막 layer의 activation은 softmax로 지정\n",
        "\n",
        "    model.compile(optimizer = 'rmsprop',\n",
        "                  loss = 'categorical_crossentropy',\n",
        "                  metrics = ['accuracy'])\n",
        "    \n",
        "    return model"
      ],
      "execution_count": 35,
      "outputs": []
    },
    {
      "cell_type": "code",
      "metadata": {
        "id": "jms4dnaqp7mD"
      },
      "source": [
        "# train 데이터를 train과 validation으로 분할\n",
        "\n",
        "x_train = onehot_x_train[:-1000]\n",
        "x_val = onehot_x_train[-1000:]\n",
        "\n",
        "y_train = onehot_y_train[:-1000]\n",
        "y_val = onehot_y_train[-1000:]\n",
        "\n",
        "# 모델 객체 생성\n",
        "\n",
        "model_train = build_model()"
      ],
      "execution_count": 36,
      "outputs": []
    },
    {
      "cell_type": "code",
      "metadata": {
        "colab": {
          "base_uri": "https://localhost:8080/"
        },
        "id": "7pIc7xKnp7qO",
        "outputId": "89cd3873-1045-4468-ecce-92fd225085f9"
      },
      "source": [
        "import tensorflow as tf\n",
        "\n",
        "tf.random.set_seed(20152410)\n",
        "\n",
        "history = model_train.fit(x_train,\n",
        "                          y_train,\n",
        "                          epochs = 20,\n",
        "                          batch_size = 512,\n",
        "                          validation_data = (x_val, y_val))"
      ],
      "execution_count": 37,
      "outputs": [
        {
          "output_type": "stream",
          "text": [
            "Epoch 1/20\n",
            "16/16 [==============================] - 2s 90ms/step - loss: 2.8847 - accuracy: 0.3876 - val_loss: 1.5429 - val_accuracy: 0.7180\n",
            "Epoch 2/20\n",
            "16/16 [==============================] - 1s 75ms/step - loss: 1.2535 - accuracy: 0.7511 - val_loss: 1.2405 - val_accuracy: 0.7470\n",
            "Epoch 3/20\n",
            "16/16 [==============================] - 1s 76ms/step - loss: 0.8550 - accuracy: 0.8268 - val_loss: 1.1012 - val_accuracy: 0.7740\n",
            "Epoch 4/20\n",
            "16/16 [==============================] - 1s 76ms/step - loss: 0.6159 - accuracy: 0.8754 - val_loss: 1.0383 - val_accuracy: 0.7870\n",
            "Epoch 5/20\n",
            "16/16 [==============================] - 1s 75ms/step - loss: 0.4646 - accuracy: 0.9024 - val_loss: 0.9836 - val_accuracy: 0.7890\n",
            "Epoch 6/20\n",
            "16/16 [==============================] - 1s 75ms/step - loss: 0.3394 - accuracy: 0.9312 - val_loss: 0.9620 - val_accuracy: 0.7940\n",
            "Epoch 7/20\n",
            "16/16 [==============================] - 1s 75ms/step - loss: 0.2740 - accuracy: 0.9421 - val_loss: 0.9732 - val_accuracy: 0.7870\n",
            "Epoch 8/20\n",
            "16/16 [==============================] - 1s 78ms/step - loss: 0.2110 - accuracy: 0.9532 - val_loss: 1.0361 - val_accuracy: 0.7740\n",
            "Epoch 9/20\n",
            "16/16 [==============================] - 1s 74ms/step - loss: 0.1855 - accuracy: 0.9555 - val_loss: 0.9840 - val_accuracy: 0.8030\n",
            "Epoch 10/20\n",
            "16/16 [==============================] - 1s 74ms/step - loss: 0.1552 - accuracy: 0.9604 - val_loss: 1.0283 - val_accuracy: 0.7950\n",
            "Epoch 11/20\n",
            "16/16 [==============================] - 1s 75ms/step - loss: 0.1375 - accuracy: 0.9628 - val_loss: 1.0795 - val_accuracy: 0.8020\n",
            "Epoch 12/20\n",
            "16/16 [==============================] - 1s 76ms/step - loss: 0.1330 - accuracy: 0.9608 - val_loss: 1.0602 - val_accuracy: 0.7890\n",
            "Epoch 13/20\n",
            "16/16 [==============================] - 1s 78ms/step - loss: 0.1232 - accuracy: 0.9631 - val_loss: 1.1264 - val_accuracy: 0.7960\n",
            "Epoch 14/20\n",
            "16/16 [==============================] - 1s 76ms/step - loss: 0.1181 - accuracy: 0.9617 - val_loss: 1.1617 - val_accuracy: 0.7830\n",
            "Epoch 15/20\n",
            "16/16 [==============================] - 1s 75ms/step - loss: 0.1049 - accuracy: 0.9628 - val_loss: 1.2421 - val_accuracy: 0.7660\n",
            "Epoch 16/20\n",
            "16/16 [==============================] - 1s 76ms/step - loss: 0.0972 - accuracy: 0.9679 - val_loss: 1.3345 - val_accuracy: 0.7590\n",
            "Epoch 17/20\n",
            "16/16 [==============================] - 1s 78ms/step - loss: 0.1066 - accuracy: 0.9628 - val_loss: 1.2801 - val_accuracy: 0.7780\n",
            "Epoch 18/20\n",
            "16/16 [==============================] - 1s 77ms/step - loss: 0.1049 - accuracy: 0.9607 - val_loss: 1.2507 - val_accuracy: 0.7850\n",
            "Epoch 19/20\n",
            "16/16 [==============================] - 1s 77ms/step - loss: 0.0932 - accuracy: 0.9662 - val_loss: 1.1979 - val_accuracy: 0.7950\n",
            "Epoch 20/20\n",
            "16/16 [==============================] - 1s 76ms/step - loss: 0.0931 - accuracy: 0.9621 - val_loss: 1.2957 - val_accuracy: 0.7830\n"
          ],
          "name": "stdout"
        }
      ]
    },
    {
      "cell_type": "code",
      "metadata": {
        "id": "mnMuSk8Qp7tT"
      },
      "source": [
        "loss = history.history['loss']\n",
        "val_loss = history.history['val_loss']\n",
        "\n",
        "accuracy = history.history['accuracy']\n",
        "val_accuracy = history.history['val_accuracy']\n",
        "\n",
        "epochs = list(range(1, len(loss) + 1))"
      ],
      "execution_count": 38,
      "outputs": []
    },
    {
      "cell_type": "code",
      "metadata": {
        "colab": {
          "base_uri": "https://localhost:8080/",
          "height": 297
        },
        "id": "u7lQYZdfp7xh",
        "outputId": "cfc6faa5-c396-40ed-f384-4a3cb1d80690"
      },
      "source": [
        "# train loss, validation loss 그래프 확인\n",
        "\n",
        "plt.figure(figsize = (6, 4))\n",
        "plt.plot(epochs, loss, 'bo', label = \"train loss\")\n",
        "plt.plot(epochs, val_loss, 'ro', label = \"val loss\")\n",
        "\n",
        "plt.title(\"Train and Validation loss\", fontsize = 15)\n",
        "plt.xlabel(\"Epochs\")\n",
        "plt.ylabel('Loss')\n",
        "plt.legend()\n",
        "\n",
        "plt.tight_layout()\n",
        "plt.show()"
      ],
      "execution_count": 39,
      "outputs": [
        {
          "output_type": "display_data",
          "data": {
            "image/png": "[encoded data removed]",
            "text/plain": [
              "<Figure size 432x288 with 1 Axes>"
            ]
          },
          "metadata": {
            "tags": [],
            "needs_background": "light"
          }
        }
      ]
    },
    {
      "cell_type": "code",
      "metadata": {
        "colab": {
          "base_uri": "https://localhost:8080/",
          "height": 297
        },
        "id": "Gy6faTT_p71S",
        "outputId": "4c45484d-402f-45f3-b72f-75790eb6223b"
      },
      "source": [
        "# train accuracy, validation accuracy 그래프 확인\n",
        "\n",
        "plt.figure(figsize = (6, 4))\n",
        "plt.plot(epochs, accuracy, 'bo', label = \"train acc\")\n",
        "plt.plot(epochs, val_accuracy, 'ro', label = \"val acc\")\n",
        "\n",
        "plt.title(\"Train and Validation accuracy\", fontsize = 15)\n",
        "plt.xlabel(\"Epochs\")\n",
        "plt.ylabel('Accuracy')\n",
        "plt.legend()\n",
        "\n",
        "plt.tight_layout()\n",
        "plt.show()"
      ],
      "execution_count": 40,
      "outputs": [
        {
          "output_type": "display_data",
          "data": {
            "image/png": "[encoded data removed]",
            "text/plain": [
              "<Figure size 432x288 with 1 Axes>"
            ]
          },
          "metadata": {
            "tags": [],
            "needs_background": "light"
          }
        }
      ]
    },
    {
      "cell_type": "code",
      "metadata": {
        "colab": {
          "base_uri": "https://localhost:8080/"
        },
        "id": "V-WPlEutp74K",
        "outputId": "38010c5b-25b5-43b8-ea34-87040139aaa5"
      },
      "source": [
        "print(\"validation loss가 가장 낮았던 시점 : {}\".format(np.argmin(val_loss)))\n",
        "print(\"validation accuracy가 가장 높았던 시점 : {}\".format(np.argmax(val_accuracy)))\n",
        "\n",
        "print(\"validation loss의 최솟값 : {}\".format(np.min(val_loss)))\n",
        "print(\"validation accuracy의 최댓값 : {}\".format(np.max(val_accuracy)))"
      ],
      "execution_count": 41,
      "outputs": [
        {
          "output_type": "stream",
          "text": [
            "validation loss가 가장 낮았던 시점 : 5\n",
            "validation accuracy가 가장 높았던 시점 : 8\n",
            "validation loss의 최솟값 : 0.9619527459144592\n",
            "validation accuracy의 최댓값 : 0.8029999732971191\n"
          ],
          "name": "stdout"
        }
      ]
    },
    {
      "cell_type": "markdown",
      "metadata": {
        "id": "ldkX_4Lzp78X"
      },
      "source": [
        "validation accuracy가 약 80%로 가장 높았던 epochs = 8로 최종 모델을 학습하도록 하겠습니다."
      ]
    },
    {
      "cell_type": "markdown",
      "metadata": {
        "id": "JmXD_4-Op7_5"
      },
      "source": [
        "## 최종 모델 학습"
      ]
    },
    {
      "cell_type": "code",
      "metadata": {
        "id": "ij8RV_Igp8Dy"
      },
      "source": [
        "model_final = build_model()"
      ],
      "execution_count": 42,
      "outputs": []
    },
    {
      "cell_type": "markdown",
      "metadata": {
        "id": "9lQ-ouqZrUN8"
      },
      "source": [
        "train과 validation을 합쳐서 모델을 학습한 뒤 test 데이터로 성능을 평가해보도록 하겠습니다."
      ]
    },
    {
      "cell_type": "code",
      "metadata": {
        "colab": {
          "base_uri": "https://localhost:8080/"
        },
        "id": "xxZEzFAep8Gp",
        "outputId": "f8668718-f273-478d-f1a5-43eefd3e0e36"
      },
      "source": [
        "model_final.fit(onehot_x_train,\n",
        "                onehot_y_train,\n",
        "                epochs = 8,\n",
        "                batch_size = 512)"
      ],
      "execution_count": 43,
      "outputs": [
        {
          "output_type": "stream",
          "text": [
            "Epoch 1/8\n",
            "18/18 [==============================] - 2s 72ms/step - loss: 2.7987 - accuracy: 0.4191\n",
            "Epoch 2/8\n",
            "18/18 [==============================] - 1s 70ms/step - loss: 1.1529 - accuracy: 0.7694\n",
            "Epoch 3/8\n",
            "18/18 [==============================] - 1s 69ms/step - loss: 0.8191 - accuracy: 0.8316\n",
            "Epoch 4/8\n",
            "18/18 [==============================] - 1s 69ms/step - loss: 0.6017 - accuracy: 0.8797\n",
            "Epoch 5/8\n",
            "18/18 [==============================] - 1s 68ms/step - loss: 0.4524 - accuracy: 0.9056\n",
            "Epoch 6/8\n",
            "18/18 [==============================] - 1s 70ms/step - loss: 0.3282 - accuracy: 0.9301\n",
            "Epoch 7/8\n",
            "18/18 [==============================] - 1s 68ms/step - loss: 0.2453 - accuracy: 0.9482\n",
            "Epoch 8/8\n",
            "18/18 [==============================] - 1s 68ms/step - loss: 0.2170 - accuracy: 0.9469\n"
          ],
          "name": "stdout"
        },
        {
          "output_type": "execute_result",
          "data": {
            "text/plain": [
              "<tensorflow.python.keras.callbacks.History at 0x7f4f55322250>"
            ]
          },
          "metadata": {
            "tags": []
          },
          "execution_count": 43
        }
      ]
    },
    {
      "cell_type": "code",
      "metadata": {
        "colab": {
          "base_uri": "https://localhost:8080/"
        },
        "id": "U-9joHWmp8Lk",
        "outputId": "197cb9dd-0a81-4d8a-8694-dea61b58b517"
      },
      "source": [
        "result = model_final.evaluate(onehot_x_test, onehot_y_test)"
      ],
      "execution_count": 44,
      "outputs": [
        {
          "output_type": "stream",
          "text": [
            "71/71 [==============================] - 0s 3ms/step - loss: 0.9748 - accuracy: 0.7961\n"
          ],
          "name": "stdout"
        }
      ]
    },
    {
      "cell_type": "code",
      "metadata": {
        "colab": {
          "base_uri": "https://localhost:8080/"
        },
        "id": "laSdtLcbp4df",
        "outputId": "8407356b-c7a8-4729-f4ff-99701149de33"
      },
      "source": [
        "print(\"최종 모델의 loss : {}\".format(result[0]))\n",
        "print(\"최종 모델의 accuracy : {}%\".format(round(100*result[1], 2)))"
      ],
      "execution_count": 45,
      "outputs": [
        {
          "output_type": "stream",
          "text": [
            "최종 모델의 loss : 0.9747899174690247\n",
            "최종 모델의 accuracy : 79.61%\n"
          ],
          "name": "stdout"
        }
      ]
    },
    {
      "cell_type": "markdown",
      "metadata": {
        "id": "bxZxmMkpp4gp"
      },
      "source": [
        "## 새로운 데이터에 대해 예측하기"
      ]
    },
    {
      "cell_type": "code",
      "metadata": {
        "id": "3xu3lTn3p4jp"
      },
      "source": [
        "pred_test = model_final.predict(onehot_x_test)"
      ],
      "execution_count": 46,
      "outputs": []
    },
    {
      "cell_type": "code",
      "metadata": {
        "colab": {
          "base_uri": "https://localhost:8080/"
        },
        "id": "NSMnnpLCp4ne",
        "outputId": "710f0d54-1085-4bfc-8e1f-e8a92fd7e8ca"
      },
      "source": [
        "pred_test[0]"
      ],
      "execution_count": 47,
      "outputs": [
        {
          "output_type": "execute_result",
          "data": {
            "text/plain": [
              "array([4.07958723e-05, 6.10449424e-05, 5.00613578e-06, 9.41546917e-01,\n",
              "       4.96349037e-02, 1.65864898e-04, 4.54346737e-05, 1.96495671e-06,\n",
              "       3.22761014e-03, 4.95151580e-05, 4.41499542e-05, 1.02497113e-03,\n",
              "       7.96587046e-05, 3.54250442e-05, 8.86256385e-06, 1.30036278e-05,\n",
              "       3.45726410e-04, 1.23452788e-04, 7.18744468e-06, 1.27397897e-03,\n",
              "       4.70250903e-04, 1.93189728e-04, 5.89020674e-05, 2.92513141e-04,\n",
              "       6.24473296e-06, 7.84231888e-05, 1.35352448e-05, 2.07525281e-05,\n",
              "       1.91042545e-05, 4.84869270e-05, 1.33024267e-04, 1.26383939e-05,\n",
              "       2.80006316e-06, 1.00433945e-05, 1.96100897e-04, 2.11605638e-05,\n",
              "       1.69083884e-04, 3.17737358e-05, 1.57790801e-05, 2.17708017e-04,\n",
              "       7.23645935e-05, 1.93836113e-05, 1.28628555e-04, 3.17878912e-05,\n",
              "       2.24648566e-08, 6.70239103e-07], dtype=float32)"
            ]
          },
          "metadata": {
            "tags": []
          },
          "execution_count": 47
        }
      ]
    },
    {
      "cell_type": "code",
      "metadata": {
        "colab": {
          "base_uri": "https://localhost:8080/"
        },
        "id": "FFQkWuOsp4qT",
        "outputId": "caa4f16f-bebd-416b-a9aa-15a08d2e2be6"
      },
      "source": [
        "np.sum(pred_test[0]), np.argmax(pred_test[0])"
      ],
      "execution_count": 48,
      "outputs": [
        {
          "output_type": "execute_result",
          "data": {
            "text/plain": [
              "(0.9999997, 3)"
            ]
          },
          "metadata": {
            "tags": []
          },
          "execution_count": 48
        }
      ]
    },
    {
      "cell_type": "markdown",
      "metadata": {
        "id": "NM9YGI49rbZM"
      },
      "source": [
        "각 클래스라고 예측할 확률을 다 더하면 1\n",
        "\n",
        "그 중에서 가장 높은 값을 가진 index로 예측"
      ]
    },
    {
      "cell_type": "markdown",
      "metadata": {
        "id": "Yk6NEbJ7rg8r"
      },
      "source": [
        "labels를 onehot encoding 한 경우에는 손실 함수로 categorical_crossentropy를 사용하면 되고,\n",
        "\n",
        "labels를 onehot encoding 하지 않고 그대로 사용하고 싶은 경우 손실함수로 sparse_categorical_crossentropy를 사용하면 된다"
      ]
    },
    {
      "cell_type": "markdown",
      "metadata": {
        "id": "4aJvyJE9riYg"
      },
      "source": [
        "은닉층은 출력층보다 충분히 넓어야 한다. 만약 출력층보다 은닉층이 작다면 그 은닉층에서 정보의 병목 현상이 일어나게 된다.\n",
        "\n",
        "=> n-1번째 은닉층은 n번째 은닉층보다 넓은게 n-1번째 은닉층에서의 정보 병목 현상을 방지하는데 좋다."
      ]
    },
    {
      "cell_type": "markdown",
      "metadata": {
        "id": "G8pVlxjIrbf0"
      },
      "source": [
        "# 3.6 회귀 문제 : 보스턴 주택 가격 데이터셋을 이용한 가격 예측"
      ]
    },
    {
      "cell_type": "markdown",
      "metadata": {
        "id": "lt6sAGX-roB8"
      },
      "source": [
        "## 데이터 불러오기"
      ]
    },
    {
      "cell_type": "code",
      "metadata": {
        "colab": {
          "base_uri": "https://localhost:8080/"
        },
        "id": "zvr6HU4nrbj2",
        "outputId": "40dfeb80-7987-40bf-e272-2785d7209335"
      },
      "source": [
        "from keras.datasets import boston_housing\n",
        "\n",
        "(train_data, train_targets), (test_data, test_targets) = boston_housing.load_data()"
      ],
      "execution_count": 49,
      "outputs": [
        {
          "output_type": "stream",
          "text": [
            "Downloading data from https://storage.googleapis.com/tensorflow/tf-keras-datasets/boston_housing.npz\n",
            "57344/57026 [==============================] - 0s 0us/step\n"
          ],
          "name": "stdout"
        }
      ]
    },
    {
      "cell_type": "code",
      "metadata": {
        "colab": {
          "base_uri": "https://localhost:8080/"
        },
        "id": "nqIJOe7rrboi",
        "outputId": "5eab219a-d160-4ab9-b8df-363cd5e0b2de"
      },
      "source": [
        "print(train_data.shape)\n",
        "print(train_targets.shape)\n",
        "print(test_data.shape)\n",
        "print(train_targets.shape)"
      ],
      "execution_count": 50,
      "outputs": [
        {
          "output_type": "stream",
          "text": [
            "(404, 13)\n",
            "(404,)\n",
            "(102, 13)\n",
            "(404,)\n"
          ],
          "name": "stdout"
        }
      ]
    },
    {
      "cell_type": "code",
      "metadata": {
        "colab": {
          "base_uri": "https://localhost:8080/"
        },
        "id": "Xihi1kKRrbuI",
        "outputId": "b4408a1d-899c-454d-a89b-03c3b1dbc5a7"
      },
      "source": [
        "train_data[0]"
      ],
      "execution_count": 51,
      "outputs": [
        {
          "output_type": "execute_result",
          "data": {
            "text/plain": [
              "array([  1.23247,   0.     ,   8.14   ,   0.     ,   0.538  ,   6.142  ,\n",
              "        91.7    ,   3.9769 ,   4.     , 307.     ,  21.     , 396.9    ,\n",
              "        18.72   ])"
            ]
          },
          "metadata": {
            "tags": []
          },
          "execution_count": 51
        }
      ]
    },
    {
      "cell_type": "code",
      "metadata": {
        "colab": {
          "base_uri": "https://localhost:8080/"
        },
        "id": "RakUHpiErbzk",
        "outputId": "2966bd11-3dc4-4bc6-e42f-a33aa5001f77"
      },
      "source": [
        "train_targets[0:10]"
      ],
      "execution_count": 52,
      "outputs": [
        {
          "output_type": "execute_result",
          "data": {
            "text/plain": [
              "array([15.2, 42.3, 50. , 21.1, 17.7, 18.5, 11.3, 15.6, 15.6, 14.4])"
            ]
          },
          "metadata": {
            "tags": []
          },
          "execution_count": 52
        }
      ]
    },
    {
      "cell_type": "markdown",
      "metadata": {
        "id": "wiE-rk4RrsAL"
      },
      "source": [
        "변수 특성은 다음과 같습니다.\n",
        "\n",
        "1. Per capita crime rate.\n",
        "2. Proportion of residential land zoned for lots over 25,000 square feet.\n",
        "3. Proportion of non-retail business acres per town.\n",
        "4. Charles River dummy variable (= 1 if tract bounds river; 0 otherwise).\n",
        "5. Nitric oxides concentration (parts per 10 million).\n",
        "6. Average number of rooms per dwelling.\n",
        "7. Proportion of owner-occupied units built prior to 1940.\n",
        "8. Weighted distances to five Boston employment centres.\n",
        "9. Index of accessibility to radial highways.\n",
        "10. Full-value property-tax rate per $10,000.\n",
        "11. Pupil-teacher ratio by town.\n",
        "12. 1000 * (Bk - 0.63) ** 2 where Bk is the proportion of Black people by town.\n",
        "13. % lower status of the population.\n",
        "\n",
        "타깃은 주택의 중간 가격으로 천달러 단위입니다"
      ]
    },
    {
      "cell_type": "markdown",
      "metadata": {
        "id": "-6Csf825rvhD"
      },
      "source": [
        "## 데이터 준비\n",
        "\n",
        "변수의 스케일이 다르기 때문에 표준화 or 정규화 등의 방법을 이용해 스케일을 맞춰준다"
      ]
    },
    {
      "cell_type": "code",
      "metadata": {
        "id": "ZD6OzTJgrb3N"
      },
      "source": [
        "# 표준화 class 생성\n",
        "\n",
        "class Scaler:\n",
        "\n",
        "    def __init__(self):\n",
        "        self.mean = 0\n",
        "        self.std = 0\n",
        "\n",
        "    def fit(self, data):\n",
        "        self.mean = np.mean(data, axis = 0)\n",
        "        self.std = np.std(data, axis = 0)\n",
        "\n",
        "    def transform(self, data):\n",
        "        result = (data - self.mean) / self.std\n",
        "        return result\n",
        "\n",
        "    def invernse_transform(self, data):\n",
        "        result = data * self.std + self.mean\n",
        "        return result"
      ],
      "execution_count": 53,
      "outputs": []
    },
    {
      "cell_type": "code",
      "metadata": {
        "id": "V7gfpBLcrb8Q"
      },
      "source": [
        "# data와 target을 각각 표준화해준다.\n",
        "\n",
        "x_scaler = Scaler()\n",
        "\n",
        "x_scaler.fit(train_data)\n",
        "\n",
        "std_train_data = x_scaler.transform(train_data)\n",
        "std_test_data = x_scaler.transform(test_data)\n",
        "\n",
        "\n",
        "y_scaler = Scaler()\n",
        "\n",
        "y_scaler.fit(train_targets)\n",
        "\n",
        "std_train_targets = y_scaler.transform(train_targets)\n",
        "std_test_targets = y_scaler.transform(test_targets)"
      ],
      "execution_count": 54,
      "outputs": []
    },
    {
      "cell_type": "code",
      "metadata": {
        "colab": {
          "base_uri": "https://localhost:8080/"
        },
        "id": "oAjYSDl6rcCz",
        "outputId": "3216498f-0747-4d2f-d8eb-fc1525f1cebe"
      },
      "source": [
        "std_train_data[0]"
      ],
      "execution_count": 55,
      "outputs": [
        {
          "output_type": "execute_result",
          "data": {
            "text/plain": [
              "array([-0.27224633, -0.48361547, -0.43576161, -0.25683275, -0.1652266 ,\n",
              "       -0.1764426 ,  0.81306188,  0.1166983 , -0.62624905, -0.59517003,\n",
              "        1.14850044,  0.44807713,  0.8252202 ])"
            ]
          },
          "metadata": {
            "tags": []
          },
          "execution_count": 55
        }
      ]
    },
    {
      "cell_type": "markdown",
      "metadata": {
        "id": "d9grX7Spr2F7"
      },
      "source": [
        "## 모델 구성 및 교차 검증"
      ]
    },
    {
      "cell_type": "code",
      "metadata": {
        "id": "KgLtpTshrcFw"
      },
      "source": [
        "import tensorflow as tf\n",
        "from keras import models, layers\n",
        "\n",
        "def build_model():\n",
        "\n",
        "    tf.random.set_seed(20152410)\n",
        "    model = models.Sequential()\n",
        "    model.add(layers.Dense(64, activation = 'relu', input_shape = (train_data.shape[1], )))\n",
        "    model.add(layers.Dense(64, activation = 'relu'))\n",
        "    model.add(layers.Dense(1))\n",
        "\n",
        "    model.compile(optimizer = 'rmsprop',\n",
        "                  loss = 'mse',\n",
        "                  metrics = ['mae'])\n",
        "    \n",
        "    return model"
      ],
      "execution_count": 56,
      "outputs": []
    },
    {
      "cell_type": "code",
      "metadata": {
        "id": "QLR8UbWjrcK-"
      },
      "source": [
        "def cross_validation_model(train_data, train_targets, cv, epochs):\n",
        "\n",
        "    k = cv\n",
        "    n = train_data.shape[0]\n",
        "    num_val_samples = n // 4\n",
        "    num_epochs = epochs\n",
        "    history_record = []\n",
        "\n",
        "    for i in range(k):\n",
        "        print(\"처리중인 폴드 : {}\".format(i))\n",
        "\n",
        "        # train과 validation의 인덱스 구성\n",
        "        train_sample0 = np.arange(0, i * num_val_samples)\n",
        "        train_sample1 = np.arange((i + 1) * num_val_samples, n)\n",
        "        train_samples = np.concatenate([train_sample0, train_sample1])\n",
        "        val_samples = np.arange(i * num_val_samples, (i + 1) * num_val_samples)\n",
        "        \n",
        "        # train과 validation 구성\n",
        "        x_train = train_data[train_samples]\n",
        "        y_train = train_targets[train_samples]\n",
        "        x_val = train_data[val_samples]\n",
        "        y_val = train_targets[val_samples]\n",
        "\n",
        "        # 모델 학습\n",
        "        model = build_model()\n",
        "        history = model.fit(x_train,\n",
        "                            y_train,\n",
        "                            epochs = num_epochs,\n",
        "                            verbose = 0,\n",
        "                            validation_data = (x_val, y_val))\n",
        "        \n",
        "        history_record.append(history.history)\n",
        "\n",
        "    return history_record"
      ],
      "execution_count": 57,
      "outputs": []
    },
    {
      "cell_type": "code",
      "metadata": {
        "colab": {
          "base_uri": "https://localhost:8080/"
        },
        "id": "3oXKylK4rcPd",
        "outputId": "390a69e5-13b1-4381-ece8-61e1e299aa24"
      },
      "source": [
        "# epochs를 500으로 지정해서 학습 후 history 확인을 통해 epochs 결정\n",
        "\n",
        "history_record = cross_validation_model(train_data = std_train_data,\n",
        "                                        train_targets = std_train_targets,\n",
        "                                        cv = 4,\n",
        "                                        epochs = 500)"
      ],
      "execution_count": 58,
      "outputs": [
        {
          "output_type": "stream",
          "text": [
            "처리중인 폴드 : 0\n",
            "처리중인 폴드 : 1\n",
            "처리중인 폴드 : 2\n",
            "처리중인 폴드 : 3\n"
          ],
          "name": "stdout"
        }
      ]
    },
    {
      "cell_type": "code",
      "metadata": {
        "id": "EZU3sdOkrcU8"
      },
      "source": [
        "def cv_result(history, keys):\n",
        "\n",
        "    n = len(history)\n",
        "    result = np.zeros((len(history[0][keys]), ))\n",
        "    \n",
        "    for i in range(n):\n",
        "        result += np.array(history[i][keys])\n",
        "\n",
        "    result = result / n\n",
        "    return result"
      ],
      "execution_count": 59,
      "outputs": []
    },
    {
      "cell_type": "code",
      "metadata": {
        "id": "f6o2z3Sqrca9"
      },
      "source": [
        "cv_loss = cv_result(history_record, keys = \"loss\")\n",
        "cv_mae = cv_result(history_record, keys = \"mae\")\n",
        "cv_val_loss = cv_result(history_record, keys = \"val_loss\")\n",
        "cv_val_mae = cv_result(history_record, keys = \"val_mae\")"
      ],
      "execution_count": 60,
      "outputs": []
    },
    {
      "cell_type": "code",
      "metadata": {
        "colab": {
          "base_uri": "https://localhost:8080/",
          "height": 297
        },
        "id": "LJuAznLdrcgK",
        "outputId": "7af2b047-b4d6-4965-ab35-14531cad7cfa"
      },
      "source": [
        "# train loss, validation loss 그래프 확인\n",
        "\n",
        "epochs = np.arange(1, 501)\n",
        "\n",
        "plt.figure(figsize = (8, 4))\n",
        "plt.plot(epochs, cv_loss, 'b-', label = \"train loss\", markersize = 3)\n",
        "plt.plot(epochs, cv_val_loss, 'r-', label = \"val loss\", markersize = 3)\n",
        "\n",
        "plt.title(\"Cross Validation of train and val loss\", fontsize = 15)\n",
        "plt.xlabel(\"Epochs\")\n",
        "plt.ylabel('Loss')\n",
        "plt.legend()\n",
        "\n",
        "plt.tight_layout()\n",
        "plt.show()"
      ],
      "execution_count": 61,
      "outputs": [
        {
          "output_type": "display_data",
          "data": {
            "image/png": "[encoded data removed]",
            "text/plain": [
              "<Figure size 576x288 with 1 Axes>"
            ]
          },
          "metadata": {
            "tags": [],
            "needs_background": "light"
          }
        }
      ]
    },
    {
      "cell_type": "code",
      "metadata": {
        "colab": {
          "base_uri": "https://localhost:8080/",
          "height": 297
        },
        "id": "9M3MTTdnrcjJ",
        "outputId": "03a3ca7a-c79c-4b6c-f8f9-66ce21da2e14"
      },
      "source": [
        "# train loss, validation loss 그래프 확인\n",
        "\n",
        "epochs = np.arange(1, 501)\n",
        "\n",
        "plt.figure(figsize = (8, 4))\n",
        "plt.plot(epochs, cv_mae, 'b-', label = \"train mae\", markersize = 3)\n",
        "plt.plot(epochs, cv_val_mae, 'r-', label = \"val mae\", markersize = 3)\n",
        "\n",
        "plt.title(\"Cross Validation of train and val mae\", fontsize = 15)\n",
        "plt.xlabel(\"Epochs\")\n",
        "plt.ylabel('Mae')\n",
        "plt.legend()\n",
        "\n",
        "plt.tight_layout()\n",
        "plt.show()"
      ],
      "execution_count": 62,
      "outputs": [
        {
          "output_type": "display_data",
          "data": {
            "image/png": "[encoded data removed]",
            "text/plain": [
              "<Figure size 576x288 with 1 Axes>"
            ]
          },
          "metadata": {
            "tags": [],
            "needs_background": "light"
          }
        }
      ]
    },
    {
      "cell_type": "markdown",
      "metadata": {
        "id": "0GraNgCjr_VK"
      },
      "source": [
        "40 ~ 60 정도만 되도 validation loss와 validation mae는 더 이상 감소하지 않는 것을 확인할 수 있다."
      ]
    },
    {
      "cell_type": "code",
      "metadata": {
        "colab": {
          "base_uri": "https://localhost:8080/"
        },
        "id": "7fgKTkMwrcpF",
        "outputId": "9cc03c14-7fbb-4e38-ccdc-d70d3114b84e"
      },
      "source": [
        "np.argmin(cv_val_mae)"
      ],
      "execution_count": 63,
      "outputs": [
        {
          "output_type": "execute_result",
          "data": {
            "text/plain": [
              "52"
            ]
          },
          "metadata": {
            "tags": []
          },
          "execution_count": 63
        }
      ]
    },
    {
      "cell_type": "markdown",
      "metadata": {
        "id": "3DUZ6lossCLC"
      },
      "source": [
        "52번째 epochs에서 cv validation mae가 가장 작은 값을 기록한다. 따라서 epochs = 52로 최종 모델을 학습하고 난 후 target을 원래의 스케일로 바꿔준 뒤 최종 모델의 성능 평가를 진행하도록 하겠다."
      ]
    },
    {
      "cell_type": "markdown",
      "metadata": {
        "id": "6d9CsXgssDkZ"
      },
      "source": [
        "## 최종 모델 학습 및 결과 평가"
      ]
    },
    {
      "cell_type": "code",
      "metadata": {
        "colab": {
          "base_uri": "https://localhost:8080/"
        },
        "id": "wQUP2bhOrctI",
        "outputId": "48b33f00-efa4-494e-81ee-0acf8efc6bdd"
      },
      "source": [
        "model = build_model()\n",
        "\n",
        "# cv 결과로 가장 적합하다고 평가받았던 epochs = 52를 이용하여 모델 학습\n",
        "\n",
        "model.fit(std_train_data,\n",
        "          std_train_targets,\n",
        "          epochs = 52)\n",
        "\n",
        "result = model.evaluate(std_test_data, std_test_targets)"
      ],
      "execution_count": 64,
      "outputs": [
        {
          "output_type": "stream",
          "text": [
            "Epoch 1/52\n",
            "13/13 [==============================] - 1s 1ms/step - loss: 0.7137 - mae: 0.5798\n",
            "Epoch 2/52\n",
            "13/13 [==============================] - 0s 2ms/step - loss: 0.3115 - mae: 0.3640\n",
            "Epoch 3/52\n",
            "13/13 [==============================] - 0s 2ms/step - loss: 0.2677 - mae: 0.3430\n",
            "Epoch 4/52\n",
            "13/13 [==============================] - 0s 1ms/step - loss: 0.2382 - mae: 0.3054\n",
            "Epoch 5/52\n",
            "13/13 [==============================] - 0s 1ms/step - loss: 0.2354 - mae: 0.2931\n",
            "Epoch 6/52\n",
            "13/13 [==============================] - 0s 2ms/step - loss: 0.1759 - mae: 0.2586\n",
            "Epoch 7/52\n",
            "13/13 [==============================] - 0s 2ms/step - loss: 0.1216 - mae: 0.2272\n",
            "Epoch 8/52\n",
            "13/13 [==============================] - 0s 2ms/step - loss: 0.1550 - mae: 0.2461\n",
            "Epoch 9/52\n",
            "13/13 [==============================] - 0s 2ms/step - loss: 0.1235 - mae: 0.2367\n",
            "Epoch 10/52\n",
            "13/13 [==============================] - 0s 1ms/step - loss: 0.1280 - mae: 0.2305\n",
            "Epoch 11/52\n",
            "13/13 [==============================] - 0s 1ms/step - loss: 0.1435 - mae: 0.2241\n",
            "Epoch 12/52\n",
            "13/13 [==============================] - 0s 2ms/step - loss: 0.0886 - mae: 0.1991\n",
            "Epoch 13/52\n",
            "13/13 [==============================] - 0s 2ms/step - loss: 0.0885 - mae: 0.2020\n",
            "Epoch 14/52\n",
            "13/13 [==============================] - 0s 2ms/step - loss: 0.0739 - mae: 0.1897\n",
            "Epoch 15/52\n",
            "13/13 [==============================] - 0s 2ms/step - loss: 0.0756 - mae: 0.1900\n",
            "Epoch 16/52\n",
            "13/13 [==============================] - 0s 2ms/step - loss: 0.0812 - mae: 0.1843\n",
            "Epoch 17/52\n",
            "13/13 [==============================] - 0s 2ms/step - loss: 0.0849 - mae: 0.1929\n",
            "Epoch 18/52\n",
            "13/13 [==============================] - 0s 2ms/step - loss: 0.0588 - mae: 0.1780\n",
            "Epoch 19/52\n",
            "13/13 [==============================] - 0s 1ms/step - loss: 0.0700 - mae: 0.1888\n",
            "Epoch 20/52\n",
            "13/13 [==============================] - 0s 2ms/step - loss: 0.0875 - mae: 0.1912\n",
            "Epoch 21/52\n",
            "13/13 [==============================] - 0s 1ms/step - loss: 0.0779 - mae: 0.1829\n",
            "Epoch 22/52\n",
            "13/13 [==============================] - 0s 1ms/step - loss: 0.0625 - mae: 0.1799\n",
            "Epoch 23/52\n",
            "13/13 [==============================] - 0s 2ms/step - loss: 0.0708 - mae: 0.1804\n",
            "Epoch 24/52\n",
            "13/13 [==============================] - 0s 2ms/step - loss: 0.0682 - mae: 0.1760\n",
            "Epoch 25/52\n",
            "13/13 [==============================] - 0s 2ms/step - loss: 0.0824 - mae: 0.1852\n",
            "Epoch 26/52\n",
            "13/13 [==============================] - 0s 2ms/step - loss: 0.0527 - mae: 0.1644\n",
            "Epoch 27/52\n",
            "13/13 [==============================] - 0s 2ms/step - loss: 0.0781 - mae: 0.1876\n",
            "Epoch 28/52\n",
            "13/13 [==============================] - 0s 1ms/step - loss: 0.0581 - mae: 0.1634\n",
            "Epoch 29/52\n",
            "13/13 [==============================] - 0s 2ms/step - loss: 0.0590 - mae: 0.1693\n",
            "Epoch 30/52\n",
            "13/13 [==============================] - 0s 1ms/step - loss: 0.0556 - mae: 0.1711\n",
            "Epoch 31/52\n",
            "13/13 [==============================] - 0s 2ms/step - loss: 0.0556 - mae: 0.1549\n",
            "Epoch 32/52\n",
            "13/13 [==============================] - 0s 2ms/step - loss: 0.0508 - mae: 0.1559\n",
            "Epoch 33/52\n",
            "13/13 [==============================] - 0s 2ms/step - loss: 0.0531 - mae: 0.1548\n",
            "Epoch 34/52\n",
            "13/13 [==============================] - 0s 2ms/step - loss: 0.0563 - mae: 0.1543\n",
            "Epoch 35/52\n",
            "13/13 [==============================] - 0s 1ms/step - loss: 0.0533 - mae: 0.1586\n",
            "Epoch 36/52\n",
            "13/13 [==============================] - 0s 2ms/step - loss: 0.0498 - mae: 0.1502\n",
            "Epoch 37/52\n",
            "13/13 [==============================] - 0s 2ms/step - loss: 0.0474 - mae: 0.1500\n",
            "Epoch 38/52\n",
            "13/13 [==============================] - 0s 1ms/step - loss: 0.0475 - mae: 0.1535\n",
            "Epoch 39/52\n",
            "13/13 [==============================] - 0s 2ms/step - loss: 0.0397 - mae: 0.1447\n",
            "Epoch 40/52\n",
            "13/13 [==============================] - 0s 2ms/step - loss: 0.0555 - mae: 0.1550\n",
            "Epoch 41/52\n",
            "13/13 [==============================] - 0s 1ms/step - loss: 0.0327 - mae: 0.1257\n",
            "Epoch 42/52\n",
            "13/13 [==============================] - 0s 2ms/step - loss: 0.0373 - mae: 0.1340\n",
            "Epoch 43/52\n",
            "13/13 [==============================] - 0s 2ms/step - loss: 0.0445 - mae: 0.1529\n",
            "Epoch 44/52\n",
            "13/13 [==============================] - 0s 2ms/step - loss: 0.0485 - mae: 0.1487\n",
            "Epoch 45/52\n",
            "13/13 [==============================] - 0s 2ms/step - loss: 0.0432 - mae: 0.1491\n",
            "Epoch 46/52\n",
            "13/13 [==============================] - 0s 1ms/step - loss: 0.0383 - mae: 0.1370\n",
            "Epoch 47/52\n",
            "13/13 [==============================] - 0s 2ms/step - loss: 0.0419 - mae: 0.1510\n",
            "Epoch 48/52\n",
            "13/13 [==============================] - 0s 2ms/step - loss: 0.0450 - mae: 0.1416\n",
            "Epoch 49/52\n",
            "13/13 [==============================] - 0s 2ms/step - loss: 0.0410 - mae: 0.1445\n",
            "Epoch 50/52\n",
            "13/13 [==============================] - 0s 2ms/step - loss: 0.0386 - mae: 0.1430\n",
            "Epoch 51/52\n",
            "13/13 [==============================] - 0s 2ms/step - loss: 0.0335 - mae: 0.1348\n",
            "Epoch 52/52\n",
            "13/13 [==============================] - 0s 2ms/step - loss: 0.0437 - mae: 0.1442\n",
            "4/4 [==============================] - 0s 3ms/step - loss: 0.1859 - mae: 0.2862\n"
          ],
          "name": "stdout"
        }
      ]
    },
    {
      "cell_type": "code",
      "metadata": {
        "colab": {
          "base_uri": "https://localhost:8080/"
        },
        "id": "RDe0FIpercxW",
        "outputId": "af0c4122-fc35-4a6a-84d3-1594c1272a10"
      },
      "source": [
        "print(\"최종 모델의 표준화된 test target에 대한 mse : {}\".format(result[0]))\n",
        "print(\"최종 모델의 표준화된 test target에 대한 mae : {}\".format(result[1]))\n",
        "\n",
        "pred_std_y_test = model.predict(std_test_data)\n",
        "pred_y_test = y_scaler.invernse_transform(pred_std_y_test).reshape(-1)\n",
        "\n",
        "test_mse = np.mean((test_targets - pred_y_test)**2)\n",
        "test_mae = np.mean(np.abs(test_targets - pred_y_test))\n",
        "\n",
        "print(\"최종 모델의 test mse : {}\".format(test_mse))\n",
        "print(\"최종 모델의 test mse : {}\".format(test_mae))"
      ],
      "execution_count": 65,
      "outputs": [
        {
          "output_type": "stream",
          "text": [
            "최종 모델의 표준화된 test target에 대한 mse : 0.18589599430561066\n",
            "최종 모델의 표준화된 test target에 대한 mae : 0.28617045283317566\n",
            "최종 모델의 test mse : 15.73093703001637\n",
            "최종 모델의 test mse : 2.6324919775420548\n"
          ],
          "name": "stdout"
        }
      ]
    }
  ]
}